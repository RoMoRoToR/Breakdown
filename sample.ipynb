{
 "cells": [
  {
   "cell_type": "code",
   "outputs": [
    {
     "ename": "ValueError",
     "evalue": "'2023-01-01 01:01:00' is not compatible with origin='1899-12-30'; it must be numeric with a unit specified",
     "output_type": "error",
     "traceback": [
      "\u001B[0;31m---------------------------------------------------------------------------\u001B[0m",
      "\u001B[0;31mValueError\u001B[0m                                Traceback (most recent call last)",
      "Input \u001B[0;32mIn [1]\u001B[0m, in \u001B[0;36m<cell line: 12>\u001B[0;34m()\u001B[0m\n\u001B[1;32m      9\u001B[0m     \u001B[38;5;28;01mreturn\u001B[39;00m pd\u001B[38;5;241m.\u001B[39mto_datetime(unixtime, unit\u001B[38;5;241m=\u001B[39m\u001B[38;5;124m'\u001B[39m\u001B[38;5;124mD\u001B[39m\u001B[38;5;124m'\u001B[39m, origin\u001B[38;5;241m=\u001B[39m\u001B[38;5;124m'\u001B[39m\u001B[38;5;124m1899-12-30\u001B[39m\u001B[38;5;124m'\u001B[39m)\n\u001B[1;32m     11\u001B[0m \u001B[38;5;66;03m# Преобразование столбцов с Unix time в стандартное время\u001B[39;00m\n\u001B[0;32m---> 12\u001B[0m data[\u001B[38;5;124m'\u001B[39m\u001B[38;5;124mТ события\u001B[39m\u001B[38;5;124m'\u001B[39m] \u001B[38;5;241m=\u001B[39m \u001B[43mdata\u001B[49m\u001B[43m[\u001B[49m\u001B[38;5;124;43m'\u001B[39;49m\u001B[38;5;124;43mТ события\u001B[39;49m\u001B[38;5;124;43m'\u001B[39;49m\u001B[43m]\u001B[49m\u001B[38;5;241;43m.\u001B[39;49m\u001B[43mapply\u001B[49m\u001B[43m(\u001B[49m\u001B[43mconvert_unixtime_to_datetime\u001B[49m\u001B[43m)\u001B[49m\n\u001B[1;32m     13\u001B[0m data[\u001B[38;5;124m'\u001B[39m\u001B[38;5;124mКрайний срок\u001B[39m\u001B[38;5;124m'\u001B[39m] \u001B[38;5;241m=\u001B[39m data[\u001B[38;5;124m'\u001B[39m\u001B[38;5;124mКрайний срок\u001B[39m\u001B[38;5;124m'\u001B[39m]\u001B[38;5;241m.\u001B[39mapply(convert_unixtime_to_datetime)\n\u001B[1;32m     17\u001B[0m \u001B[38;5;66;03m# Сохранение данных\u001B[39;00m\n",
      "File \u001B[0;32m~/opt/anaconda3/lib/python3.9/site-packages/pandas/core/series.py:4433\u001B[0m, in \u001B[0;36mSeries.apply\u001B[0;34m(self, func, convert_dtype, args, **kwargs)\u001B[0m\n\u001B[1;32m   4323\u001B[0m \u001B[38;5;28;01mdef\u001B[39;00m \u001B[38;5;21mapply\u001B[39m(\n\u001B[1;32m   4324\u001B[0m     \u001B[38;5;28mself\u001B[39m,\n\u001B[1;32m   4325\u001B[0m     func: AggFuncType,\n\u001B[0;32m   (...)\u001B[0m\n\u001B[1;32m   4328\u001B[0m     \u001B[38;5;241m*\u001B[39m\u001B[38;5;241m*\u001B[39mkwargs,\n\u001B[1;32m   4329\u001B[0m ) \u001B[38;5;241m-\u001B[39m\u001B[38;5;241m>\u001B[39m DataFrame \u001B[38;5;241m|\u001B[39m Series:\n\u001B[1;32m   4330\u001B[0m     \u001B[38;5;124;03m\"\"\"\u001B[39;00m\n\u001B[1;32m   4331\u001B[0m \u001B[38;5;124;03m    Invoke function on values of Series.\u001B[39;00m\n\u001B[1;32m   4332\u001B[0m \n\u001B[0;32m   (...)\u001B[0m\n\u001B[1;32m   4431\u001B[0m \u001B[38;5;124;03m    dtype: float64\u001B[39;00m\n\u001B[1;32m   4432\u001B[0m \u001B[38;5;124;03m    \"\"\"\u001B[39;00m\n\u001B[0;32m-> 4433\u001B[0m     \u001B[38;5;28;01mreturn\u001B[39;00m \u001B[43mSeriesApply\u001B[49m\u001B[43m(\u001B[49m\u001B[38;5;28;43mself\u001B[39;49m\u001B[43m,\u001B[49m\u001B[43m \u001B[49m\u001B[43mfunc\u001B[49m\u001B[43m,\u001B[49m\u001B[43m \u001B[49m\u001B[43mconvert_dtype\u001B[49m\u001B[43m,\u001B[49m\u001B[43m \u001B[49m\u001B[43margs\u001B[49m\u001B[43m,\u001B[49m\u001B[43m \u001B[49m\u001B[43mkwargs\u001B[49m\u001B[43m)\u001B[49m\u001B[38;5;241;43m.\u001B[39;49m\u001B[43mapply\u001B[49m\u001B[43m(\u001B[49m\u001B[43m)\u001B[49m\n",
      "File \u001B[0;32m~/opt/anaconda3/lib/python3.9/site-packages/pandas/core/apply.py:1082\u001B[0m, in \u001B[0;36mSeriesApply.apply\u001B[0;34m(self)\u001B[0m\n\u001B[1;32m   1078\u001B[0m \u001B[38;5;28;01mif\u001B[39;00m \u001B[38;5;28misinstance\u001B[39m(\u001B[38;5;28mself\u001B[39m\u001B[38;5;241m.\u001B[39mf, \u001B[38;5;28mstr\u001B[39m):\n\u001B[1;32m   1079\u001B[0m     \u001B[38;5;66;03m# if we are a string, try to dispatch\u001B[39;00m\n\u001B[1;32m   1080\u001B[0m     \u001B[38;5;28;01mreturn\u001B[39;00m \u001B[38;5;28mself\u001B[39m\u001B[38;5;241m.\u001B[39mapply_str()\n\u001B[0;32m-> 1082\u001B[0m \u001B[38;5;28;01mreturn\u001B[39;00m \u001B[38;5;28;43mself\u001B[39;49m\u001B[38;5;241;43m.\u001B[39;49m\u001B[43mapply_standard\u001B[49m\u001B[43m(\u001B[49m\u001B[43m)\u001B[49m\n",
      "File \u001B[0;32m~/opt/anaconda3/lib/python3.9/site-packages/pandas/core/apply.py:1137\u001B[0m, in \u001B[0;36mSeriesApply.apply_standard\u001B[0;34m(self)\u001B[0m\n\u001B[1;32m   1131\u001B[0m         values \u001B[38;5;241m=\u001B[39m obj\u001B[38;5;241m.\u001B[39mastype(\u001B[38;5;28mobject\u001B[39m)\u001B[38;5;241m.\u001B[39m_values\n\u001B[1;32m   1132\u001B[0m         \u001B[38;5;66;03m# error: Argument 2 to \"map_infer\" has incompatible type\u001B[39;00m\n\u001B[1;32m   1133\u001B[0m         \u001B[38;5;66;03m# \"Union[Callable[..., Any], str, List[Union[Callable[..., Any], str]],\u001B[39;00m\n\u001B[1;32m   1134\u001B[0m         \u001B[38;5;66;03m# Dict[Hashable, Union[Union[Callable[..., Any], str],\u001B[39;00m\n\u001B[1;32m   1135\u001B[0m         \u001B[38;5;66;03m# List[Union[Callable[..., Any], str]]]]]\"; expected\u001B[39;00m\n\u001B[1;32m   1136\u001B[0m         \u001B[38;5;66;03m# \"Callable[[Any], Any]\"\u001B[39;00m\n\u001B[0;32m-> 1137\u001B[0m         mapped \u001B[38;5;241m=\u001B[39m \u001B[43mlib\u001B[49m\u001B[38;5;241;43m.\u001B[39;49m\u001B[43mmap_infer\u001B[49m\u001B[43m(\u001B[49m\n\u001B[1;32m   1138\u001B[0m \u001B[43m            \u001B[49m\u001B[43mvalues\u001B[49m\u001B[43m,\u001B[49m\n\u001B[1;32m   1139\u001B[0m \u001B[43m            \u001B[49m\u001B[43mf\u001B[49m\u001B[43m,\u001B[49m\u001B[43m  \u001B[49m\u001B[38;5;66;43;03m# type: ignore[arg-type]\u001B[39;49;00m\n\u001B[1;32m   1140\u001B[0m \u001B[43m            \u001B[49m\u001B[43mconvert\u001B[49m\u001B[38;5;241;43m=\u001B[39;49m\u001B[38;5;28;43mself\u001B[39;49m\u001B[38;5;241;43m.\u001B[39;49m\u001B[43mconvert_dtype\u001B[49m\u001B[43m,\u001B[49m\n\u001B[1;32m   1141\u001B[0m \u001B[43m        \u001B[49m\u001B[43m)\u001B[49m\n\u001B[1;32m   1143\u001B[0m \u001B[38;5;28;01mif\u001B[39;00m \u001B[38;5;28mlen\u001B[39m(mapped) \u001B[38;5;129;01mand\u001B[39;00m \u001B[38;5;28misinstance\u001B[39m(mapped[\u001B[38;5;241m0\u001B[39m], ABCSeries):\n\u001B[1;32m   1144\u001B[0m     \u001B[38;5;66;03m# GH#43986 Need to do list(mapped) in order to get treated as nested\u001B[39;00m\n\u001B[1;32m   1145\u001B[0m     \u001B[38;5;66;03m#  See also GH#25959 regarding EA support\u001B[39;00m\n\u001B[1;32m   1146\u001B[0m     \u001B[38;5;28;01mreturn\u001B[39;00m obj\u001B[38;5;241m.\u001B[39m_constructor_expanddim(\u001B[38;5;28mlist\u001B[39m(mapped), index\u001B[38;5;241m=\u001B[39mobj\u001B[38;5;241m.\u001B[39mindex)\n",
      "File \u001B[0;32m~/opt/anaconda3/lib/python3.9/site-packages/pandas/_libs/lib.pyx:2870\u001B[0m, in \u001B[0;36mpandas._libs.lib.map_infer\u001B[0;34m()\u001B[0m\n",
      "Input \u001B[0;32mIn [1]\u001B[0m, in \u001B[0;36mconvert_unixtime_to_datetime\u001B[0;34m(unixtime)\u001B[0m\n\u001B[1;32m      8\u001B[0m \u001B[38;5;28;01mdef\u001B[39;00m \u001B[38;5;21mconvert_unixtime_to_datetime\u001B[39m(unixtime):\n\u001B[0;32m----> 9\u001B[0m     \u001B[38;5;28;01mreturn\u001B[39;00m \u001B[43mpd\u001B[49m\u001B[38;5;241;43m.\u001B[39;49m\u001B[43mto_datetime\u001B[49m\u001B[43m(\u001B[49m\u001B[43munixtime\u001B[49m\u001B[43m,\u001B[49m\u001B[43m \u001B[49m\u001B[43munit\u001B[49m\u001B[38;5;241;43m=\u001B[39;49m\u001B[38;5;124;43m'\u001B[39;49m\u001B[38;5;124;43mD\u001B[39;49m\u001B[38;5;124;43m'\u001B[39;49m\u001B[43m,\u001B[49m\u001B[43m \u001B[49m\u001B[43morigin\u001B[49m\u001B[38;5;241;43m=\u001B[39;49m\u001B[38;5;124;43m'\u001B[39;49m\u001B[38;5;124;43m1899-12-30\u001B[39;49m\u001B[38;5;124;43m'\u001B[39;49m\u001B[43m)\u001B[49m\n",
      "File \u001B[0;32m~/opt/anaconda3/lib/python3.9/site-packages/pandas/core/tools/datetimes.py:1023\u001B[0m, in \u001B[0;36mto_datetime\u001B[0;34m(arg, errors, dayfirst, yearfirst, utc, format, exact, unit, infer_datetime_format, origin, cache)\u001B[0m\n\u001B[1;32m   1020\u001B[0m     \u001B[38;5;28;01mreturn\u001B[39;00m \u001B[38;5;28;01mNone\u001B[39;00m\n\u001B[1;32m   1022\u001B[0m \u001B[38;5;28;01mif\u001B[39;00m origin \u001B[38;5;241m!=\u001B[39m \u001B[38;5;124m\"\u001B[39m\u001B[38;5;124munix\u001B[39m\u001B[38;5;124m\"\u001B[39m:\n\u001B[0;32m-> 1023\u001B[0m     arg \u001B[38;5;241m=\u001B[39m \u001B[43m_adjust_to_origin\u001B[49m\u001B[43m(\u001B[49m\u001B[43marg\u001B[49m\u001B[43m,\u001B[49m\u001B[43m \u001B[49m\u001B[43morigin\u001B[49m\u001B[43m,\u001B[49m\u001B[43m \u001B[49m\u001B[43munit\u001B[49m\u001B[43m)\u001B[49m\n\u001B[1;32m   1025\u001B[0m tz \u001B[38;5;241m=\u001B[39m \u001B[38;5;124m\"\u001B[39m\u001B[38;5;124mutc\u001B[39m\u001B[38;5;124m\"\u001B[39m \u001B[38;5;28;01mif\u001B[39;00m utc \u001B[38;5;28;01melse\u001B[39;00m \u001B[38;5;28;01mNone\u001B[39;00m\n\u001B[1;32m   1026\u001B[0m convert_listlike \u001B[38;5;241m=\u001B[39m partial(\n\u001B[1;32m   1027\u001B[0m     _convert_listlike_datetimes,\n\u001B[1;32m   1028\u001B[0m     tz\u001B[38;5;241m=\u001B[39mtz,\n\u001B[0;32m   (...)\u001B[0m\n\u001B[1;32m   1034\u001B[0m     infer_datetime_format\u001B[38;5;241m=\u001B[39minfer_datetime_format,\n\u001B[1;32m   1035\u001B[0m )\n",
      "File \u001B[0;32m~/opt/anaconda3/lib/python3.9/site-packages/pandas/core/tools/datetimes.py:597\u001B[0m, in \u001B[0;36m_adjust_to_origin\u001B[0;34m(arg, origin, unit)\u001B[0m\n\u001B[1;32m    591\u001B[0m \u001B[38;5;28;01melse\u001B[39;00m:\n\u001B[1;32m    592\u001B[0m     \u001B[38;5;66;03m# arg must be numeric\u001B[39;00m\n\u001B[1;32m    593\u001B[0m     \u001B[38;5;28;01mif\u001B[39;00m \u001B[38;5;129;01mnot\u001B[39;00m (\n\u001B[1;32m    594\u001B[0m         (is_scalar(arg) \u001B[38;5;129;01mand\u001B[39;00m (is_integer(arg) \u001B[38;5;129;01mor\u001B[39;00m is_float(arg)))\n\u001B[1;32m    595\u001B[0m         \u001B[38;5;129;01mor\u001B[39;00m is_numeric_dtype(np\u001B[38;5;241m.\u001B[39masarray(arg))\n\u001B[1;32m    596\u001B[0m     ):\n\u001B[0;32m--> 597\u001B[0m         \u001B[38;5;28;01mraise\u001B[39;00m \u001B[38;5;167;01mValueError\u001B[39;00m(\n\u001B[1;32m    598\u001B[0m             \u001B[38;5;124mf\u001B[39m\u001B[38;5;124m\"\u001B[39m\u001B[38;5;124m'\u001B[39m\u001B[38;5;132;01m{\u001B[39;00marg\u001B[38;5;132;01m}\u001B[39;00m\u001B[38;5;124m'\u001B[39m\u001B[38;5;124m is not compatible with origin=\u001B[39m\u001B[38;5;124m'\u001B[39m\u001B[38;5;132;01m{\u001B[39;00morigin\u001B[38;5;132;01m}\u001B[39;00m\u001B[38;5;124m'\u001B[39m\u001B[38;5;124m; \u001B[39m\u001B[38;5;124m\"\u001B[39m\n\u001B[1;32m    599\u001B[0m             \u001B[38;5;124m\"\u001B[39m\u001B[38;5;124mit must be numeric with a unit specified\u001B[39m\u001B[38;5;124m\"\u001B[39m\n\u001B[1;32m    600\u001B[0m         )\n\u001B[1;32m    602\u001B[0m     \u001B[38;5;66;03m# we are going to offset back to unix / epoch time\u001B[39;00m\n\u001B[1;32m    603\u001B[0m     \u001B[38;5;28;01mtry\u001B[39;00m:\n",
      "\u001B[0;31mValueError\u001B[0m: '2023-01-01 01:01:00' is not compatible with origin='1899-12-30'; it must be numeric with a unit specified"
     ]
    }
   ],
   "source": [
    "import time\n",
    "\n",
    "import pandas as pd\n",
    "\n",
    "file_path = '2023.xlsx'\n",
    "data = pd.read_excel(file_path)\n",
    "\n",
    "def convert_unixtime_to_datetime(unixtime):\n",
    "    return pd.to_datetime(unixtime, unit='D', origin='1899-12-30')\n",
    "\n",
    "# Преобразование столбцов с Unix time в стандартное время\n",
    "data['Т события'] = data['Т события'].apply(convert_unixtime_to_datetime)\n",
    "data['Крайний срок'] = data['Крайний срок'].apply(convert_unixtime_to_datetime)\n",
    "\n",
    "\n",
    "\n",
    "# Сохранение данных\n",
    "data.to_excel('data4.xlsx', index=False)\n"
   ],
   "metadata": {
    "collapsed": false,
    "ExecuteTime": {
     "end_time": "2024-03-04T10:28:37.718976Z",
     "start_time": "2024-03-04T10:28:29.741792Z"
    }
   },
   "id": "f5ee8942a95d97d5",
   "execution_count": 1
  },
  {
   "cell_type": "code",
   "outputs": [
    {
     "data": {
      "text/plain": "['Requirement already satisfied: openstreetmap in /Users/zamotaevrodion/opt/anaconda3/lib/python3.9/site-packages (0.0.19)',\n 'Requirement already satisfied: requests in /Users/zamotaevrodion/opt/anaconda3/lib/python3.9/site-packages (from openstreetmap) (2.27.1)',\n 'Requirement already satisfied: lxml in /Users/zamotaevrodion/opt/anaconda3/lib/python3.9/site-packages (from openstreetmap) (4.8.0)',\n 'Requirement already satisfied: certifi>=2017.4.17 in /Users/zamotaevrodion/opt/anaconda3/lib/python3.9/site-packages (from requests->openstreetmap) (2021.10.8)',\n 'Requirement already satisfied: charset-normalizer~=2.0.0 in /Users/zamotaevrodion/opt/anaconda3/lib/python3.9/site-packages (from requests->openstreetmap) (2.0.4)',\n 'Requirement already satisfied: idna<4,>=2.5 in /Users/zamotaevrodion/opt/anaconda3/lib/python3.9/site-packages (from requests->openstreetmap) (3.3)',\n 'Requirement already satisfied: urllib3<1.27,>=1.21.1 in /Users/zamotaevrodion/opt/anaconda3/lib/python3.9/site-packages (from requests->openstreetmap) (1.26.9)']"
     },
     "execution_count": 7,
     "metadata": {},
     "output_type": "execute_result"
    }
   ],
   "source": [
    "!! pip install openstreetmap"
   ],
   "metadata": {
    "collapsed": false,
    "ExecuteTime": {
     "end_time": "2024-01-30T18:27:59.454782Z",
     "start_time": "2024-01-30T18:27:55.029214Z"
    }
   },
   "id": "e7181d53335a8b9d",
   "execution_count": 7
  },
  {
   "cell_type": "code",
   "outputs": [
    {
     "data": {
      "text/plain": "['Requirement already satisfied: osmnx in /Users/zamotaevrodion/opt/anaconda3/lib/python3.9/site-packages (1.8.1)',\n 'Requirement already satisfied: pandas>=1.1 in /Users/zamotaevrodion/opt/anaconda3/lib/python3.9/site-packages (from osmnx) (1.4.2)',\n 'Requirement already satisfied: shapely>=2.0 in /Users/zamotaevrodion/opt/anaconda3/lib/python3.9/site-packages (from osmnx) (2.0.2)',\n 'Requirement already satisfied: numpy>=1.20 in /Users/zamotaevrodion/opt/anaconda3/lib/python3.9/site-packages (from osmnx) (1.21.5)',\n 'Requirement already satisfied: geopandas>=0.12 in /Users/zamotaevrodion/opt/anaconda3/lib/python3.9/site-packages (from osmnx) (0.14.2)',\n 'Requirement already satisfied: requests>=2.27 in /Users/zamotaevrodion/opt/anaconda3/lib/python3.9/site-packages (from osmnx) (2.27.1)',\n 'Requirement already satisfied: networkx>=2.5 in /Users/zamotaevrodion/opt/anaconda3/lib/python3.9/site-packages (from osmnx) (2.7.1)',\n 'Requirement already satisfied: packaging in /Users/zamotaevrodion/opt/anaconda3/lib/python3.9/site-packages (from geopandas>=0.12->osmnx) (21.3)',\n 'Requirement already satisfied: fiona>=1.8.21 in /Users/zamotaevrodion/opt/anaconda3/lib/python3.9/site-packages (from geopandas>=0.12->osmnx) (1.9.5)',\n 'Requirement already satisfied: pyproj>=3.3.0 in /Users/zamotaevrodion/opt/anaconda3/lib/python3.9/site-packages (from geopandas>=0.12->osmnx) (3.6.1)',\n 'Requirement already satisfied: attrs>=19.2.0 in /Users/zamotaevrodion/opt/anaconda3/lib/python3.9/site-packages (from fiona>=1.8.21->geopandas>=0.12->osmnx) (21.4.0)',\n 'Requirement already satisfied: cligj>=0.5 in /Users/zamotaevrodion/opt/anaconda3/lib/python3.9/site-packages (from fiona>=1.8.21->geopandas>=0.12->osmnx) (0.7.2)',\n 'Requirement already satisfied: importlib-metadata in /Users/zamotaevrodion/opt/anaconda3/lib/python3.9/site-packages (from fiona>=1.8.21->geopandas>=0.12->osmnx) (4.11.3)',\n 'Requirement already satisfied: click-plugins>=1.0 in /Users/zamotaevrodion/opt/anaconda3/lib/python3.9/site-packages (from fiona>=1.8.21->geopandas>=0.12->osmnx) (1.1.1)',\n 'Requirement already satisfied: six in /Users/zamotaevrodion/opt/anaconda3/lib/python3.9/site-packages (from fiona>=1.8.21->geopandas>=0.12->osmnx) (1.16.0)',\n 'Requirement already satisfied: setuptools in /Users/zamotaevrodion/opt/anaconda3/lib/python3.9/site-packages (from fiona>=1.8.21->geopandas>=0.12->osmnx) (61.2.0)',\n 'Requirement already satisfied: click~=8.0 in /Users/zamotaevrodion/opt/anaconda3/lib/python3.9/site-packages (from fiona>=1.8.21->geopandas>=0.12->osmnx) (8.0.4)',\n 'Requirement already satisfied: certifi in /Users/zamotaevrodion/opt/anaconda3/lib/python3.9/site-packages (from fiona>=1.8.21->geopandas>=0.12->osmnx) (2021.10.8)',\n 'Requirement already satisfied: python-dateutil>=2.8.1 in /Users/zamotaevrodion/opt/anaconda3/lib/python3.9/site-packages (from pandas>=1.1->osmnx) (2.8.2)',\n 'Requirement already satisfied: pytz>=2020.1 in /Users/zamotaevrodion/opt/anaconda3/lib/python3.9/site-packages (from pandas>=1.1->osmnx) (2021.3)',\n 'Requirement already satisfied: urllib3<1.27,>=1.21.1 in /Users/zamotaevrodion/opt/anaconda3/lib/python3.9/site-packages (from requests>=2.27->osmnx) (1.26.9)',\n 'Requirement already satisfied: charset-normalizer~=2.0.0 in /Users/zamotaevrodion/opt/anaconda3/lib/python3.9/site-packages (from requests>=2.27->osmnx) (2.0.4)',\n 'Requirement already satisfied: idna<4,>=2.5 in /Users/zamotaevrodion/opt/anaconda3/lib/python3.9/site-packages (from requests>=2.27->osmnx) (3.3)',\n 'Requirement already satisfied: zipp>=0.5 in /Users/zamotaevrodion/opt/anaconda3/lib/python3.9/site-packages (from importlib-metadata->fiona>=1.8.21->geopandas>=0.12->osmnx) (3.7.0)',\n 'Requirement already satisfied: pyparsing!=3.0.5,>=2.0.2 in /Users/zamotaevrodion/opt/anaconda3/lib/python3.9/site-packages (from packaging->geopandas>=0.12->osmnx) (3.0.4)']"
     },
     "execution_count": 8,
     "metadata": {},
     "output_type": "execute_result"
    }
   ],
   "source": [
    "!! pip install osmnx"
   ],
   "metadata": {
    "collapsed": false,
    "ExecuteTime": {
     "end_time": "2024-01-30T18:28:03.010297Z",
     "start_time": "2024-01-30T18:27:59.451943Z"
    }
   },
   "id": "595b3a16071856a0",
   "execution_count": 8
  },
  {
   "cell_type": "code",
   "outputs": [
    {
     "data": {
      "text/plain": "<Figure size 576x576 with 1 Axes>",
      "image/png": "[encoded data removed]"
     },
     "metadata": {},
     "output_type": "display_data"
    },
    {
     "data": {
      "text/plain": "(<Figure size 576x576 with 1 Axes>, <AxesSubplot:>)"
     },
     "execution_count": 9,
     "metadata": {},
     "output_type": "execute_result"
    }
   ],
   "source": [
    "import osmnx as ox\n",
    "\n",
    "# Загрузка карты дорог для определенной области Москвы\n",
    "G = ox.graph_from_place('Moscow, Russia', network_type='drive')\n",
    "\n",
    "# Вы можете визуализировать карту, чтобы проверить её\n",
    "ox.plot_graph(G)\n"
   ],
   "metadata": {
    "collapsed": false,
    "ExecuteTime": {
     "end_time": "2024-01-30T18:29:12.698625Z",
     "start_time": "2024-01-30T18:28:03.012125Z"
    }
   },
   "id": "7cdfc10d655f70f5",
   "execution_count": 9
  },
  {
   "cell_type": "code",
   "outputs": [],
   "source": [
    "import pandas as pd\n",
    "from geopy.distance import geodesic\n",
    "from datetime import timedelta\n",
    "\n",
    "# Координаты бригад\n",
    "brigades = {\n",
    "    \"A\": (55.8181190490723, 37.5789909362793),\n",
    "    \"B\": (55.7531852722168, 37.4102668762207),\n",
    "    \"C\": (55.793628692627, 37.7089691162109),\n",
    "    \"D\": (55.6388854980469, 37.7610702514648),\n",
    "    # \"D1\": (55.6175193786621, 37.6186752319336)\n",
    "}\n",
    "\n",
    "\n",
    "incidents = pd.read_excel('data2new.xlsx')\n"
   ],
   "metadata": {
    "collapsed": false,
    "ExecuteTime": {
     "end_time": "2024-02-14T21:31:36.691298Z",
     "start_time": "2024-02-14T21:31:36.395599Z"
    }
   },
   "id": "initial_id",
   "execution_count": 151
  },
  {
   "cell_type": "code",
   "outputs": [],
   "source": [
    "# обработка данных\n",
    "incidents['Широта'] = pd.to_numeric(incidents['Широта'], errors='coerce')\n",
    "incidents['Долгота'] = pd.to_numeric(incidents['Долгота'], errors='coerce')\n",
    "incidents = incidents.dropna(subset=['Широта', 'Долгота'])"
   ],
   "metadata": {
    "collapsed": false,
    "ExecuteTime": {
     "end_time": "2024-02-14T21:31:38.014107Z",
     "start_time": "2024-02-14T21:31:38.002269Z"
    }
   },
   "id": "b470b2fd7a445faa",
   "execution_count": 152
  },
  {
   "cell_type": "code",
   "outputs": [],
   "source": [
    "# инициализация словаря\n",
    "brigade_availability = {brigade: pd.Timestamp.min for brigade in brigades.keys()}"
   ],
   "metadata": {
    "collapsed": false,
    "ExecuteTime": {
     "end_time": "2024-02-14T21:31:39.832815Z",
     "start_time": "2024-02-14T21:31:39.825629Z"
    }
   },
   "id": "f9998988273ad6fb",
   "execution_count": 153
  },
  {
   "cell_type": "code",
   "outputs": [],
   "source": [
    "# Инициализация словаря для отслеживания нагрузки бригад\n",
    "brigade_workload = {brigade: 0 for brigade in brigades.keys()}"
   ],
   "metadata": {
    "collapsed": false,
    "ExecuteTime": {
     "end_time": "2024-02-14T21:31:41.428643Z",
     "start_time": "2024-02-14T21:31:41.421659Z"
    }
   },
   "id": "3dea3d1428214f8a",
   "execution_count": 154
  },
  {
   "cell_type": "code",
   "outputs": [],
   "source": [
    "# Обновите функцию распределения для учета рабочей нагрузки\n",
    "def update_brigade_workload(brigade, additional_workload):\n",
    "    brigade_workload[brigade] += additional_workload"
   ],
   "metadata": {
    "collapsed": false,
    "ExecuteTime": {
     "end_time": "2024-02-14T21:31:41.925009Z",
     "start_time": "2024-02-14T21:31:41.913990Z"
    }
   },
   "id": "6af628776034d8e6",
   "execution_count": 155
  },
  {
   "cell_type": "code",
   "outputs": [],
   "source": [
    "def calculate_travel_time(distance, speed=40):\n",
    "    return distance / speed "
   ],
   "metadata": {
    "collapsed": false,
    "ExecuteTime": {
     "end_time": "2024-02-14T21:31:42.488352Z",
     "start_time": "2024-02-14T21:31:42.479189Z"
    }
   },
   "id": "7992b416f1a30c9e",
   "execution_count": 156
  },
  {
   "cell_type": "code",
   "outputs": [],
   "source": [
    "import osmnx as ox\n",
    "import networkx as nx\n",
    "\n",
    "# Получение графа дорог для Москвы\n",
    "G = ox.graph_from_place('Moscow, Russia', network_type='drive')\n",
    "G = ox.project_graph(G)\n",
    "\n",
    "# Преобразование графа\n",
    "G = nx.convert_node_labels_to_integers(G)"
   ],
   "metadata": {
    "collapsed": false,
    "ExecuteTime": {
     "end_time": "2024-02-14T21:32:54.642408Z",
     "start_time": "2024-02-14T21:31:43.016385Z"
    }
   },
   "id": "6b342f71999d063e",
   "execution_count": 157
  },
  {
   "cell_type": "code",
   "outputs": [],
   "source": [
    "def get_shortest_path_length(G, start_point, end_point):\n",
    "    # Получение ближайших узлов к точкам начала и конца\n",
    "    start_node = ox.distance.nearest_nodes(G, start_point[1], start_point[0])\n",
    "    end_node = ox.distance.nearest_nodes(G, end_point[1], end_point[0])  \n",
    "    \n",
    "    # Расчет кратчайшего пути и его длины\n",
    "    length = nx.shortest_path_length(G, start_node, end_node, weight='length')\n",
    "    return length / 1000"
   ],
   "metadata": {
    "collapsed": false,
    "ExecuteTime": {
     "end_time": "2024-02-14T21:32:54.654881Z",
     "start_time": "2024-02-14T21:32:54.645819Z"
    }
   },
   "id": "3fd03354b0512813",
   "execution_count": 158
  },
  {
   "cell_type": "code",
   "outputs": [],
   "source": [
    "def is_brigade_available(brigade, start_time):\n",
    "    return brigade_availability[brigade] <= start_time"
   ],
   "metadata": {
    "collapsed": false,
    "ExecuteTime": {
     "end_time": "2024-02-14T21:32:54.656903Z",
     "start_time": "2024-02-14T21:32:54.650633Z"
    }
   },
   "id": "e38146d2856c2619",
   "execution_count": 159
  },
  {
   "cell_type": "code",
   "outputs": [],
   "source": [
    "def update_brigade_availability(brigade, end_time):\n",
    "    brigade_availability[brigade] = end_time\n"
   ],
   "metadata": {
    "collapsed": false,
    "ExecuteTime": {
     "end_time": "2024-02-14T21:32:54.669079Z",
     "start_time": "2024-02-14T21:32:54.657713Z"
    }
   },
   "id": "e8d7823a0c99b8d2",
   "execution_count": 160
  },
  {
   "cell_type": "code",
   "outputs": [],
   "source": [
    "# Алгоритм ближайшего соседа\n",
    "def assign_to_nearest_available_brigade(incidents, brigades, G):\n",
    "    assignments = []\n",
    "    # Сортировка инцидентов по приоритету перед назначением\n",
    "    sorted_incidents = incidents.sort_values(by='PRIORITY', ascending=False)\n",
    "    for _, incident in sorted_incidents.iterrows():  # Используйте sorted_incidents здесь\n",
    "        incident_coord = (incident['Широта'], incident['Долгота'])\n",
    "        incident_start = incident['Т события']\n",
    "\n",
    "        nearest_brigade, min_distance = None, float('inf')\n",
    "\n",
    "        for brigade_name, brigade_coord in brigades.items():\n",
    "            path_length = get_shortest_path_length(G, brigade_coord, incident_coord)\n",
    "            travel_time = calculate_travel_time(path_length)\n",
    "            estimated_arrival = incident_start + pd.to_timedelta(travel_time, unit='h')\n",
    "\n",
    "            if is_brigade_available(brigade_name, estimated_arrival) and path_length < min_distance:\n",
    "                nearest_brigade, min_distance = brigade_name, path_length\n",
    "\n",
    "        if nearest_brigade is not None:\n",
    "            update_brigade_availability(nearest_brigade, estimated_arrival)\n",
    "            # Обновление рабочей нагрузки бригады должно происходить только после успешного назначения\n",
    "            update_brigade_workload(nearest_brigade, 1)  # Предполагается, что функция update_brigade_workload уже определена\n",
    "            assignments.append((incident['№ МИ'], nearest_brigade))\n",
    "        else:\n",
    "            assignments.append((incident['№ МИ'], \"No available brigade\"))\n",
    "\n",
    "    return assignments\n",
    "\n",
    "# Важно: Убедитесь, что функция update_brigade_workload корректно определена и обновляет нагрузку бригады в соответствии с вашей логикой учета работы.\n",
    "# Этот код предполагает, что у каждого инцидента есть уникальный идентификатор '№ МИ', время начала 'Т события', координаты 'Широта' и 'Долгота', и приоритет 'PRIORITY'.\n",
    "# Функция get_shortest_path_length должна быть определена для расчета длины кратчайшего пути между двумя точками на графе дорог.\n"
   ],
   "metadata": {
    "collapsed": false,
    "ExecuteTime": {
     "end_time": "2024-02-14T21:32:54.680011Z",
     "start_time": "2024-02-14T21:32:54.668241Z"
    }
   },
   "id": "b5c88882ea951a35",
   "execution_count": 161
  },
  {
   "cell_type": "code",
   "outputs": [],
   "source": [
    "def assign_to_nearest_available_brigade_with_greedy_approach(incidents, brigades, G):\n",
    "    assignments = []\n",
    "    # Предполагаем, что у каждой бригады есть начальная рабочая мощность или максимальное количество задач, которые она может взять на себя\n",
    "    brigade_capacity = {brigade: 10 for brigade in brigades.keys()}  # Примерное значение\n",
    "\n",
    "    sorted_incidents = incidents.sort_values(by='PRIORITY', ascending=False)\n",
    "    for _, incident in sorted_incidents.iterrows():\n",
    "        best_choice = None\n",
    "        min_score = float('inf')\n",
    "\n",
    "        for brigade_name, brigade_coord in brigades.items():\n",
    "            if brigade_capacity[brigade_name] > 0:  # Убедитесь, что бригада не перегружена\n",
    "                path_length = get_shortest_path_length(G, brigade_coord, (incident['Широта'], incident['Долгота']))\n",
    "                score = path_length - brigade_capacity[brigade_name]  # Примерный критерий: минимизируем расстояние и учитываем оставшуюся мощность\n",
    "\n",
    "                if score < min_score:\n",
    "                    best_choice = brigade_name\n",
    "                    min_score = score\n",
    "\n",
    "        if best_choice:\n",
    "            brigade_capacity[best_choice] -= 1  # Уменьшаем доступную мощность бригады\n",
    "            assignments.append((incident['№ МИ'], best_choice))\n",
    "        else:\n",
    "            assignments.append((incident['№ МИ'], \"No available brigade\"))\n",
    "\n",
    "    return assignments\n"
   ],
   "metadata": {
    "collapsed": false,
    "ExecuteTime": {
     "end_time": "2024-02-06T08:41:53.478034Z",
     "start_time": "2024-02-06T08:41:53.455358Z"
    }
   },
   "id": "b6d153cc26be1a7",
   "execution_count": 127
  },
  {
   "cell_type": "code",
   "outputs": [],
   "source": [
    "def distribute_daily_incidents(incidents, brigades, start_date, end_date, G):\n",
    "    daily_assignments = {}\n",
    "    current_date = start_date\n",
    "    while current_date <= end_date:\n",
    "        daily_incidents = incidents[incidents['Т события'].dt.date == current_date.date()]\n",
    "        daily_assignments[current_date] = assign_to_nearest_available_brigade(daily_incidents, brigades, G)\n",
    "        current_date += timedelta(days=1)\n",
    "    return daily_assignments"
   ],
   "metadata": {
    "collapsed": false,
    "ExecuteTime": {
     "end_time": "2024-02-14T21:32:54.680866Z",
     "start_time": "2024-02-14T21:32:54.672219Z"
    }
   },
   "id": "40bfbe2e5d59db18",
   "execution_count": 162
  },
  {
   "cell_type": "code",
   "outputs": [],
   "source": [
    "# Распределение инцидентов на каждый день\n",
    "start_date = incidents['Т события'].min()\n",
    "end_date = incidents['Т события'].max()\n",
    "# end_date = incidents['Крайний срок'].max()\n",
    "daily_distributions = distribute_daily_incidents(incidents, brigades, start_date, end_date, G)"
   ],
   "metadata": {
    "collapsed": false,
    "ExecuteTime": {
     "end_time": "2024-02-14T22:32:18.799393Z",
     "start_time": "2024-02-14T21:32:55.229042Z"
    }
   },
   "id": "c3f6e76d907f2742",
   "execution_count": 163
  },
  {
   "cell_type": "code",
   "outputs": [],
   "source": [
    "def travel_time():\n",
    "    calculate_travel_time\n"
   ],
   "metadata": {
    "collapsed": false,
    "ExecuteTime": {
     "end_time": "2024-02-14T22:32:18.800583Z",
     "start_time": "2024-02-14T22:32:18.796174Z"
    }
   },
   "id": "fee7c79f68691d2c",
   "execution_count": 164
  },
  {
   "cell_type": "code",
   "outputs": [],
   "source": [
    "# Сохранение результатов в файл с добавлением времени и типа поломок\n",
    "output = []\n",
    "for day, assignments in daily_distributions.items():\n",
    "    for assignment in assignments:\n",
    "        \n",
    "        # Крайний срок\n",
    "        dead_line = incident_record['Крайний срок'].strftime('%Y-%m-%d %H:%M:%S')\n",
    "        # Находим соответствующую запись о происшествии для получения времени и типа поломки\n",
    "        incident_record = incidents[incidents['№ МИ'] == assignment[0]].iloc[0]\n",
    "\n",
    "        # Форматирование даты и времени начала происшествия\n",
    "        datetime_start_format = day.strftime('%Y-%m-%d') + ' ' + incident_record['Т события'].strftime('%H:%M:%S')\n",
    "\n",
    "        # Расчет и форматирование времени окончания работы над происшествием\n",
    "        # Предполагается, что `incident_end` это время окончания работы над происшествием\n",
    "        # Если у вас есть другой способ расчета времени окончания, замените следующую строку соответствующей логикой\n",
    "        datetime_end_format = travel_time()\n",
    "\n",
    "        output.append({\n",
    "            'Date': day.strftime('%Y-%m-%d'),\n",
    "            # 'Time Start': datetime_start_format,  # Время начала происшествия\n",
    "            # 'Time End': datetime_end_format,  # Время окончания работы над происшествием\n",
    "            'Incident ID': assignment[0],\n",
    "            'Assigned Brigade': assignment[1],\n",
    "            'Incident Type': incident_record['Техописание'],  # Тип поломки\n",
    "            'Time Start': datetime_start_format,  # Время начала происшествия\n",
    "            'Time End': datetime_end_format,  # Время окончания работы над происшествием\n",
    "            'Deadline': dead_line\n",
    "        })\n",
    "\n",
    "output_df = pd.DataFrame(output)\n",
    "output_df.to_csv('daily_assignments_with_time_and_type_and_end.csv', index=False)\n",
    "\n"
   ],
   "metadata": {
    "collapsed": false,
    "ExecuteTime": {
     "end_time": "2024-02-14T22:32:19.491265Z",
     "start_time": "2024-02-14T22:32:18.816213Z"
    }
   },
   "id": "10d3f454d02946e5",
   "execution_count": 165
  },
  {
   "cell_type": "code",
   "outputs": [
    {
     "data": {
      "text/plain": "['Requirement already satisfied: folium in /Users/zamotaevrodion/opt/anaconda3/lib/python3.9/site-packages (0.15.1)',\n 'Requirement already satisfied: branca>=0.6.0 in /Users/zamotaevrodion/opt/anaconda3/lib/python3.9/site-packages (from folium) (0.7.0)',\n 'Requirement already satisfied: requests in /Users/zamotaevrodion/opt/anaconda3/lib/python3.9/site-packages (from folium) (2.27.1)',\n 'Requirement already satisfied: jinja2>=2.9 in /Users/zamotaevrodion/opt/anaconda3/lib/python3.9/site-packages (from folium) (2.11.3)',\n 'Requirement already satisfied: xyzservices in /Users/zamotaevrodion/opt/anaconda3/lib/python3.9/site-packages (from folium) (2023.10.1)',\n 'Requirement already satisfied: numpy in /Users/zamotaevrodion/opt/anaconda3/lib/python3.9/site-packages (from folium) (1.21.5)',\n 'Requirement already satisfied: MarkupSafe>=0.23 in /Users/zamotaevrodion/opt/anaconda3/lib/python3.9/site-packages (from jinja2>=2.9->folium) (2.0.1)',\n 'Requirement already satisfied: idna<4,>=2.5 in /Users/zamotaevrodion/opt/anaconda3/lib/python3.9/site-packages (from requests->folium) (3.3)',\n 'Requirement already satisfied: charset-normalizer~=2.0.0 in /Users/zamotaevrodion/opt/anaconda3/lib/python3.9/site-packages (from requests->folium) (2.0.4)',\n 'Requirement already satisfied: urllib3<1.27,>=1.21.1 in /Users/zamotaevrodion/opt/anaconda3/lib/python3.9/site-packages (from requests->folium) (1.26.9)',\n 'Requirement already satisfied: certifi>=2017.4.17 in /Users/zamotaevrodion/opt/anaconda3/lib/python3.9/site-packages (from requests->folium) (2021.10.8)']"
     },
     "execution_count": 40,
     "metadata": {},
     "output_type": "execute_result"
    }
   ],
   "source": [
    "!! pip install folium"
   ],
   "metadata": {
    "collapsed": false,
    "ExecuteTime": {
     "end_time": "2024-01-30T20:06:01.997529Z",
     "start_time": "2024-01-30T20:05:56.432973Z"
    }
   },
   "id": "896526def3aab3a6",
   "execution_count": 40
  },
  {
   "cell_type": "code",
   "outputs": [],
   "source": [
    "import folium\n",
    "\n",
    "# Создаем карту с центром в Москве\n",
    "m = folium.Map(location=[55.7558, 37.6173], zoom_start=10)\n",
    "\n",
    "# Добавляем маркеры для происшествий\n",
    "for _, incident in incidents.iterrows():\n",
    "    folium.Marker(\n",
    "        [incident['Широта'], incident['Долгота']],\n",
    "        popup=f\"Происшествие: {incident['№ МИ']}\",\n",
    "        icon=folium.Icon(color='red')\n",
    "    ).add_to(m)\n",
    "\n",
    "# Добавляем маркеры для бригад\n",
    "for brigade_name, location in brigades.items():\n",
    "    folium.Marker(\n",
    "        location,\n",
    "        popup=f\"Бригада: {brigade_name}\",\n",
    "        icon=folium.Icon(color='blue', icon='info-sign')\n",
    "    ).add_to(m)\n",
    "\n",
    "# Сохраняем карту в HTML-файл\n",
    "m.save('map.html')\n"
   ],
   "metadata": {
    "collapsed": false,
    "ExecuteTime": {
     "end_time": "2024-01-30T20:06:10.578614Z",
     "start_time": "2024-01-30T20:06:08.598442Z"
    }
   },
   "id": "33e4fb6091bc4228",
   "execution_count": 41
  },
  {
   "cell_type": "code",
   "outputs": [],
   "source": [],
   "metadata": {
    "collapsed": false
   },
   "id": "1ccd89d122def379"
  }
 ],
 "metadata": {
  "kernelspec": {
   "display_name": "Python 3",
   "language": "python",
   "name": "python3"
  },
  "language_info": {
   "codemirror_mode": {
    "name": "ipython",
    "version": 2
   },
   "file_extension": ".py",
   "mimetype": "text/x-python",
   "name": "python",
   "nbconvert_exporter": "python",
   "pygments_lexer": "ipython2",
   "version": "2.7.6"
  }
 },
 "nbformat": 4,
 "nbformat_minor": 5
}
