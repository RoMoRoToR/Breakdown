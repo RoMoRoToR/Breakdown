{
 "cells": [
  {
   "cell_type": "code",
   "execution_count": 2,
   "id": "181c65b00e7b707f",
   "metadata": {
    "collapsed": false,
    "ExecuteTime": {
     "end_time": "2024-04-07T23:47:59.450387Z",
     "start_time": "2024-04-07T23:47:54.769286Z"
    }
   },
   "outputs": [],
   "source": [
    "import pandas as pd\n",
    "from geopy.distance import geodesic\n",
    "from datetime import timedelta\n",
    "import osmnx as ox\n",
    "import networkx as nx\n"
   ]
  },
  {
   "cell_type": "code",
   "execution_count": 3,
   "id": "c63c97a632145ec",
   "metadata": {
    "collapsed": false,
    "ExecuteTime": {
     "end_time": "2024-04-07T23:47:59.460933Z",
     "start_time": "2024-04-07T23:47:59.454807Z"
    }
   },
   "outputs": [],
   "source": [
    "# Координаты бригад и предварительная загрузка данных\n",
    "brigades = {\n",
    "    \"A\": (55.8181190490723, 37.5789909362793),\n",
    "    \"B\": (55.7531852722168, 37.4102668762207),\n",
    "    \"C\": (55.793628692627, 37.7089691162109),\n",
    "    \"D\": (55.6388854980469, 37.7610702514648),\n",
    "    # \"D_new\": (55.8377838134766, 37.6557426452637)\n",
    "}\n"
   ]
  },
  {
   "cell_type": "code",
   "execution_count": 4,
   "id": "ef7a8f365ea347bc",
   "metadata": {
    "collapsed": false,
    "ExecuteTime": {
     "end_time": "2024-04-07T23:48:00.410206Z",
     "start_time": "2024-04-07T23:47:59.464217Z"
    }
   },
   "outputs": [],
   "source": [
    "# Загрузите данные инцидентов\n",
    "incidents = pd.read_excel('data3new.xlsx')"
   ]
  },
  {
   "cell_type": "code",
   "execution_count": 5,
   "id": "2d35d7f18bc54d00",
   "metadata": {
    "collapsed": false,
    "ExecuteTime": {
     "end_time": "2024-04-07T23:48:00.432467Z",
     "start_time": "2024-04-07T23:48:00.415027Z"
    }
   },
   "outputs": [],
   "source": [
    "# Обработка данных инцидентов\n",
    "incidents['Широта'] = pd.to_numeric(incidents['Широта'], errors='coerce')\n",
    "incidents['Долгота'] = pd.to_numeric(incidents['Долгота'], errors='coerce')\n",
    "incidents = incidents.dropna(subset=['Широта', 'Долгота'])"
   ]
  },
  {
   "cell_type": "code",
   "execution_count": 6,
   "id": "13f3604cda292c93",
   "metadata": {
    "collapsed": false,
    "ExecuteTime": {
     "end_time": "2024-04-07T23:49:18.208492Z",
     "start_time": "2024-04-07T23:48:00.434914Z"
    }
   },
   "outputs": [],
   "source": [
    "# Инициализация графа дорог для Москвы\n",
    "G = ox.graph_from_place('Moscow, Russia', network_type='drive')\n",
    "G = ox.project_graph(G)\n",
    "G = nx.convert_node_labels_to_integers(G)"
   ]
  },
  {
   "cell_type": "code",
   "execution_count": 7,
   "id": "952eaad344ed0c8f",
   "metadata": {
    "collapsed": false,
    "ExecuteTime": {
     "end_time": "2024-04-07T23:49:18.215452Z",
     "start_time": "2024-04-07T23:49:18.210381Z"
    }
   },
   "outputs": [],
   "source": [
    "# Функция для расчета кратчайшего пути\n",
    "def get_shortest_path_length(G, start_point, end_point):\n",
    "    start_node = ox.distance.nearest_nodes(G, start_point[1], start_point[0])\n",
    "    end_node = ox.distance.nearest_nodes(G, end_point[1], end_point[0])\n",
    "    length = nx.shortest_path_length(G, start_node, end_node, weight='length')\n",
    "    return length / 1000  # Возвращаем длину в километрах"
   ]
  },
  {
   "cell_type": "code",
   "execution_count": 8,
   "id": "cebbbcc2d2e744db",
   "metadata": {
    "collapsed": false,
    "ExecuteTime": {
     "end_time": "2024-04-07T23:49:18.224379Z",
     "start_time": "2024-04-07T23:49:18.218602Z"
    }
   },
   "outputs": [],
   "source": [
    "def calculate_priority(deadline, start_time):\n",
    "    # Вычисляем разницу в часах\n",
    "    time_difference = (deadline - start_time).total_seconds() / 3600\n",
    "\n",
    "    # Устанавливаем приоритет на основе разницы во времени\n",
    "    if time_difference <= 4:\n",
    "        return 1  # Высший приоритет для 4-часовых дедлайнов\n",
    "    elif time_difference <= 6:\n",
    "        return 2  # Второй по приоритету для 6-часовых дедлайнов\n",
    "    else:\n",
    "        return 3  # Низший приоритет для остальных"
   ]
  },
  {
   "cell_type": "code",
   "execution_count": 9,
   "id": "9ce43afd4588f930",
   "metadata": {
    "collapsed": false,
    "ExecuteTime": {
     "end_time": "2024-04-07T23:49:18.231277Z",
     "start_time": "2024-04-07T23:49:18.227443Z"
    }
   },
   "outputs": [],
   "source": [
    "# Функция для расчета времени в пути\n",
    "def calculate_travel_time(distance, speed=40):\n",
    "    return distance / speed  # Время в часах"
   ]
  },
  {
   "cell_type": "code",
   "execution_count": 10,
   "id": "38a3809ede361abd",
   "metadata": {
    "collapsed": false,
    "ExecuteTime": {
     "end_time": "2024-04-07T23:49:18.240480Z",
     "start_time": "2024-04-07T23:49:18.233634Z"
    }
   },
   "outputs": [],
   "source": [
    "# Инициализация словаря загрузки бригад\n",
    "brigade_workload = {brigade: 0 for brigade in brigades.keys()}"
   ]
  },
  {
   "cell_type": "code",
   "execution_count": 11,
   "id": "f68beca8407487f8",
   "metadata": {
    "collapsed": false,
    "ExecuteTime": {
     "end_time": "2024-04-07T23:49:18.250718Z",
     "start_time": "2024-04-07T23:49:18.246950Z"
    }
   },
   "outputs": [],
   "source": [
    "# Функция для обновления загрузки бригад\n",
    "def update_brigade_workload(brigade, additional_workload):\n",
    "    brigade_workload[brigade] += additional_workload"
   ]
  },
  {
   "cell_type": "code",
   "execution_count": 12,
   "id": "623dd00f03bcf4a2",
   "metadata": {
    "collapsed": false,
    "ExecuteTime": {
     "end_time": "2024-04-07T23:49:18.257895Z",
     "start_time": "2024-04-07T23:49:18.253628Z"
    }
   },
   "outputs": [],
   "source": [
    "# def update_brigade_availability(brigade, end_time, brigade_availability):\n",
    "#     brigade_availability[brigade] = max(brigade_availability[brigade], end_time)"
   ]
  },
  {
   "cell_type": "code",
   "execution_count": 13,
   "id": "e5a706feed24253a",
   "metadata": {
    "collapsed": false,
    "ExecuteTime": {
     "end_time": "2024-04-07T23:49:18.264580Z",
     "start_time": "2024-04-07T23:49:18.260609Z"
    }
   },
   "outputs": [],
   "source": [
    "# Глобальное определение словаря доступности бригад\n",
    "brigade_availability = {brigade: pd.Timestamp.min for brigade in brigades.keys()}"
   ]
  },
  {
   "cell_type": "code",
   "execution_count": 14,
   "id": "8c602e5bf68db2a5",
   "metadata": {
    "collapsed": false,
    "ExecuteTime": {
     "end_time": "2024-04-07T23:49:18.273718Z",
     "start_time": "2024-04-07T23:49:18.268228Z"
    }
   },
   "outputs": [],
   "source": [
    "def update_brigade_availability(brigade, end_time, brigade_availability):\n",
    "    brigade_availability[brigade] = max(brigade_availability[brigade], end_time)\n",
    "    return brigade_availability"
   ]
  },
  {
   "cell_type": "code",
   "execution_count": 15,
   "id": "5345f0626ddc30d8",
   "metadata": {
    "collapsed": false,
    "ExecuteTime": {
     "end_time": "2024-04-07T23:49:18.281005Z",
     "start_time": "2024-04-07T23:49:18.276566Z"
    }
   },
   "outputs": [],
   "source": [
    "def some_other_function():\n",
    "    # В этой функции также можно использовать brigade_availability\n",
    "    global brigade_availability\n",
    "    # Дальнейшая логика работы с brigade_availability"
   ]
  },
  {
   "cell_type": "code",
   "execution_count": 16,
   "id": "932b4e62ae39bd47",
   "metadata": {
    "collapsed": false,
    "ExecuteTime": {
     "end_time": "2024-04-07T23:49:18.296129Z",
     "start_time": "2024-04-07T23:49:18.283898Z"
    }
   },
   "outputs": [],
   "source": [
    "# Функция назначения инцидентов бригадам\n",
    "def assign_incidents_to_brigades(incidents, brigades, G, brigade_availability):\n",
    "    assignments = []\n",
    "    # Добавляем столбец приоритета на основе разницы между 'Крайний срок' и 'Т события'\n",
    "    incidents['Priority'] = incidents.apply(lambda x: calculate_priority(x['Крайний срок'], x['Т события']), axis=1)\n",
    "\n",
    "    # Сортируем инциденты сначала по приоритету, затем по 'Т события'\n",
    "    sorted_incidents = incidents.sort_values(by=['Priority', 'Т события'])\n",
    "\n",
    "    for _, incident in sorted_incidents.iterrows():\n",
    "        incident_coord = (incident['Широта'], incident['Долгота'])\n",
    "        incident_start = pd.to_datetime(incident['Т события'])  \n",
    "        nearest_brigade, min_distance = None, float('inf')\n",
    "        best_end_time = None  # Для хранения времени окончания работы\n",
    "\n",
    "        for brigade_name, brigade_coord in brigades.items():\n",
    "            path_length = get_shortest_path_length(G, brigade_coord, incident_coord)\n",
    "            travel_time_hours = calculate_travel_time(path_length)  # Время в пути в часах\n",
    "            travel_time = timedelta(hours=travel_time_hours)  # Преобразуем в timedelta\n",
    "\n",
    "            # Предполагаемое время начала работы бригады\n",
    "            brigade_available_time = brigade_availability[brigade_name]\n",
    "            start_work_time = max(incident_start, brigade_available_time) + travel_time\n",
    "\n",
    "            # Добавляем 30 минут на выполнение работы\n",
    "            end_work_time = start_work_time + timedelta(minutes=30)\n",
    "\n",
    "            # Выбираем бригаду с минимальным временем окончания работы\n",
    "            if best_end_time is None or end_work_time < best_end_time:\n",
    "                nearest_brigade = brigade_name\n",
    "                best_end_time = end_work_time\n",
    "\n",
    "        if nearest_brigade:\n",
    "            update_brigade_availability(nearest_brigade, best_end_time, brigade_availability)\n",
    "            update_brigade_workload(nearest_brigade, 1)\n",
    "            assignments.append((incident['№ МИ'], nearest_brigade, start_work_time, best_end_time))\n",
    "\n",
    "    return assignments"
   ]
  },
  {
   "cell_type": "code",
   "execution_count": 17,
   "id": "e9a11b0996aa45a6",
   "metadata": {
    "collapsed": false,
    "ExecuteTime": {
     "end_time": "2024-04-07T23:49:18.306127Z",
     "start_time": "2024-04-07T23:49:18.299489Z"
    }
   },
   "outputs": [],
   "source": [
    "# Распределение инцидентов по дням с использованием обновленной логики\n",
    "def distribute_daily_incidents(incidents, brigades, start_date, end_date, G):\n",
    "    daily_assignments = {}\n",
    "    current_date = start_date\n",
    "    while current_date <= end_date:\n",
    "        daily_incidents = incidents[incidents['Т события'].dt.date == current_date.date()]\n",
    "        daily_assignments[current_date] = assign_incidents_to_brigades(daily_incidents, brigades, G, brigade_availability)  # Добавлен аргумент\n",
    "        current_date += timedelta(days=1)\n",
    "    return daily_assignments"
   ]
  },
  {
   "cell_type": "code",
   "execution_count": 18,
   "id": "c598aaa926380d37",
   "metadata": {
    "collapsed": false,
    "ExecuteTime": {
     "end_time": "2024-04-07T23:49:18.319884Z",
     "start_time": "2024-04-07T23:49:18.309069Z"
    }
   },
   "outputs": [],
   "source": [
    "def assign_to_nearest_available_brigade(incidents, brigades, G):\n",
    "    assignments = []\n",
    "    sorted_incidents = incidents.sort_values(by='PRIORITY', ascending=False)\n",
    "    for _, incident in sorted_incidents.iterrows():\n",
    "        incident_coord = (incident['Широта'], incident['Долгота'])\n",
    "        incident_start = incident['Т события']\n",
    "        nearest_brigade, min_distance, estimated_end_time = None, float('inf'), None\n",
    "        for brigade_name, brigade_coord in brigades.items():\n",
    "            path_length = get_shortest_path_length(G, brigade_coord, incident_coord)\n",
    "            travel_time = calculate_travel_time(path_length)\n",
    "            # Расчет времени начала работы бригады с учетом времени в пути\n",
    "            start_work_time = incident_start + pd.to_timedelta(travel_time, unit='h')\n",
    "            # Расчет времени окончания работы (время в пути + 30 минут работы)\n",
    "            end_work_time = start_work_time + pd.to_timedelta(30, unit='m')\n",
    "            if path_length < min_distance:\n",
    "                nearest_brigade, min_distance = brigade_name, path_length\n",
    "                estimated_end_time = end_work_time\n",
    "        if nearest_brigade is not None:\n",
    "            update_brigade_availability(nearest_brigade, estimated_end_time)\n",
    "            update_brigade_workload(nearest_brigade, 1)\n",
    "            assignments.append((incident['№ МИ'], nearest_brigade, incident_start, estimated_end_time))\n",
    "    return assignments"
   ]
  },
  {
   "cell_type": "code",
   "execution_count": 19,
   "id": "8091c388901304f8",
   "metadata": {
    "collapsed": false,
    "ExecuteTime": {
     "end_time": "2024-04-07T23:49:18.332237Z",
     "start_time": "2024-04-07T23:49:18.322329Z"
    }
   },
   "outputs": [],
   "source": [
    "# Сохранение данных\n",
    "def save_assignments(daily_distributions, incidents):\n",
    "    output = []\n",
    "    for day, assignments in daily_distributions.items():\n",
    "        for assignment in assignments:\n",
    "            incident_id, brigade, start_time, end_time = assignment\n",
    "            # Проверка наличия записи перед обращением\n",
    "            if not incidents[incidents['№ МИ'] == incident_id].empty:\n",
    "                incident_record = incidents[incidents['№ МИ'] == incident_id].iloc[0]\n",
    "                output.append({\n",
    "                    'Date': day.strftime('%Y-%m-%d'),\n",
    "                    'Incident ID': incident_id,\n",
    "                    'Assigned Brigade': brigade,\n",
    "                    'Incident Type': incident_record['Техописание'],\n",
    "                    'Time Assigned': incident_record['Т события'].strftime('%Y-%m-%d %H:%M:%S') if pd.notnull(incident_record['Т события']) else 'N/A',\n",
    "                    'Estimated End Time': end_time.strftime('%Y-%m-%d %H:%M:%S'),\n",
    "                    'Deadline': incident_record['Крайний срок'].strftime('%Y-%m-%d %H:%M:%S') if pd.notnull(incident_record['Крайний срок']) else 'N/A'\n",
    "                })\n",
    "            else:\n",
    "                print(f\"Warning: No incident record found for Incident ID {incident_id}. Skipping.\")\n",
    "\n",
    "    output_df = pd.DataFrame(output)\n",
    "    output_df.to_csv('version_2.0.csv', index=False)"
   ]
  },
  {
   "cell_type": "code",
   "execution_count": 20,
   "id": "5db0dd6ce4526ae3",
   "metadata": {
    "collapsed": false,
    "ExecuteTime": {
     "end_time": "2024-04-08T00:11:44.910534Z",
     "start_time": "2024-04-07T23:49:18.334815Z"
    }
   },
   "outputs": [
    {
     "name": "stderr",
     "output_type": "stream",
     "text": [
      "/var/folders/kh/50vdcfkx3ns_f9_ck_fnbwbc0000gn/T/ipykernel_16799/3770153402.py:5: SettingWithCopyWarning: \n",
      "A value is trying to be set on a copy of a slice from a DataFrame.\n",
      "Try using .loc[row_indexer,col_indexer] = value instead\n",
      "\n",
      "See the caveats in the documentation: https://pandas.pydata.org/pandas-docs/stable/user_guide/indexing.html#returning-a-view-versus-a-copy\n",
      "  incidents['Priority'] = incidents.apply(lambda x: calculate_priority(x['Крайний срок'], x['Т события']), axis=1)\n",
      "/var/folders/kh/50vdcfkx3ns_f9_ck_fnbwbc0000gn/T/ipykernel_16799/3770153402.py:5: SettingWithCopyWarning: \n",
      "A value is trying to be set on a copy of a slice from a DataFrame.\n",
      "Try using .loc[row_indexer,col_indexer] = value instead\n",
      "\n",
      "See the caveats in the documentation: https://pandas.pydata.org/pandas-docs/stable/user_guide/indexing.html#returning-a-view-versus-a-copy\n",
      "  incidents['Priority'] = incidents.apply(lambda x: calculate_priority(x['Крайний срок'], x['Т события']), axis=1)\n",
      "/var/folders/kh/50vdcfkx3ns_f9_ck_fnbwbc0000gn/T/ipykernel_16799/3770153402.py:5: SettingWithCopyWarning: \n",
      "A value is trying to be set on a copy of a slice from a DataFrame.\n",
      "Try using .loc[row_indexer,col_indexer] = value instead\n",
      "\n",
      "See the caveats in the documentation: https://pandas.pydata.org/pandas-docs/stable/user_guide/indexing.html#returning-a-view-versus-a-copy\n",
      "  incidents['Priority'] = incidents.apply(lambda x: calculate_priority(x['Крайний срок'], x['Т события']), axis=1)\n",
      "/var/folders/kh/50vdcfkx3ns_f9_ck_fnbwbc0000gn/T/ipykernel_16799/3770153402.py:5: SettingWithCopyWarning: \n",
      "A value is trying to be set on a copy of a slice from a DataFrame.\n",
      "Try using .loc[row_indexer,col_indexer] = value instead\n",
      "\n",
      "See the caveats in the documentation: https://pandas.pydata.org/pandas-docs/stable/user_guide/indexing.html#returning-a-view-versus-a-copy\n",
      "  incidents['Priority'] = incidents.apply(lambda x: calculate_priority(x['Крайний срок'], x['Т события']), axis=1)\n",
      "/var/folders/kh/50vdcfkx3ns_f9_ck_fnbwbc0000gn/T/ipykernel_16799/3770153402.py:5: SettingWithCopyWarning: \n",
      "A value is trying to be set on a copy of a slice from a DataFrame.\n",
      "Try using .loc[row_indexer,col_indexer] = value instead\n",
      "\n",
      "See the caveats in the documentation: https://pandas.pydata.org/pandas-docs/stable/user_guide/indexing.html#returning-a-view-versus-a-copy\n",
      "  incidents['Priority'] = incidents.apply(lambda x: calculate_priority(x['Крайний срок'], x['Т события']), axis=1)\n",
      "/var/folders/kh/50vdcfkx3ns_f9_ck_fnbwbc0000gn/T/ipykernel_16799/3770153402.py:5: SettingWithCopyWarning: \n",
      "A value is trying to be set on a copy of a slice from a DataFrame.\n",
      "Try using .loc[row_indexer,col_indexer] = value instead\n",
      "\n",
      "See the caveats in the documentation: https://pandas.pydata.org/pandas-docs/stable/user_guide/indexing.html#returning-a-view-versus-a-copy\n",
      "  incidents['Priority'] = incidents.apply(lambda x: calculate_priority(x['Крайний срок'], x['Т события']), axis=1)\n",
      "/var/folders/kh/50vdcfkx3ns_f9_ck_fnbwbc0000gn/T/ipykernel_16799/3770153402.py:5: SettingWithCopyWarning: \n",
      "A value is trying to be set on a copy of a slice from a DataFrame.\n",
      "Try using .loc[row_indexer,col_indexer] = value instead\n",
      "\n",
      "See the caveats in the documentation: https://pandas.pydata.org/pandas-docs/stable/user_guide/indexing.html#returning-a-view-versus-a-copy\n",
      "  incidents['Priority'] = incidents.apply(lambda x: calculate_priority(x['Крайний срок'], x['Т события']), axis=1)\n",
      "/var/folders/kh/50vdcfkx3ns_f9_ck_fnbwbc0000gn/T/ipykernel_16799/3770153402.py:5: SettingWithCopyWarning: \n",
      "A value is trying to be set on a copy of a slice from a DataFrame.\n",
      "Try using .loc[row_indexer,col_indexer] = value instead\n",
      "\n",
      "See the caveats in the documentation: https://pandas.pydata.org/pandas-docs/stable/user_guide/indexing.html#returning-a-view-versus-a-copy\n",
      "  incidents['Priority'] = incidents.apply(lambda x: calculate_priority(x['Крайний срок'], x['Т события']), axis=1)\n",
      "/var/folders/kh/50vdcfkx3ns_f9_ck_fnbwbc0000gn/T/ipykernel_16799/3770153402.py:5: SettingWithCopyWarning: \n",
      "A value is trying to be set on a copy of a slice from a DataFrame.\n",
      "Try using .loc[row_indexer,col_indexer] = value instead\n",
      "\n",
      "See the caveats in the documentation: https://pandas.pydata.org/pandas-docs/stable/user_guide/indexing.html#returning-a-view-versus-a-copy\n",
      "  incidents['Priority'] = incidents.apply(lambda x: calculate_priority(x['Крайний срок'], x['Т события']), axis=1)\n",
      "/var/folders/kh/50vdcfkx3ns_f9_ck_fnbwbc0000gn/T/ipykernel_16799/3770153402.py:5: SettingWithCopyWarning: \n",
      "A value is trying to be set on a copy of a slice from a DataFrame.\n",
      "Try using .loc[row_indexer,col_indexer] = value instead\n",
      "\n",
      "See the caveats in the documentation: https://pandas.pydata.org/pandas-docs/stable/user_guide/indexing.html#returning-a-view-versus-a-copy\n",
      "  incidents['Priority'] = incidents.apply(lambda x: calculate_priority(x['Крайний срок'], x['Т события']), axis=1)\n",
      "/var/folders/kh/50vdcfkx3ns_f9_ck_fnbwbc0000gn/T/ipykernel_16799/3770153402.py:5: SettingWithCopyWarning: \n",
      "A value is trying to be set on a copy of a slice from a DataFrame.\n",
      "Try using .loc[row_indexer,col_indexer] = value instead\n",
      "\n",
      "See the caveats in the documentation: https://pandas.pydata.org/pandas-docs/stable/user_guide/indexing.html#returning-a-view-versus-a-copy\n",
      "  incidents['Priority'] = incidents.apply(lambda x: calculate_priority(x['Крайний срок'], x['Т события']), axis=1)\n",
      "/var/folders/kh/50vdcfkx3ns_f9_ck_fnbwbc0000gn/T/ipykernel_16799/3770153402.py:5: SettingWithCopyWarning: \n",
      "A value is trying to be set on a copy of a slice from a DataFrame.\n",
      "Try using .loc[row_indexer,col_indexer] = value instead\n",
      "\n",
      "See the caveats in the documentation: https://pandas.pydata.org/pandas-docs/stable/user_guide/indexing.html#returning-a-view-versus-a-copy\n",
      "  incidents['Priority'] = incidents.apply(lambda x: calculate_priority(x['Крайний срок'], x['Т события']), axis=1)\n",
      "/var/folders/kh/50vdcfkx3ns_f9_ck_fnbwbc0000gn/T/ipykernel_16799/3770153402.py:5: SettingWithCopyWarning: \n",
      "A value is trying to be set on a copy of a slice from a DataFrame.\n",
      "Try using .loc[row_indexer,col_indexer] = value instead\n",
      "\n",
      "See the caveats in the documentation: https://pandas.pydata.org/pandas-docs/stable/user_guide/indexing.html#returning-a-view-versus-a-copy\n",
      "  incidents['Priority'] = incidents.apply(lambda x: calculate_priority(x['Крайний срок'], x['Т события']), axis=1)\n",
      "/var/folders/kh/50vdcfkx3ns_f9_ck_fnbwbc0000gn/T/ipykernel_16799/3770153402.py:5: SettingWithCopyWarning: \n",
      "A value is trying to be set on a copy of a slice from a DataFrame.\n",
      "Try using .loc[row_indexer,col_indexer] = value instead\n",
      "\n",
      "See the caveats in the documentation: https://pandas.pydata.org/pandas-docs/stable/user_guide/indexing.html#returning-a-view-versus-a-copy\n",
      "  incidents['Priority'] = incidents.apply(lambda x: calculate_priority(x['Крайний срок'], x['Т события']), axis=1)\n",
      "/var/folders/kh/50vdcfkx3ns_f9_ck_fnbwbc0000gn/T/ipykernel_16799/3770153402.py:5: SettingWithCopyWarning: \n",
      "A value is trying to be set on a copy of a slice from a DataFrame.\n",
      "Try using .loc[row_indexer,col_indexer] = value instead\n",
      "\n",
      "See the caveats in the documentation: https://pandas.pydata.org/pandas-docs/stable/user_guide/indexing.html#returning-a-view-versus-a-copy\n",
      "  incidents['Priority'] = incidents.apply(lambda x: calculate_priority(x['Крайний срок'], x['Т события']), axis=1)\n",
      "/var/folders/kh/50vdcfkx3ns_f9_ck_fnbwbc0000gn/T/ipykernel_16799/3770153402.py:5: SettingWithCopyWarning: \n",
      "A value is trying to be set on a copy of a slice from a DataFrame.\n",
      "Try using .loc[row_indexer,col_indexer] = value instead\n",
      "\n",
      "See the caveats in the documentation: https://pandas.pydata.org/pandas-docs/stable/user_guide/indexing.html#returning-a-view-versus-a-copy\n",
      "  incidents['Priority'] = incidents.apply(lambda x: calculate_priority(x['Крайний срок'], x['Т события']), axis=1)\n",
      "/var/folders/kh/50vdcfkx3ns_f9_ck_fnbwbc0000gn/T/ipykernel_16799/3770153402.py:5: SettingWithCopyWarning: \n",
      "A value is trying to be set on a copy of a slice from a DataFrame.\n",
      "Try using .loc[row_indexer,col_indexer] = value instead\n",
      "\n",
      "See the caveats in the documentation: https://pandas.pydata.org/pandas-docs/stable/user_guide/indexing.html#returning-a-view-versus-a-copy\n",
      "  incidents['Priority'] = incidents.apply(lambda x: calculate_priority(x['Крайний срок'], x['Т события']), axis=1)\n",
      "/var/folders/kh/50vdcfkx3ns_f9_ck_fnbwbc0000gn/T/ipykernel_16799/3770153402.py:5: SettingWithCopyWarning: \n",
      "A value is trying to be set on a copy of a slice from a DataFrame.\n",
      "Try using .loc[row_indexer,col_indexer] = value instead\n",
      "\n",
      "See the caveats in the documentation: https://pandas.pydata.org/pandas-docs/stable/user_guide/indexing.html#returning-a-view-versus-a-copy\n",
      "  incidents['Priority'] = incidents.apply(lambda x: calculate_priority(x['Крайний срок'], x['Т события']), axis=1)\n",
      "/var/folders/kh/50vdcfkx3ns_f9_ck_fnbwbc0000gn/T/ipykernel_16799/3770153402.py:5: SettingWithCopyWarning: \n",
      "A value is trying to be set on a copy of a slice from a DataFrame.\n",
      "Try using .loc[row_indexer,col_indexer] = value instead\n",
      "\n",
      "See the caveats in the documentation: https://pandas.pydata.org/pandas-docs/stable/user_guide/indexing.html#returning-a-view-versus-a-copy\n",
      "  incidents['Priority'] = incidents.apply(lambda x: calculate_priority(x['Крайний срок'], x['Т события']), axis=1)\n",
      "/var/folders/kh/50vdcfkx3ns_f9_ck_fnbwbc0000gn/T/ipykernel_16799/3770153402.py:5: SettingWithCopyWarning: \n",
      "A value is trying to be set on a copy of a slice from a DataFrame.\n",
      "Try using .loc[row_indexer,col_indexer] = value instead\n",
      "\n",
      "See the caveats in the documentation: https://pandas.pydata.org/pandas-docs/stable/user_guide/indexing.html#returning-a-view-versus-a-copy\n",
      "  incidents['Priority'] = incidents.apply(lambda x: calculate_priority(x['Крайний срок'], x['Т события']), axis=1)\n",
      "/var/folders/kh/50vdcfkx3ns_f9_ck_fnbwbc0000gn/T/ipykernel_16799/3770153402.py:5: SettingWithCopyWarning: \n",
      "A value is trying to be set on a copy of a slice from a DataFrame.\n",
      "Try using .loc[row_indexer,col_indexer] = value instead\n",
      "\n",
      "See the caveats in the documentation: https://pandas.pydata.org/pandas-docs/stable/user_guide/indexing.html#returning-a-view-versus-a-copy\n",
      "  incidents['Priority'] = incidents.apply(lambda x: calculate_priority(x['Крайний срок'], x['Т события']), axis=1)\n",
      "/var/folders/kh/50vdcfkx3ns_f9_ck_fnbwbc0000gn/T/ipykernel_16799/3770153402.py:5: SettingWithCopyWarning: \n",
      "A value is trying to be set on a copy of a slice from a DataFrame.\n",
      "Try using .loc[row_indexer,col_indexer] = value instead\n",
      "\n",
      "See the caveats in the documentation: https://pandas.pydata.org/pandas-docs/stable/user_guide/indexing.html#returning-a-view-versus-a-copy\n",
      "  incidents['Priority'] = incidents.apply(lambda x: calculate_priority(x['Крайний срок'], x['Т события']), axis=1)\n",
      "/var/folders/kh/50vdcfkx3ns_f9_ck_fnbwbc0000gn/T/ipykernel_16799/3770153402.py:5: SettingWithCopyWarning: \n",
      "A value is trying to be set on a copy of a slice from a DataFrame.\n",
      "Try using .loc[row_indexer,col_indexer] = value instead\n",
      "\n",
      "See the caveats in the documentation: https://pandas.pydata.org/pandas-docs/stable/user_guide/indexing.html#returning-a-view-versus-a-copy\n",
      "  incidents['Priority'] = incidents.apply(lambda x: calculate_priority(x['Крайний срок'], x['Т события']), axis=1)\n",
      "/var/folders/kh/50vdcfkx3ns_f9_ck_fnbwbc0000gn/T/ipykernel_16799/3770153402.py:5: SettingWithCopyWarning: \n",
      "A value is trying to be set on a copy of a slice from a DataFrame.\n",
      "Try using .loc[row_indexer,col_indexer] = value instead\n",
      "\n",
      "See the caveats in the documentation: https://pandas.pydata.org/pandas-docs/stable/user_guide/indexing.html#returning-a-view-versus-a-copy\n",
      "  incidents['Priority'] = incidents.apply(lambda x: calculate_priority(x['Крайний срок'], x['Т события']), axis=1)\n",
      "/var/folders/kh/50vdcfkx3ns_f9_ck_fnbwbc0000gn/T/ipykernel_16799/3770153402.py:5: SettingWithCopyWarning: \n",
      "A value is trying to be set on a copy of a slice from a DataFrame.\n",
      "Try using .loc[row_indexer,col_indexer] = value instead\n",
      "\n",
      "See the caveats in the documentation: https://pandas.pydata.org/pandas-docs/stable/user_guide/indexing.html#returning-a-view-versus-a-copy\n",
      "  incidents['Priority'] = incidents.apply(lambda x: calculate_priority(x['Крайний срок'], x['Т события']), axis=1)\n",
      "/var/folders/kh/50vdcfkx3ns_f9_ck_fnbwbc0000gn/T/ipykernel_16799/3770153402.py:5: SettingWithCopyWarning: \n",
      "A value is trying to be set on a copy of a slice from a DataFrame.\n",
      "Try using .loc[row_indexer,col_indexer] = value instead\n",
      "\n",
      "See the caveats in the documentation: https://pandas.pydata.org/pandas-docs/stable/user_guide/indexing.html#returning-a-view-versus-a-copy\n",
      "  incidents['Priority'] = incidents.apply(lambda x: calculate_priority(x['Крайний срок'], x['Т события']), axis=1)\n",
      "/var/folders/kh/50vdcfkx3ns_f9_ck_fnbwbc0000gn/T/ipykernel_16799/3770153402.py:5: SettingWithCopyWarning: \n",
      "A value is trying to be set on a copy of a slice from a DataFrame.\n",
      "Try using .loc[row_indexer,col_indexer] = value instead\n",
      "\n",
      "See the caveats in the documentation: https://pandas.pydata.org/pandas-docs/stable/user_guide/indexing.html#returning-a-view-versus-a-copy\n",
      "  incidents['Priority'] = incidents.apply(lambda x: calculate_priority(x['Крайний срок'], x['Т события']), axis=1)\n",
      "/var/folders/kh/50vdcfkx3ns_f9_ck_fnbwbc0000gn/T/ipykernel_16799/3770153402.py:5: SettingWithCopyWarning: \n",
      "A value is trying to be set on a copy of a slice from a DataFrame.\n",
      "Try using .loc[row_indexer,col_indexer] = value instead\n",
      "\n",
      "See the caveats in the documentation: https://pandas.pydata.org/pandas-docs/stable/user_guide/indexing.html#returning-a-view-versus-a-copy\n",
      "  incidents['Priority'] = incidents.apply(lambda x: calculate_priority(x['Крайний срок'], x['Т события']), axis=1)\n",
      "/var/folders/kh/50vdcfkx3ns_f9_ck_fnbwbc0000gn/T/ipykernel_16799/3770153402.py:5: SettingWithCopyWarning: \n",
      "A value is trying to be set on a copy of a slice from a DataFrame.\n",
      "Try using .loc[row_indexer,col_indexer] = value instead\n",
      "\n",
      "See the caveats in the documentation: https://pandas.pydata.org/pandas-docs/stable/user_guide/indexing.html#returning-a-view-versus-a-copy\n",
      "  incidents['Priority'] = incidents.apply(lambda x: calculate_priority(x['Крайний срок'], x['Т события']), axis=1)\n",
      "/var/folders/kh/50vdcfkx3ns_f9_ck_fnbwbc0000gn/T/ipykernel_16799/3770153402.py:5: SettingWithCopyWarning: \n",
      "A value is trying to be set on a copy of a slice from a DataFrame.\n",
      "Try using .loc[row_indexer,col_indexer] = value instead\n",
      "\n",
      "See the caveats in the documentation: https://pandas.pydata.org/pandas-docs/stable/user_guide/indexing.html#returning-a-view-versus-a-copy\n",
      "  incidents['Priority'] = incidents.apply(lambda x: calculate_priority(x['Крайний срок'], x['Т события']), axis=1)\n",
      "/var/folders/kh/50vdcfkx3ns_f9_ck_fnbwbc0000gn/T/ipykernel_16799/3770153402.py:5: SettingWithCopyWarning: \n",
      "A value is trying to be set on a copy of a slice from a DataFrame.\n",
      "Try using .loc[row_indexer,col_indexer] = value instead\n",
      "\n",
      "See the caveats in the documentation: https://pandas.pydata.org/pandas-docs/stable/user_guide/indexing.html#returning-a-view-versus-a-copy\n",
      "  incidents['Priority'] = incidents.apply(lambda x: calculate_priority(x['Крайний срок'], x['Т события']), axis=1)\n",
      "/var/folders/kh/50vdcfkx3ns_f9_ck_fnbwbc0000gn/T/ipykernel_16799/3770153402.py:5: SettingWithCopyWarning: \n",
      "A value is trying to be set on a copy of a slice from a DataFrame.\n",
      "Try using .loc[row_indexer,col_indexer] = value instead\n",
      "\n",
      "See the caveats in the documentation: https://pandas.pydata.org/pandas-docs/stable/user_guide/indexing.html#returning-a-view-versus-a-copy\n",
      "  incidents['Priority'] = incidents.apply(lambda x: calculate_priority(x['Крайний срок'], x['Т события']), axis=1)\n",
      "/var/folders/kh/50vdcfkx3ns_f9_ck_fnbwbc0000gn/T/ipykernel_16799/3770153402.py:5: SettingWithCopyWarning: \n",
      "A value is trying to be set on a copy of a slice from a DataFrame.\n",
      "Try using .loc[row_indexer,col_indexer] = value instead\n",
      "\n",
      "See the caveats in the documentation: https://pandas.pydata.org/pandas-docs/stable/user_guide/indexing.html#returning-a-view-versus-a-copy\n",
      "  incidents['Priority'] = incidents.apply(lambda x: calculate_priority(x['Крайний срок'], x['Т события']), axis=1)\n",
      "/var/folders/kh/50vdcfkx3ns_f9_ck_fnbwbc0000gn/T/ipykernel_16799/3770153402.py:5: SettingWithCopyWarning: \n",
      "A value is trying to be set on a copy of a slice from a DataFrame.\n",
      "Try using .loc[row_indexer,col_indexer] = value instead\n",
      "\n",
      "See the caveats in the documentation: https://pandas.pydata.org/pandas-docs/stable/user_guide/indexing.html#returning-a-view-versus-a-copy\n",
      "  incidents['Priority'] = incidents.apply(lambda x: calculate_priority(x['Крайний срок'], x['Т события']), axis=1)\n",
      "/var/folders/kh/50vdcfkx3ns_f9_ck_fnbwbc0000gn/T/ipykernel_16799/3770153402.py:5: SettingWithCopyWarning: \n",
      "A value is trying to be set on a copy of a slice from a DataFrame.\n",
      "Try using .loc[row_indexer,col_indexer] = value instead\n",
      "\n",
      "See the caveats in the documentation: https://pandas.pydata.org/pandas-docs/stable/user_guide/indexing.html#returning-a-view-versus-a-copy\n",
      "  incidents['Priority'] = incidents.apply(lambda x: calculate_priority(x['Крайний срок'], x['Т события']), axis=1)\n",
      "/var/folders/kh/50vdcfkx3ns_f9_ck_fnbwbc0000gn/T/ipykernel_16799/3770153402.py:5: SettingWithCopyWarning: \n",
      "A value is trying to be set on a copy of a slice from a DataFrame.\n",
      "Try using .loc[row_indexer,col_indexer] = value instead\n",
      "\n",
      "See the caveats in the documentation: https://pandas.pydata.org/pandas-docs/stable/user_guide/indexing.html#returning-a-view-versus-a-copy\n",
      "  incidents['Priority'] = incidents.apply(lambda x: calculate_priority(x['Крайний срок'], x['Т события']), axis=1)\n",
      "/var/folders/kh/50vdcfkx3ns_f9_ck_fnbwbc0000gn/T/ipykernel_16799/3770153402.py:5: SettingWithCopyWarning: \n",
      "A value is trying to be set on a copy of a slice from a DataFrame.\n",
      "Try using .loc[row_indexer,col_indexer] = value instead\n",
      "\n",
      "See the caveats in the documentation: https://pandas.pydata.org/pandas-docs/stable/user_guide/indexing.html#returning-a-view-versus-a-copy\n",
      "  incidents['Priority'] = incidents.apply(lambda x: calculate_priority(x['Крайний срок'], x['Т события']), axis=1)\n",
      "/var/folders/kh/50vdcfkx3ns_f9_ck_fnbwbc0000gn/T/ipykernel_16799/3770153402.py:5: SettingWithCopyWarning: \n",
      "A value is trying to be set on a copy of a slice from a DataFrame.\n",
      "Try using .loc[row_indexer,col_indexer] = value instead\n",
      "\n",
      "See the caveats in the documentation: https://pandas.pydata.org/pandas-docs/stable/user_guide/indexing.html#returning-a-view-versus-a-copy\n",
      "  incidents['Priority'] = incidents.apply(lambda x: calculate_priority(x['Крайний срок'], x['Т события']), axis=1)\n",
      "/var/folders/kh/50vdcfkx3ns_f9_ck_fnbwbc0000gn/T/ipykernel_16799/3770153402.py:5: SettingWithCopyWarning: \n",
      "A value is trying to be set on a copy of a slice from a DataFrame.\n",
      "Try using .loc[row_indexer,col_indexer] = value instead\n",
      "\n",
      "See the caveats in the documentation: https://pandas.pydata.org/pandas-docs/stable/user_guide/indexing.html#returning-a-view-versus-a-copy\n",
      "  incidents['Priority'] = incidents.apply(lambda x: calculate_priority(x['Крайний срок'], x['Т события']), axis=1)\n",
      "/var/folders/kh/50vdcfkx3ns_f9_ck_fnbwbc0000gn/T/ipykernel_16799/3770153402.py:5: SettingWithCopyWarning: \n",
      "A value is trying to be set on a copy of a slice from a DataFrame.\n",
      "Try using .loc[row_indexer,col_indexer] = value instead\n",
      "\n",
      "See the caveats in the documentation: https://pandas.pydata.org/pandas-docs/stable/user_guide/indexing.html#returning-a-view-versus-a-copy\n",
      "  incidents['Priority'] = incidents.apply(lambda x: calculate_priority(x['Крайний срок'], x['Т события']), axis=1)\n",
      "/var/folders/kh/50vdcfkx3ns_f9_ck_fnbwbc0000gn/T/ipykernel_16799/3770153402.py:5: SettingWithCopyWarning: \n",
      "A value is trying to be set on a copy of a slice from a DataFrame.\n",
      "Try using .loc[row_indexer,col_indexer] = value instead\n",
      "\n",
      "See the caveats in the documentation: https://pandas.pydata.org/pandas-docs/stable/user_guide/indexing.html#returning-a-view-versus-a-copy\n",
      "  incidents['Priority'] = incidents.apply(lambda x: calculate_priority(x['Крайний срок'], x['Т события']), axis=1)\n",
      "/var/folders/kh/50vdcfkx3ns_f9_ck_fnbwbc0000gn/T/ipykernel_16799/3770153402.py:5: SettingWithCopyWarning: \n",
      "A value is trying to be set on a copy of a slice from a DataFrame.\n",
      "Try using .loc[row_indexer,col_indexer] = value instead\n",
      "\n",
      "See the caveats in the documentation: https://pandas.pydata.org/pandas-docs/stable/user_guide/indexing.html#returning-a-view-versus-a-copy\n",
      "  incidents['Priority'] = incidents.apply(lambda x: calculate_priority(x['Крайний срок'], x['Т события']), axis=1)\n",
      "/var/folders/kh/50vdcfkx3ns_f9_ck_fnbwbc0000gn/T/ipykernel_16799/3770153402.py:5: SettingWithCopyWarning: \n",
      "A value is trying to be set on a copy of a slice from a DataFrame.\n",
      "Try using .loc[row_indexer,col_indexer] = value instead\n",
      "\n",
      "See the caveats in the documentation: https://pandas.pydata.org/pandas-docs/stable/user_guide/indexing.html#returning-a-view-versus-a-copy\n",
      "  incidents['Priority'] = incidents.apply(lambda x: calculate_priority(x['Крайний срок'], x['Т события']), axis=1)\n",
      "/var/folders/kh/50vdcfkx3ns_f9_ck_fnbwbc0000gn/T/ipykernel_16799/3770153402.py:5: SettingWithCopyWarning: \n",
      "A value is trying to be set on a copy of a slice from a DataFrame.\n",
      "Try using .loc[row_indexer,col_indexer] = value instead\n",
      "\n",
      "See the caveats in the documentation: https://pandas.pydata.org/pandas-docs/stable/user_guide/indexing.html#returning-a-view-versus-a-copy\n",
      "  incidents['Priority'] = incidents.apply(lambda x: calculate_priority(x['Крайний срок'], x['Т события']), axis=1)\n",
      "/var/folders/kh/50vdcfkx3ns_f9_ck_fnbwbc0000gn/T/ipykernel_16799/3770153402.py:5: SettingWithCopyWarning: \n",
      "A value is trying to be set on a copy of a slice from a DataFrame.\n",
      "Try using .loc[row_indexer,col_indexer] = value instead\n",
      "\n",
      "See the caveats in the documentation: https://pandas.pydata.org/pandas-docs/stable/user_guide/indexing.html#returning-a-view-versus-a-copy\n",
      "  incidents['Priority'] = incidents.apply(lambda x: calculate_priority(x['Крайний срок'], x['Т события']), axis=1)\n",
      "/var/folders/kh/50vdcfkx3ns_f9_ck_fnbwbc0000gn/T/ipykernel_16799/3770153402.py:5: SettingWithCopyWarning: \n",
      "A value is trying to be set on a copy of a slice from a DataFrame.\n",
      "Try using .loc[row_indexer,col_indexer] = value instead\n",
      "\n",
      "See the caveats in the documentation: https://pandas.pydata.org/pandas-docs/stable/user_guide/indexing.html#returning-a-view-versus-a-copy\n",
      "  incidents['Priority'] = incidents.apply(lambda x: calculate_priority(x['Крайний срок'], x['Т события']), axis=1)\n",
      "/var/folders/kh/50vdcfkx3ns_f9_ck_fnbwbc0000gn/T/ipykernel_16799/3770153402.py:5: SettingWithCopyWarning: \n",
      "A value is trying to be set on a copy of a slice from a DataFrame.\n",
      "Try using .loc[row_indexer,col_indexer] = value instead\n",
      "\n",
      "See the caveats in the documentation: https://pandas.pydata.org/pandas-docs/stable/user_guide/indexing.html#returning-a-view-versus-a-copy\n",
      "  incidents['Priority'] = incidents.apply(lambda x: calculate_priority(x['Крайний срок'], x['Т события']), axis=1)\n",
      "/var/folders/kh/50vdcfkx3ns_f9_ck_fnbwbc0000gn/T/ipykernel_16799/3770153402.py:5: SettingWithCopyWarning: \n",
      "A value is trying to be set on a copy of a slice from a DataFrame.\n",
      "Try using .loc[row_indexer,col_indexer] = value instead\n",
      "\n",
      "See the caveats in the documentation: https://pandas.pydata.org/pandas-docs/stable/user_guide/indexing.html#returning-a-view-versus-a-copy\n",
      "  incidents['Priority'] = incidents.apply(lambda x: calculate_priority(x['Крайний срок'], x['Т события']), axis=1)\n",
      "/var/folders/kh/50vdcfkx3ns_f9_ck_fnbwbc0000gn/T/ipykernel_16799/3770153402.py:5: SettingWithCopyWarning: \n",
      "A value is trying to be set on a copy of a slice from a DataFrame.\n",
      "Try using .loc[row_indexer,col_indexer] = value instead\n",
      "\n",
      "See the caveats in the documentation: https://pandas.pydata.org/pandas-docs/stable/user_guide/indexing.html#returning-a-view-versus-a-copy\n",
      "  incidents['Priority'] = incidents.apply(lambda x: calculate_priority(x['Крайний срок'], x['Т события']), axis=1)\n",
      "/var/folders/kh/50vdcfkx3ns_f9_ck_fnbwbc0000gn/T/ipykernel_16799/3770153402.py:5: SettingWithCopyWarning: \n",
      "A value is trying to be set on a copy of a slice from a DataFrame.\n",
      "Try using .loc[row_indexer,col_indexer] = value instead\n",
      "\n",
      "See the caveats in the documentation: https://pandas.pydata.org/pandas-docs/stable/user_guide/indexing.html#returning-a-view-versus-a-copy\n",
      "  incidents['Priority'] = incidents.apply(lambda x: calculate_priority(x['Крайний срок'], x['Т события']), axis=1)\n",
      "/var/folders/kh/50vdcfkx3ns_f9_ck_fnbwbc0000gn/T/ipykernel_16799/3770153402.py:5: SettingWithCopyWarning: \n",
      "A value is trying to be set on a copy of a slice from a DataFrame.\n",
      "Try using .loc[row_indexer,col_indexer] = value instead\n",
      "\n",
      "See the caveats in the documentation: https://pandas.pydata.org/pandas-docs/stable/user_guide/indexing.html#returning-a-view-versus-a-copy\n",
      "  incidents['Priority'] = incidents.apply(lambda x: calculate_priority(x['Крайний срок'], x['Т события']), axis=1)\n",
      "/var/folders/kh/50vdcfkx3ns_f9_ck_fnbwbc0000gn/T/ipykernel_16799/3770153402.py:5: SettingWithCopyWarning: \n",
      "A value is trying to be set on a copy of a slice from a DataFrame.\n",
      "Try using .loc[row_indexer,col_indexer] = value instead\n",
      "\n",
      "See the caveats in the documentation: https://pandas.pydata.org/pandas-docs/stable/user_guide/indexing.html#returning-a-view-versus-a-copy\n",
      "  incidents['Priority'] = incidents.apply(lambda x: calculate_priority(x['Крайний срок'], x['Т события']), axis=1)\n",
      "/var/folders/kh/50vdcfkx3ns_f9_ck_fnbwbc0000gn/T/ipykernel_16799/3770153402.py:5: SettingWithCopyWarning: \n",
      "A value is trying to be set on a copy of a slice from a DataFrame.\n",
      "Try using .loc[row_indexer,col_indexer] = value instead\n",
      "\n",
      "See the caveats in the documentation: https://pandas.pydata.org/pandas-docs/stable/user_guide/indexing.html#returning-a-view-versus-a-copy\n",
      "  incidents['Priority'] = incidents.apply(lambda x: calculate_priority(x['Крайний срок'], x['Т события']), axis=1)\n",
      "/var/folders/kh/50vdcfkx3ns_f9_ck_fnbwbc0000gn/T/ipykernel_16799/3770153402.py:5: SettingWithCopyWarning: \n",
      "A value is trying to be set on a copy of a slice from a DataFrame.\n",
      "Try using .loc[row_indexer,col_indexer] = value instead\n",
      "\n",
      "See the caveats in the documentation: https://pandas.pydata.org/pandas-docs/stable/user_guide/indexing.html#returning-a-view-versus-a-copy\n",
      "  incidents['Priority'] = incidents.apply(lambda x: calculate_priority(x['Крайний срок'], x['Т события']), axis=1)\n",
      "/var/folders/kh/50vdcfkx3ns_f9_ck_fnbwbc0000gn/T/ipykernel_16799/3770153402.py:5: SettingWithCopyWarning: \n",
      "A value is trying to be set on a copy of a slice from a DataFrame.\n",
      "Try using .loc[row_indexer,col_indexer] = value instead\n",
      "\n",
      "See the caveats in the documentation: https://pandas.pydata.org/pandas-docs/stable/user_guide/indexing.html#returning-a-view-versus-a-copy\n",
      "  incidents['Priority'] = incidents.apply(lambda x: calculate_priority(x['Крайний срок'], x['Т события']), axis=1)\n",
      "/var/folders/kh/50vdcfkx3ns_f9_ck_fnbwbc0000gn/T/ipykernel_16799/3770153402.py:5: SettingWithCopyWarning: \n",
      "A value is trying to be set on a copy of a slice from a DataFrame.\n",
      "Try using .loc[row_indexer,col_indexer] = value instead\n",
      "\n",
      "See the caveats in the documentation: https://pandas.pydata.org/pandas-docs/stable/user_guide/indexing.html#returning-a-view-versus-a-copy\n",
      "  incidents['Priority'] = incidents.apply(lambda x: calculate_priority(x['Крайний срок'], x['Т события']), axis=1)\n",
      "/var/folders/kh/50vdcfkx3ns_f9_ck_fnbwbc0000gn/T/ipykernel_16799/3770153402.py:5: SettingWithCopyWarning: \n",
      "A value is trying to be set on a copy of a slice from a DataFrame.\n",
      "Try using .loc[row_indexer,col_indexer] = value instead\n",
      "\n",
      "See the caveats in the documentation: https://pandas.pydata.org/pandas-docs/stable/user_guide/indexing.html#returning-a-view-versus-a-copy\n",
      "  incidents['Priority'] = incidents.apply(lambda x: calculate_priority(x['Крайний срок'], x['Т события']), axis=1)\n"
     ]
    },
    {
     "ename": "KeyboardInterrupt",
     "evalue": "",
     "output_type": "error",
     "traceback": [
      "\u001B[0;31m---------------------------------------------------------------------------\u001B[0m",
      "\u001B[0;31mKeyboardInterrupt\u001B[0m                         Traceback (most recent call last)",
      "Input \u001B[0;32mIn [20]\u001B[0m, in \u001B[0;36m<cell line: 4>\u001B[0;34m()\u001B[0m\n\u001B[1;32m      2\u001B[0m start_date \u001B[38;5;241m=\u001B[39m incidents[\u001B[38;5;124m'\u001B[39m\u001B[38;5;124mТ события\u001B[39m\u001B[38;5;124m'\u001B[39m]\u001B[38;5;241m.\u001B[39mmin()\n\u001B[1;32m      3\u001B[0m end_date \u001B[38;5;241m=\u001B[39m incidents[\u001B[38;5;124m'\u001B[39m\u001B[38;5;124mТ события\u001B[39m\u001B[38;5;124m'\u001B[39m]\u001B[38;5;241m.\u001B[39mmax()\n\u001B[0;32m----> 4\u001B[0m daily_distributions \u001B[38;5;241m=\u001B[39m \u001B[43mdistribute_daily_incidents\u001B[49m\u001B[43m(\u001B[49m\u001B[43mincidents\u001B[49m\u001B[43m,\u001B[49m\u001B[43m \u001B[49m\u001B[43mbrigades\u001B[49m\u001B[43m,\u001B[49m\u001B[43m \u001B[49m\u001B[43mstart_date\u001B[49m\u001B[43m,\u001B[49m\u001B[43m \u001B[49m\u001B[43mend_date\u001B[49m\u001B[43m,\u001B[49m\u001B[43m \u001B[49m\u001B[43mG\u001B[49m\u001B[43m)\u001B[49m\n\u001B[1;32m      5\u001B[0m save_assignments(daily_distributions, incidents)\n",
      "Input \u001B[0;32mIn [17]\u001B[0m, in \u001B[0;36mdistribute_daily_incidents\u001B[0;34m(incidents, brigades, start_date, end_date, G)\u001B[0m\n\u001B[1;32m      5\u001B[0m \u001B[38;5;28;01mwhile\u001B[39;00m current_date \u001B[38;5;241m<\u001B[39m\u001B[38;5;241m=\u001B[39m end_date:\n\u001B[1;32m      6\u001B[0m     daily_incidents \u001B[38;5;241m=\u001B[39m incidents[incidents[\u001B[38;5;124m'\u001B[39m\u001B[38;5;124mТ события\u001B[39m\u001B[38;5;124m'\u001B[39m]\u001B[38;5;241m.\u001B[39mdt\u001B[38;5;241m.\u001B[39mdate \u001B[38;5;241m==\u001B[39m current_date\u001B[38;5;241m.\u001B[39mdate()]\n\u001B[0;32m----> 7\u001B[0m     daily_assignments[current_date] \u001B[38;5;241m=\u001B[39m \u001B[43massign_incidents_to_brigades\u001B[49m\u001B[43m(\u001B[49m\u001B[43mdaily_incidents\u001B[49m\u001B[43m,\u001B[49m\u001B[43m \u001B[49m\u001B[43mbrigades\u001B[49m\u001B[43m,\u001B[49m\u001B[43m \u001B[49m\u001B[43mG\u001B[49m\u001B[43m,\u001B[49m\u001B[43m \u001B[49m\u001B[43mbrigade_availability\u001B[49m\u001B[43m)\u001B[49m  \u001B[38;5;66;03m# Добавлен аргумент\u001B[39;00m\n\u001B[1;32m      8\u001B[0m     current_date \u001B[38;5;241m+\u001B[39m\u001B[38;5;241m=\u001B[39m timedelta(days\u001B[38;5;241m=\u001B[39m\u001B[38;5;241m1\u001B[39m)\n\u001B[1;32m      9\u001B[0m \u001B[38;5;28;01mreturn\u001B[39;00m daily_assignments\n",
      "Input \u001B[0;32mIn [16]\u001B[0m, in \u001B[0;36massign_incidents_to_brigades\u001B[0;34m(incidents, brigades, G, brigade_availability)\u001B[0m\n\u001B[1;32m     14\u001B[0m best_end_time \u001B[38;5;241m=\u001B[39m \u001B[38;5;28;01mNone\u001B[39;00m  \u001B[38;5;66;03m# Для хранения времени окончания работы\u001B[39;00m\n\u001B[1;32m     16\u001B[0m \u001B[38;5;28;01mfor\u001B[39;00m brigade_name, brigade_coord \u001B[38;5;129;01min\u001B[39;00m brigades\u001B[38;5;241m.\u001B[39mitems():\n\u001B[0;32m---> 17\u001B[0m     path_length \u001B[38;5;241m=\u001B[39m \u001B[43mget_shortest_path_length\u001B[49m\u001B[43m(\u001B[49m\u001B[43mG\u001B[49m\u001B[43m,\u001B[49m\u001B[43m \u001B[49m\u001B[43mbrigade_coord\u001B[49m\u001B[43m,\u001B[49m\u001B[43m \u001B[49m\u001B[43mincident_coord\u001B[49m\u001B[43m)\u001B[49m\n\u001B[1;32m     18\u001B[0m     travel_time_hours \u001B[38;5;241m=\u001B[39m calculate_travel_time(path_length)  \u001B[38;5;66;03m# Время в пути в часах\u001B[39;00m\n\u001B[1;32m     19\u001B[0m     travel_time \u001B[38;5;241m=\u001B[39m timedelta(hours\u001B[38;5;241m=\u001B[39mtravel_time_hours)  \u001B[38;5;66;03m# Преобразуем в timedelta\u001B[39;00m\n",
      "Input \u001B[0;32mIn [7]\u001B[0m, in \u001B[0;36mget_shortest_path_length\u001B[0;34m(G, start_point, end_point)\u001B[0m\n\u001B[1;32m      2\u001B[0m \u001B[38;5;28;01mdef\u001B[39;00m \u001B[38;5;21mget_shortest_path_length\u001B[39m(G, start_point, end_point):\n\u001B[0;32m----> 3\u001B[0m     start_node \u001B[38;5;241m=\u001B[39m \u001B[43mox\u001B[49m\u001B[38;5;241;43m.\u001B[39;49m\u001B[43mdistance\u001B[49m\u001B[38;5;241;43m.\u001B[39;49m\u001B[43mnearest_nodes\u001B[49m\u001B[43m(\u001B[49m\u001B[43mG\u001B[49m\u001B[43m,\u001B[49m\u001B[43m \u001B[49m\u001B[43mstart_point\u001B[49m\u001B[43m[\u001B[49m\u001B[38;5;241;43m1\u001B[39;49m\u001B[43m]\u001B[49m\u001B[43m,\u001B[49m\u001B[43m \u001B[49m\u001B[43mstart_point\u001B[49m\u001B[43m[\u001B[49m\u001B[38;5;241;43m0\u001B[39;49m\u001B[43m]\u001B[49m\u001B[43m)\u001B[49m\n\u001B[1;32m      4\u001B[0m     end_node \u001B[38;5;241m=\u001B[39m ox\u001B[38;5;241m.\u001B[39mdistance\u001B[38;5;241m.\u001B[39mnearest_nodes(G, end_point[\u001B[38;5;241m1\u001B[39m], end_point[\u001B[38;5;241m0\u001B[39m])\n\u001B[1;32m      5\u001B[0m     length \u001B[38;5;241m=\u001B[39m nx\u001B[38;5;241m.\u001B[39mshortest_path_length(G, start_node, end_node, weight\u001B[38;5;241m=\u001B[39m\u001B[38;5;124m'\u001B[39m\u001B[38;5;124mlength\u001B[39m\u001B[38;5;124m'\u001B[39m)\n",
      "File \u001B[0;32m~/opt/anaconda3/lib/python3.9/site-packages/osmnx/distance.py:286\u001B[0m, in \u001B[0;36mnearest_nodes\u001B[0;34m(G, X, Y, return_dist)\u001B[0m\n\u001B[1;32m    284\u001B[0m         msg \u001B[38;5;241m=\u001B[39m \u001B[38;5;124m\"\u001B[39m\u001B[38;5;124mscipy must be installed to search a projected graph\u001B[39m\u001B[38;5;124m\"\u001B[39m\n\u001B[1;32m    285\u001B[0m         \u001B[38;5;28;01mraise\u001B[39;00m \u001B[38;5;167;01mImportError\u001B[39;00m(msg)\n\u001B[0;32m--> 286\u001B[0m     dist, pos \u001B[38;5;241m=\u001B[39m \u001B[43mcKDTree\u001B[49m\u001B[43m(\u001B[49m\u001B[43mnodes\u001B[49m\u001B[43m)\u001B[49m\u001B[38;5;241m.\u001B[39mquery(np\u001B[38;5;241m.\u001B[39marray([X, Y])\u001B[38;5;241m.\u001B[39mT, k\u001B[38;5;241m=\u001B[39m\u001B[38;5;241m1\u001B[39m)\n\u001B[1;32m    287\u001B[0m     nn \u001B[38;5;241m=\u001B[39m nodes\u001B[38;5;241m.\u001B[39mindex[pos]\n\u001B[1;32m    289\u001B[0m \u001B[38;5;28;01melse\u001B[39;00m:\n\u001B[1;32m    290\u001B[0m     \u001B[38;5;66;03m# if unprojected, use ball tree for haversine nearest-neighbor search\u001B[39;00m\n",
      "\u001B[0;31mKeyboardInterrupt\u001B[0m: "
     ]
    }
   ],
   "source": [
    "# Вызов функций для распределения и сохранения результатов\n",
    "start_date = incidents['Т события'].min()\n",
    "end_date = incidents['Т события'].max()\n",
    "daily_distributions = distribute_daily_incidents(incidents, brigades, start_date, end_date, G)\n",
    "save_assignments(daily_distributions, incidents)"
   ]
  },
  {
   "cell_type": "code",
   "execution_count": null,
   "id": "initial_id",
   "metadata": {
    "collapsed": true,
    "ExecuteTime": {
     "end_time": "2024-04-08T00:11:44.913619Z",
     "start_time": "2024-04-08T00:11:44.912733Z"
    }
   },
   "outputs": [],
   "source": [
    "#4 часовые и 6 часовые приоретет deadline учет рабочего времени бригада A и C меняется в 9 часов утра бригады B D 8 часовые приемка час сдача смены пол часа"
   ]
  }
 ],
 "metadata": {
  "kernelspec": {
   "display_name": "Python 3",
   "language": "python",
   "name": "python3"
  },
  "language_info": {
   "codemirror_mode": {
    "name": "ipython",
    "version": 3
   },
   "file_extension": ".py",
   "mimetype": "text/x-python",
   "name": "python",
   "nbconvert_exporter": "python",
   "pygments_lexer": "ipython3",
   "version": "3.10.7"
  }
 },
 "nbformat": 4,
 "nbformat_minor": 5
}
