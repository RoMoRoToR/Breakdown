{
  "cells": [
    {
      "cell_type": "code",
      "execution_count": null,
      "id": "181c65b00e7b707f",
      "metadata": {
        "ExecuteTime": {
          "end_time": "2024-03-06T15:03:32.163945Z",
          "start_time": "2024-03-06T15:03:32.149268Z"
        },
        "id": "181c65b00e7b707f"
      },
      "outputs": [],
      "source": [
        "import pandas as pd\n",
        "from geopy.distance import geodesic\n",
        "from datetime import timedelta\n",
        "import osmnx as ox\n",
        "import networkx as nx\n",
        "import math"
      ]
    },
    {
      "cell_type": "code",
      "source": [
        "pip install osmnx"
      ],
      "metadata": {
        "colab": {
          "base_uri": "https://localhost:8080/"
        },
        "id": "rn9Ukg7j0e64",
        "outputId": "bfd490ed-6a8c-4fe4-bc15-9381e2c852ee"
      },
      "id": "rn9Ukg7j0e64",
      "execution_count": null,
      "outputs": [
        {
          "output_type": "stream",
          "name": "stdout",
          "text": [
            "Collecting osmnx\n",
            "  Downloading osmnx-1.9.2-py3-none-any.whl (107 kB)\n",
            "\u001b[?25l     \u001b[90m━━━━━━━━━━━━━━━━━━━━━━━━━━━━━━━━━━━━━━━━\u001b[0m \u001b[32m0.0/107.4 kB\u001b[0m \u001b[31m?\u001b[0m eta \u001b[36m-:--:--\u001b[0m\r\u001b[2K     \u001b[91m━━━━━━━━━━━━━━━━━━━━━━━━━━━━━━━━━━━━━━\u001b[0m\u001b[90m╺\u001b[0m\u001b[90m━\u001b[0m \u001b[32m102.4/107.4 kB\u001b[0m \u001b[31m3.5 MB/s\u001b[0m eta \u001b[36m0:00:01\u001b[0m\r\u001b[2K     \u001b[90m━━━━━━━━━━━━━━━━━━━━━━━━━━━━━━━━━━━━━━━━\u001b[0m \u001b[32m107.4/107.4 kB\u001b[0m \u001b[31m2.6 MB/s\u001b[0m eta \u001b[36m0:00:00\u001b[0m\n",
            "\u001b[?25hRequirement already satisfied: geopandas>=0.12 in /usr/local/lib/python3.10/dist-packages (from osmnx) (0.13.2)\n",
            "Requirement already satisfied: networkx>=2.5 in /usr/local/lib/python3.10/dist-packages (from osmnx) (3.2.1)\n",
            "Requirement already satisfied: numpy>=1.20 in /usr/local/lib/python3.10/dist-packages (from osmnx) (1.25.2)\n",
            "Requirement already satisfied: pandas>=1.1 in /usr/local/lib/python3.10/dist-packages (from osmnx) (2.0.3)\n",
            "Requirement already satisfied: requests>=2.27 in /usr/local/lib/python3.10/dist-packages (from osmnx) (2.31.0)\n",
            "Requirement already satisfied: shapely>=2.0 in /usr/local/lib/python3.10/dist-packages (from osmnx) (2.0.3)\n",
            "Requirement already satisfied: fiona>=1.8.19 in /usr/local/lib/python3.10/dist-packages (from geopandas>=0.12->osmnx) (1.9.6)\n",
            "Requirement already satisfied: packaging in /usr/local/lib/python3.10/dist-packages (from geopandas>=0.12->osmnx) (24.0)\n",
            "Requirement already satisfied: pyproj>=3.0.1 in /usr/local/lib/python3.10/dist-packages (from geopandas>=0.12->osmnx) (3.6.1)\n",
            "Requirement already satisfied: python-dateutil>=2.8.2 in /usr/local/lib/python3.10/dist-packages (from pandas>=1.1->osmnx) (2.8.2)\n",
            "Requirement already satisfied: pytz>=2020.1 in /usr/local/lib/python3.10/dist-packages (from pandas>=1.1->osmnx) (2023.4)\n",
            "Requirement already satisfied: tzdata>=2022.1 in /usr/local/lib/python3.10/dist-packages (from pandas>=1.1->osmnx) (2024.1)\n",
            "Requirement already satisfied: charset-normalizer<4,>=2 in /usr/local/lib/python3.10/dist-packages (from requests>=2.27->osmnx) (3.3.2)\n",
            "Requirement already satisfied: idna<4,>=2.5 in /usr/local/lib/python3.10/dist-packages (from requests>=2.27->osmnx) (3.6)\n",
            "Requirement already satisfied: urllib3<3,>=1.21.1 in /usr/local/lib/python3.10/dist-packages (from requests>=2.27->osmnx) (2.0.7)\n",
            "Requirement already satisfied: certifi>=2017.4.17 in /usr/local/lib/python3.10/dist-packages (from requests>=2.27->osmnx) (2024.2.2)\n",
            "Requirement already satisfied: attrs>=19.2.0 in /usr/local/lib/python3.10/dist-packages (from fiona>=1.8.19->geopandas>=0.12->osmnx) (23.2.0)\n",
            "Requirement already satisfied: click~=8.0 in /usr/local/lib/python3.10/dist-packages (from fiona>=1.8.19->geopandas>=0.12->osmnx) (8.1.7)\n",
            "Requirement already satisfied: click-plugins>=1.0 in /usr/local/lib/python3.10/dist-packages (from fiona>=1.8.19->geopandas>=0.12->osmnx) (1.1.1)\n",
            "Requirement already satisfied: cligj>=0.5 in /usr/local/lib/python3.10/dist-packages (from fiona>=1.8.19->geopandas>=0.12->osmnx) (0.7.2)\n",
            "Requirement already satisfied: six in /usr/local/lib/python3.10/dist-packages (from fiona>=1.8.19->geopandas>=0.12->osmnx) (1.16.0)\n",
            "Installing collected packages: osmnx\n",
            "Successfully installed osmnx-1.9.2\n"
          ]
        }
      ]
    },
    {
      "cell_type": "code",
      "execution_count": null,
      "id": "c63c97a632145ec",
      "metadata": {
        "ExecuteTime": {
          "end_time": "2024-03-06T15:03:32.611709Z",
          "start_time": "2024-03-06T15:03:32.607488Z"
        },
        "id": "c63c97a632145ec"
      },
      "outputs": [],
      "source": [
        "# Координаты бригад и предварительная загрузка данных\n",
        "brigades = {\n",
        "    \"A\": (55.8181190490723, 37.5789909362793),\n",
        "    \"B\": (55.7531852722168, 37.4102668762207),\n",
        "    \"C\": (55.793628692627, 37.7089691162109),\n",
        "    \"D\": (55.6388854980469, 37.7610702514648),\n",
        "    # \"D_new\": (55.8377838134766, 37.6557426452637)\n",
        "}\n"
      ]
    },
    {
      "cell_type": "code",
      "execution_count": null,
      "id": "ef7a8f365ea347bc",
      "metadata": {
        "ExecuteTime": {
          "end_time": "2024-03-06T15:03:33.305730Z",
          "start_time": "2024-03-06T15:03:33.068081Z"
        },
        "id": "ef7a8f365ea347bc"
      },
      "outputs": [],
      "source": [
        "# Загрузите данные инцидентов\n",
        "incidents = pd.read_excel('data3new.xlsx')"
      ]
    },
    {
      "cell_type": "code",
      "execution_count": null,
      "id": "2d35d7f18bc54d00",
      "metadata": {
        "ExecuteTime": {
          "end_time": "2024-03-06T15:03:33.596711Z",
          "start_time": "2024-03-06T15:03:33.586912Z"
        },
        "id": "2d35d7f18bc54d00"
      },
      "outputs": [],
      "source": [
        "# Обработка данных инцидентов\n",
        "incidents['Широта'] = pd.to_numeric(incidents['Широта'], errors='coerce')\n",
        "incidents['Долгота'] = pd.to_numeric(incidents['Долгота'], errors='coerce')\n",
        "incidents = incidents.dropna(subset=['Широта', 'Долгота'])"
      ]
    },
    {
      "cell_type": "code",
      "execution_count": null,
      "id": "13f3604cda292c93",
      "metadata": {
        "ExecuteTime": {
          "end_time": "2024-03-06T15:04:44.985916Z",
          "start_time": "2024-03-06T15:03:33.864525Z"
        },
        "id": "13f3604cda292c93"
      },
      "outputs": [],
      "source": [
        "# Инициализация графа дорог для Москвы\n",
        "G = ox.graph_from_place('Moscow, Russia', network_type='drive')\n",
        "G = ox.project_graph(G)\n",
        "G = nx.convert_node_labels_to_integers(G)"
      ]
    },
    {
      "cell_type": "code",
      "execution_count": null,
      "id": "952eaad344ed0c8f",
      "metadata": {
        "ExecuteTime": {
          "end_time": "2024-03-06T15:04:44.994677Z",
          "start_time": "2024-03-06T15:04:44.989839Z"
        },
        "id": "952eaad344ed0c8f"
      },
      "outputs": [],
      "source": [
        "def get_shortest_path_length(G, start_point, end_point, p=1):\n",
        "    start_node = ox.distance.nearest_nodes(G, start_point[1], start_point[0])\n",
        "    end_node = ox.distance.nearest_nodes(G, end_point[1], end_point[0])\n",
        "    length = nx.shortest_path_length(G, start_node, end_node, weight='length')\n",
        "\n",
        "    # Вычисляем расстояние между начальной и конечной точками по метрике Минковского\n",
        "    start_lat, start_lon = ox.graph_to_gdfs(G, edges=False).loc[start_node][['y', 'x']].values\n",
        "    end_lat, end_lon = ox.graph_to_gdfs(G, edges=False).loc[end_node][['y', 'x']].values\n",
        "    minkowski_distance = (abs(start_lat - end_lat) ** p + abs(start_lon - end_lon) ** p) ** (1 / p)\n",
        "\n",
        "    return minkowski_distance + length / 1000  # Возвращаем сумму расстояний в километрах"
      ]
    },
    {
      "cell_type": "code",
      "execution_count": null,
      "id": "cebbbcc2d2e744db",
      "metadata": {
        "ExecuteTime": {
          "end_time": "2024-02-21T12:22:34.668308Z",
          "start_time": "2024-02-21T12:22:34.659700Z"
        },
        "id": "cebbbcc2d2e744db"
      },
      "outputs": [],
      "source": [
        "def calculate_priority(deadline, start_time):\n",
        "    # Вычисляем разницу в часах\n",
        "    time_difference = (deadline - start_time).total_seconds() / 3600\n",
        "\n",
        "    # Устанавливаем приоритет на основе разницы во времени\n",
        "    if time_difference <= 4:\n",
        "        return 1  # Высший приоритет для 4-часовых дедлайнов\n",
        "    elif time_difference <= 6:\n",
        "        return 2  # Второй по приоритету для 6-часовых дедлайнов\n",
        "    else:\n",
        "        return 3  # Низший приоритет для остальных"
      ]
    },
    {
      "cell_type": "code",
      "execution_count": null,
      "id": "9ce43afd4588f930",
      "metadata": {
        "ExecuteTime": {
          "end_time": "2024-02-21T12:22:35.589147Z",
          "start_time": "2024-02-21T12:22:35.579124Z"
        },
        "id": "9ce43afd4588f930"
      },
      "outputs": [],
      "source": [
        "# Функция для расчета времени в пути\n",
        "def calculate_travel_time(distance, speed=40):\n",
        "    return distance / speed  # Время в часах"
      ]
    },
    {
      "cell_type": "code",
      "execution_count": null,
      "id": "38a3809ede361abd",
      "metadata": {
        "ExecuteTime": {
          "end_time": "2024-02-21T12:22:36.071484Z",
          "start_time": "2024-02-21T12:22:36.062078Z"
        },
        "id": "38a3809ede361abd"
      },
      "outputs": [],
      "source": [
        "# Инициализация словаря загрузки бригад\n",
        "brigade_workload = {brigade: 0 for brigade in brigades.keys()}"
      ]
    },
    {
      "cell_type": "code",
      "execution_count": null,
      "id": "f68beca8407487f8",
      "metadata": {
        "ExecuteTime": {
          "end_time": "2024-02-21T12:22:36.628078Z",
          "start_time": "2024-02-21T12:22:36.620026Z"
        },
        "id": "f68beca8407487f8"
      },
      "outputs": [],
      "source": [
        "# Функция для обновления загрузки бригад\n",
        "def update_brigade_workload(brigade, additional_workload):\n",
        "    brigade_workload[brigade] += additional_workload"
      ]
    },
    {
      "cell_type": "code",
      "execution_count": null,
      "id": "623dd00f03bcf4a2",
      "metadata": {
        "ExecuteTime": {
          "end_time": "2024-02-21T12:22:37.131865Z",
          "start_time": "2024-02-21T12:22:37.121958Z"
        },
        "id": "623dd00f03bcf4a2"
      },
      "outputs": [],
      "source": [
        "# def update_brigade_availability(brigade, end_time, brigade_availability):\n",
        "#     brigade_availability[brigade] = max(brigade_availability[brigade], end_time)"
      ]
    },
    {
      "cell_type": "code",
      "execution_count": null,
      "id": "e5a706feed24253a",
      "metadata": {
        "ExecuteTime": {
          "end_time": "2024-02-21T12:22:40.097147Z",
          "start_time": "2024-02-21T12:22:40.090750Z"
        },
        "id": "e5a706feed24253a"
      },
      "outputs": [],
      "source": [
        "# Глобальное определение словаря доступности бригад\n",
        "brigade_availability = {brigade: pd.Timestamp.min for brigade in brigades.keys()}"
      ]
    },
    {
      "cell_type": "code",
      "execution_count": null,
      "id": "8c602e5bf68db2a5",
      "metadata": {
        "ExecuteTime": {
          "end_time": "2024-02-21T12:22:40.712084Z",
          "start_time": "2024-02-21T12:22:40.702985Z"
        },
        "id": "8c602e5bf68db2a5"
      },
      "outputs": [],
      "source": [
        "def update_brigade_availability(brigade, end_time, brigade_availability):\n",
        "    brigade_availability[brigade] = max(brigade_availability[brigade], end_time)\n",
        "    return brigade_availability"
      ]
    },
    {
      "cell_type": "code",
      "execution_count": null,
      "id": "5345f0626ddc30d8",
      "metadata": {
        "ExecuteTime": {
          "end_time": "2024-02-21T12:22:41.474472Z",
          "start_time": "2024-02-21T12:22:41.459700Z"
        },
        "id": "5345f0626ddc30d8"
      },
      "outputs": [],
      "source": [
        "def some_other_function():\n",
        "    # В этой функции также можно использовать brigade_availability\n",
        "    global brigade_availability\n",
        "    # Дальнейшая логика работы с brigade_availability"
      ]
    },
    {
      "cell_type": "code",
      "execution_count": null,
      "id": "932b4e62ae39bd47",
      "metadata": {
        "ExecuteTime": {
          "end_time": "2024-02-21T12:22:42.000747Z",
          "start_time": "2024-02-21T12:22:41.989897Z"
        },
        "id": "932b4e62ae39bd47"
      },
      "outputs": [],
      "source": [
        "# Функция назначения инцидентов бригадам\n",
        "def assign_incidents_to_brigades(incidents, brigades, G, brigade_availability):\n",
        "    assignments = []\n",
        "    # Добавляем столбец приоритета на основе разницы между 'Крайний срок' и 'Т события'\n",
        "    incidents['Priority'] = incidents.apply(lambda x: calculate_priority(x['Крайний срок'], x['Т события']), axis=1)\n",
        "\n",
        "    # Сортируем инциденты сначала по приоритету, затем по 'Т события'\n",
        "    sorted_incidents = incidents.sort_values(by=['Priority', 'Т события'])\n",
        "\n",
        "    for _, incident in sorted_incidents.iterrows():\n",
        "        incident_coord = (incident['Широта'], incident['Долгота'])\n",
        "        incident_start = pd.to_datetime(incident['Т события'])\n",
        "        nearest_brigade, min_distance = None, float('inf')\n",
        "        best_end_time = None  # Для хранения времени окончания работы\n",
        "\n",
        "        for brigade_name, brigade_coord in brigades.items():\n",
        "            path_length = get_shortest_path_length(G, brigade_coord, incident_coord)\n",
        "            travel_time_hours = calculate_travel_time(path_length)  # Время в пути в часах\n",
        "            travel_time = timedelta(hours=travel_time_hours)  # Преобразуем в timedelta\n",
        "\n",
        "            # Предполагаемое время начала работы бригады\n",
        "            brigade_available_time = brigade_availability[brigade_name]\n",
        "            start_work_time = max(incident_start, brigade_available_time) + travel_time\n",
        "\n",
        "            # Добавляем 30 минут на выполнение работы\n",
        "            end_work_time = start_work_time + timedelta(minutes=30)\n",
        "\n",
        "            # Выбираем бригаду с минимальным временем окончания работы\n",
        "            if best_end_time is None or end_work_time < best_end_time:\n",
        "                nearest_brigade = brigade_name\n",
        "                best_end_time = end_work_time\n",
        "\n",
        "        if nearest_brigade:\n",
        "            update_brigade_availability(nearest_brigade, best_end_time, brigade_availability)\n",
        "            update_brigade_workload(nearest_brigade, 1)\n",
        "            assignments.append((incident['№ МИ'], nearest_brigade, start_work_time, best_end_time))\n",
        "\n",
        "    return assignments"
      ]
    },
    {
      "cell_type": "code",
      "execution_count": null,
      "id": "e9a11b0996aa45a6",
      "metadata": {
        "ExecuteTime": {
          "end_time": "2024-02-21T12:22:42.812913Z",
          "start_time": "2024-02-21T12:22:42.803049Z"
        },
        "id": "e9a11b0996aa45a6"
      },
      "outputs": [],
      "source": [
        "# Распределение инцидентов по дням с использованием обновленной логики\n",
        "def distribute_daily_incidents(incidents, brigades, start_date, end_date, G):\n",
        "    daily_assignments = {}\n",
        "    current_date = start_date\n",
        "    while current_date <= end_date:\n",
        "        daily_incidents = incidents[incidents['Т события'].dt.date == current_date.date()]\n",
        "        daily_assignments[current_date] = assign_incidents_to_brigades(daily_incidents, brigades, G, brigade_availability)  # Добавлен аргумент\n",
        "        current_date += timedelta(days=1)\n",
        "    return daily_assignments"
      ]
    },
    {
      "cell_type": "code",
      "execution_count": null,
      "id": "c598aaa926380d37",
      "metadata": {
        "ExecuteTime": {
          "end_time": "2024-02-21T12:22:43.515384Z",
          "start_time": "2024-02-21T12:22:43.488588Z"
        },
        "id": "c598aaa926380d37"
      },
      "outputs": [],
      "source": [
        "def assign_to_nearest_available_brigade(incidents, brigades, G):\n",
        "    assignments = []\n",
        "    sorted_incidents = incidents.sort_values(by='PRIORITY', ascending=False)\n",
        "    for _, incident in sorted_incidents.iterrows():\n",
        "        incident_coord = (incident['Широта'], incident['Долгота'])\n",
        "        incident_start = incident['Т события']\n",
        "        nearest_brigade, min_distance, estimated_end_time = None, float('inf'), None\n",
        "        for brigade_name, brigade_coord in brigades.items():\n",
        "            path_length = get_shortest_path_length(G, brigade_coord, incident_coord)\n",
        "            travel_time = calculate_travel_time(path_length)\n",
        "            # Расчет времени начала работы бригады с учетом времени в пути\n",
        "            start_work_time = incident_start + pd.to_timedelta(travel_time, unit='h')\n",
        "            # Расчет времени окончания работы (время в пути + 30 минут работы)\n",
        "            end_work_time = start_work_time + pd.to_timedelta(30, unit='m')\n",
        "            if path_length < min_distance:\n",
        "                nearest_brigade, min_distance = brigade_name, path_length\n",
        "                estimated_end_time = end_work_time\n",
        "        if nearest_brigade is not None:\n",
        "            update_brigade_availability(nearest_brigade, estimated_end_time)\n",
        "            update_brigade_workload(nearest_brigade, 1)\n",
        "            assignments.append((incident['№ МИ'], nearest_brigade, incident_start, estimated_end_time))\n",
        "    return assignments"
      ]
    },
    {
      "cell_type": "code",
      "execution_count": null,
      "id": "8091c388901304f8",
      "metadata": {
        "ExecuteTime": {
          "end_time": "2024-02-21T12:22:44.554624Z",
          "start_time": "2024-02-21T12:22:44.549044Z"
        },
        "id": "8091c388901304f8"
      },
      "outputs": [],
      "source": [
        "# Сохранение данных\n",
        "def save_assignments(daily_distributions, incidents):\n",
        "    output = []\n",
        "    for day, assignments in daily_distributions.items():\n",
        "        for assignment in assignments:\n",
        "            incident_id, brigade, start_time, end_time = assignment\n",
        "            # Проверка наличия записи перед обращением\n",
        "            if not incidents[incidents['№ МИ'] == incident_id].empty:\n",
        "                incident_record = incidents[incidents['№ МИ'] == incident_id].iloc[0]\n",
        "                output.append({\n",
        "                    'Date': day.strftime('%Y-%m-%d'),\n",
        "                    'Incident ID': incident_id,\n",
        "                    'Assigned Brigade': brigade,\n",
        "                    'Incident Type': incident_record['Техописание'],\n",
        "                    'Time Assigned': incident_record['Т события'].strftime('%Y-%m-%d %H:%M:%S') if pd.notnull(incident_record['Т события']) else 'N/A',\n",
        "                    'Estimated End Time': end_time.strftime('%Y-%m-%d %H:%M:%S'),\n",
        "                    'Deadline': incident_record['Крайний срок'].strftime('%Y-%m-%d %H:%M:%S') if pd.notnull(incident_record['Крайний срок']) else 'N/A'\n",
        "                })\n",
        "            else:\n",
        "                print(f\"Warning: No incident record found for Incident ID {incident_id}. Skipping.\")\n",
        "\n",
        "    output_df = pd.DataFrame(output)\n",
        "    output_df.to_csv('version_2.0.csv', index=False)"
      ]
    },
    {
      "cell_type": "code",
      "execution_count": null,
      "id": "5db0dd6ce4526ae3",
      "metadata": {
        "ExecuteTime": {
          "end_time": "2024-02-21T12:42:16.347415Z",
          "start_time": "2024-02-21T12:22:45.586005Z"
        },
        "id": "5db0dd6ce4526ae3",
        "outputId": "7dfa9e7b-6769-42d1-e643-603cc3f646a8",
        "colab": {
          "base_uri": "https://localhost:8080/"
        }
      },
      "outputs": [
        {
          "output_type": "stream",
          "name": "stderr",
          "text": [
            "<ipython-input-21-cb6d091e7b08>:5: SettingWithCopyWarning: \n",
            "A value is trying to be set on a copy of a slice from a DataFrame.\n",
            "Try using .loc[row_indexer,col_indexer] = value instead\n",
            "\n",
            "See the caveats in the documentation: https://pandas.pydata.org/pandas-docs/stable/user_guide/indexing.html#returning-a-view-versus-a-copy\n",
            "  incidents['Priority'] = incidents.apply(lambda x: calculate_priority(x['Крайний срок'], x['Т события']), axis=1)\n",
            "<ipython-input-21-cb6d091e7b08>:5: SettingWithCopyWarning: \n",
            "A value is trying to be set on a copy of a slice from a DataFrame.\n",
            "Try using .loc[row_indexer,col_indexer] = value instead\n",
            "\n",
            "See the caveats in the documentation: https://pandas.pydata.org/pandas-docs/stable/user_guide/indexing.html#returning-a-view-versus-a-copy\n",
            "  incidents['Priority'] = incidents.apply(lambda x: calculate_priority(x['Крайний срок'], x['Т события']), axis=1)\n",
            "<ipython-input-21-cb6d091e7b08>:5: SettingWithCopyWarning: \n",
            "A value is trying to be set on a copy of a slice from a DataFrame.\n",
            "Try using .loc[row_indexer,col_indexer] = value instead\n",
            "\n",
            "See the caveats in the documentation: https://pandas.pydata.org/pandas-docs/stable/user_guide/indexing.html#returning-a-view-versus-a-copy\n",
            "  incidents['Priority'] = incidents.apply(lambda x: calculate_priority(x['Крайний срок'], x['Т события']), axis=1)\n",
            "<ipython-input-21-cb6d091e7b08>:5: SettingWithCopyWarning: \n",
            "A value is trying to be set on a copy of a slice from a DataFrame.\n",
            "Try using .loc[row_indexer,col_indexer] = value instead\n",
            "\n",
            "See the caveats in the documentation: https://pandas.pydata.org/pandas-docs/stable/user_guide/indexing.html#returning-a-view-versus-a-copy\n",
            "  incidents['Priority'] = incidents.apply(lambda x: calculate_priority(x['Крайний срок'], x['Т события']), axis=1)\n",
            "<ipython-input-21-cb6d091e7b08>:5: SettingWithCopyWarning: \n",
            "A value is trying to be set on a copy of a slice from a DataFrame.\n",
            "Try using .loc[row_indexer,col_indexer] = value instead\n",
            "\n",
            "See the caveats in the documentation: https://pandas.pydata.org/pandas-docs/stable/user_guide/indexing.html#returning-a-view-versus-a-copy\n",
            "  incidents['Priority'] = incidents.apply(lambda x: calculate_priority(x['Крайний срок'], x['Т события']), axis=1)\n",
            "<ipython-input-21-cb6d091e7b08>:5: SettingWithCopyWarning: \n",
            "A value is trying to be set on a copy of a slice from a DataFrame.\n",
            "Try using .loc[row_indexer,col_indexer] = value instead\n",
            "\n",
            "See the caveats in the documentation: https://pandas.pydata.org/pandas-docs/stable/user_guide/indexing.html#returning-a-view-versus-a-copy\n",
            "  incidents['Priority'] = incidents.apply(lambda x: calculate_priority(x['Крайний срок'], x['Т события']), axis=1)\n",
            "<ipython-input-21-cb6d091e7b08>:5: SettingWithCopyWarning: \n",
            "A value is trying to be set on a copy of a slice from a DataFrame.\n",
            "Try using .loc[row_indexer,col_indexer] = value instead\n",
            "\n",
            "See the caveats in the documentation: https://pandas.pydata.org/pandas-docs/stable/user_guide/indexing.html#returning-a-view-versus-a-copy\n",
            "  incidents['Priority'] = incidents.apply(lambda x: calculate_priority(x['Крайний срок'], x['Т события']), axis=1)\n",
            "<ipython-input-21-cb6d091e7b08>:5: SettingWithCopyWarning: \n",
            "A value is trying to be set on a copy of a slice from a DataFrame.\n",
            "Try using .loc[row_indexer,col_indexer] = value instead\n",
            "\n",
            "See the caveats in the documentation: https://pandas.pydata.org/pandas-docs/stable/user_guide/indexing.html#returning-a-view-versus-a-copy\n",
            "  incidents['Priority'] = incidents.apply(lambda x: calculate_priority(x['Крайний срок'], x['Т события']), axis=1)\n",
            "<ipython-input-21-cb6d091e7b08>:5: SettingWithCopyWarning: \n",
            "A value is trying to be set on a copy of a slice from a DataFrame.\n",
            "Try using .loc[row_indexer,col_indexer] = value instead\n",
            "\n",
            "See the caveats in the documentation: https://pandas.pydata.org/pandas-docs/stable/user_guide/indexing.html#returning-a-view-versus-a-copy\n",
            "  incidents['Priority'] = incidents.apply(lambda x: calculate_priority(x['Крайний срок'], x['Т события']), axis=1)\n",
            "<ipython-input-21-cb6d091e7b08>:5: SettingWithCopyWarning: \n",
            "A value is trying to be set on a copy of a slice from a DataFrame.\n",
            "Try using .loc[row_indexer,col_indexer] = value instead\n",
            "\n",
            "See the caveats in the documentation: https://pandas.pydata.org/pandas-docs/stable/user_guide/indexing.html#returning-a-view-versus-a-copy\n",
            "  incidents['Priority'] = incidents.apply(lambda x: calculate_priority(x['Крайний срок'], x['Т события']), axis=1)\n",
            "<ipython-input-21-cb6d091e7b08>:5: SettingWithCopyWarning: \n",
            "A value is trying to be set on a copy of a slice from a DataFrame.\n",
            "Try using .loc[row_indexer,col_indexer] = value instead\n",
            "\n",
            "See the caveats in the documentation: https://pandas.pydata.org/pandas-docs/stable/user_guide/indexing.html#returning-a-view-versus-a-copy\n",
            "  incidents['Priority'] = incidents.apply(lambda x: calculate_priority(x['Крайний срок'], x['Т события']), axis=1)\n",
            "<ipython-input-21-cb6d091e7b08>:5: SettingWithCopyWarning: \n",
            "A value is trying to be set on a copy of a slice from a DataFrame.\n",
            "Try using .loc[row_indexer,col_indexer] = value instead\n",
            "\n",
            "See the caveats in the documentation: https://pandas.pydata.org/pandas-docs/stable/user_guide/indexing.html#returning-a-view-versus-a-copy\n",
            "  incidents['Priority'] = incidents.apply(lambda x: calculate_priority(x['Крайний срок'], x['Т события']), axis=1)\n"
          ]
        }
      ],
      "source": [
        "# Вызов функций для распределения и сохранения результатов\n",
        "start_date = incidents['Т события'].min()\n",
        "end_date = incidents['Т события'].max()\n",
        "daily_distributions = distribute_daily_incidents(incidents, brigades, start_date, end_date, G)\n",
        "save_assignments(daily_distributions, incidents)"
      ]
    },
    {
      "cell_type": "code",
      "execution_count": null,
      "id": "initial_id",
      "metadata": {
        "ExecuteTime": {
          "end_time": "2024-02-19T10:32:46.466863Z",
          "start_time": "2024-02-19T10:07:37.725647Z"
        },
        "collapsed": true,
        "id": "initial_id",
        "outputId": "8896487c-8bfe-4e4e-defe-8ed014a30250"
      },
      "outputs": [
        {
          "ename": "ValueError",
          "evalue": "not enough values to unpack (expected 4, got 2)",
          "output_type": "error",
          "traceback": [
            "\u001b[0;31m---------------------------------------------------------------------------\u001b[0m",
            "\u001b[0;31mValueError\u001b[0m                                Traceback (most recent call last)",
            "Input \u001b[0;32mIn [44]\u001b[0m, in \u001b[0;36m<cell line: 5>\u001b[0;34m()\u001b[0m\n\u001b[1;32m      3\u001b[0m end_date \u001b[38;5;241m=\u001b[39m incidents[\u001b[38;5;124m'\u001b[39m\u001b[38;5;124mТ события\u001b[39m\u001b[38;5;124m'\u001b[39m]\u001b[38;5;241m.\u001b[39mmax()\n\u001b[1;32m      4\u001b[0m daily_distributions \u001b[38;5;241m=\u001b[39m distribute_daily_incidents(incidents, brigades, start_date, end_date, G)\n\u001b[0;32m----> 5\u001b[0m \u001b[43msave_assignments\u001b[49m\u001b[43m(\u001b[49m\u001b[43mdaily_distributions\u001b[49m\u001b[43m,\u001b[49m\u001b[43m \u001b[49m\u001b[43mincidents\u001b[49m\u001b[43m)\u001b[49m\n",
            "Input \u001b[0;32mIn [43]\u001b[0m, in \u001b[0;36msave_assignments\u001b[0;34m(daily_distributions, incidents)\u001b[0m\n\u001b[1;32m      4\u001b[0m \u001b[38;5;28;01mfor\u001b[39;00m day, assignments \u001b[38;5;129;01min\u001b[39;00m daily_distributions\u001b[38;5;241m.\u001b[39mitems():\n\u001b[1;32m      5\u001b[0m     \u001b[38;5;28;01mfor\u001b[39;00m assignment \u001b[38;5;129;01min\u001b[39;00m assignments:\n\u001b[0;32m----> 6\u001b[0m         incident_id, brigade, start_time, end_time \u001b[38;5;241m=\u001b[39m assignment\n\u001b[1;32m      7\u001b[0m         \u001b[38;5;66;03m# Проверка наличия записи перед обращением\u001b[39;00m\n\u001b[1;32m      8\u001b[0m         \u001b[38;5;28;01mif\u001b[39;00m \u001b[38;5;129;01mnot\u001b[39;00m incidents[incidents[\u001b[38;5;124m'\u001b[39m\u001b[38;5;124m№ МИ\u001b[39m\u001b[38;5;124m'\u001b[39m] \u001b[38;5;241m==\u001b[39m incident_id]\u001b[38;5;241m.\u001b[39mempty:\n",
            "\u001b[0;31mValueError\u001b[0m: not enough values to unpack (expected 4, got 2)"
          ]
        }
      ],
      "source": [
        "#4 часовые и 6 часовые приоретет deadline учет рабочего времени бригада A и C меняется в 9 часов утра бригады B D 8 часовые приемка час сдача смены пол часа"
      ]
    }
  ],
  "metadata": {
    "kernelspec": {
      "display_name": "Python 3",
      "language": "python",
      "name": "python3"
    },
    "language_info": {
      "codemirror_mode": {
        "name": "ipython",
        "version": 3
      },
      "file_extension": ".py",
      "mimetype": "text/x-python",
      "name": "python",
      "nbconvert_exporter": "python",
      "pygments_lexer": "ipython3",
      "version": "3.10.7"
    },
    "colab": {
      "provenance": []
    }
  },
  "nbformat": 4,
  "nbformat_minor": 5
}