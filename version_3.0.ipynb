{
 "cells": [
  {
   "cell_type": "code",
   "execution_count": 1,
   "id": "b01d44e4cf64902a",
   "metadata": {
    "collapsed": false,
    "ExecuteTime": {
     "end_time": "2024-03-05T09:33:37.850285Z",
     "start_time": "2024-03-05T09:33:24.007628Z"
    }
   },
   "outputs": [],
   "source": [
    "import pandas as pd\n",
    "from datetime import timedelta, datetime\n",
    "import osmnx as ox\n",
    "import networkx as nx"
   ]
  },
  {
   "cell_type": "code",
   "outputs": [],
   "source": [
    "# Координаты бригад и предварительная загрузка данных\n",
    "brigades = {\n",
    "    \"A\": (55.818119, 37.578991), # Яблочкова\n",
    "    \"B\": (55.753185, 37.410267), # Осенний\n",
    "    \"C\": (55.793629, 37.708969), # Электрозаводская\n",
    "    \"D\": (55.638885, 37.761070), # Паромная\n",
    "    \"D_new\": (55.837784, 37.655743) # Дорожный\n",
    "}"
   ],
   "metadata": {
    "collapsed": false,
    "ExecuteTime": {
     "end_time": "2024-03-05T09:33:37.856319Z",
     "start_time": "2024-03-05T09:33:37.852708Z"
    }
   },
   "id": "600de018b89e1c21",
   "execution_count": 2
  },
  {
   "cell_type": "code",
   "outputs": [],
   "source": [
    "# Загрузка данных инцидентов\n",
    "incidents = pd.read_excel('2023new.xlsx')"
   ],
   "metadata": {
    "collapsed": false,
    "ExecuteTime": {
     "end_time": "2024-03-05T09:33:43.881762Z",
     "start_time": "2024-03-05T09:33:37.857602Z"
    }
   },
   "id": "1a92fa50e7e67ad",
   "execution_count": 3
  },
  {
   "cell_type": "code",
   "outputs": [],
   "source": [
    "# Обработка данных инцидентов\n",
    "incidents['Широта'] = pd.to_numeric(incidents['Широта'], errors='coerce')\n",
    "incidents['Долгота'] = pd.to_numeric(incidents['Долгота'], errors='coerce')\n",
    "incidents.dropna(subset=['Широта', 'Долгота'], inplace=True)"
   ],
   "metadata": {
    "collapsed": false,
    "ExecuteTime": {
     "end_time": "2024-03-05T09:33:43.900864Z",
     "start_time": "2024-03-05T09:33:43.884428Z"
    }
   },
   "id": "a5dfe62963ccdccd",
   "execution_count": 4
  },
  {
   "cell_type": "code",
   "outputs": [],
   "source": [
    "# Инициализация графа дорог для Москвы\n",
    "G = ox.graph_from_place('Moscow, Russia', network_type='drive')\n",
    "G = ox.project_graph(G)\n",
    "G = nx.convert_node_labels_to_integers(G)"
   ],
   "metadata": {
    "collapsed": false,
    "ExecuteTime": {
     "end_time": "2024-03-05T09:34:51.875907Z",
     "start_time": "2024-03-05T09:33:43.903733Z"
    }
   },
   "id": "2681e279fa1fcae7",
   "execution_count": 5
  },
  {
   "cell_type": "code",
   "outputs": [],
   "source": [
    "# Функции для расчетов\n",
    "def get_shortest_path_length(G, start_point, end_point):\n",
    "    start_node = ox.distance.nearest_nodes(G, start_point[1], start_point[0])\n",
    "    end_node = ox.distance.nearest_nodes(G, end_point[1], end_point[0])\n",
    "    length = nx.shortest_path_length(G, start_node, end_node, weight='length')\n",
    "    return length / 1000"
   ],
   "metadata": {
    "collapsed": false,
    "ExecuteTime": {
     "end_time": "2024-03-05T09:34:51.883407Z",
     "start_time": "2024-03-05T09:34:51.878892Z"
    }
   },
   "id": "d4bb0619ca61b1d0",
   "execution_count": 6
  },
  {
   "cell_type": "code",
   "outputs": [],
   "source": [
    "\n",
    "def calculate_travel_time(distance, speed=40):\n",
    "    return distance / speed\n",
    "\n",
    "brigade_availability = {brigade: pd.Timestamp.min for brigade in brigades.keys()}"
   ],
   "metadata": {
    "collapsed": false,
    "ExecuteTime": {
     "end_time": "2024-03-05T09:34:51.890067Z",
     "start_time": "2024-03-05T09:34:51.886119Z"
    }
   },
   "id": "aacc22b212464a5a",
   "execution_count": 7
  },
  {
   "cell_type": "code",
   "outputs": [],
   "source": [
    "\n",
    "def get_brigade_coords(brigade_name, incident_date):\n",
    "    if brigade_name == 'D' and incident_date >= datetime(2023, 12, 15):\n",
    "        return brigades['D_new']\n",
    "    else:\n",
    "        return brigades[brigade_name]"
   ],
   "metadata": {
    "collapsed": false,
    "ExecuteTime": {
     "end_time": "2024-03-05T09:34:51.895837Z",
     "start_time": "2024-03-05T09:34:51.891311Z"
    }
   },
   "id": "5c4f8177aa7482ad",
   "execution_count": 8
  },
  {
   "cell_type": "code",
   "outputs": [],
   "source": [
    "\n",
    "def adjust_start_time_for_shift_change(incident_time, brigade_name):\n",
    "    shift_start_hour = 9 if brigade_name in ['A', 'C'] else 8\n",
    "    shift_change_time = datetime(incident_time.year, incident_time.month, incident_time.day, shift_start_hour)\n",
    "    if incident_time < shift_change_time:\n",
    "        return max(incident_time, shift_change_time + timedelta(minutes=30))\n",
    "    else:\n",
    "        return incident_time + timedelta(minutes=30)"
   ],
   "metadata": {
    "collapsed": false,
    "ExecuteTime": {
     "end_time": "2024-03-05T09:34:51.902848Z",
     "start_time": "2024-03-05T09:34:51.897551Z"
    }
   },
   "id": "7c3022a80a8b5eb7",
   "execution_count": 9
  },
  {
   "cell_type": "code",
   "outputs": [],
   "source": [
    "\n",
    "def assign_incidents_to_brigades(incidents, brigades, G, brigade_availability):\n",
    "    assignments = []\n",
    "    for _, incident in incidents.iterrows():\n",
    "        incident_coord = (incident['Широта'], incident['Долгота'])\n",
    "        incident_date = pd.to_datetime(incident['Т события'])\n",
    "        nearest_brigade, min_distance = None, float('inf')\n",
    "        best_end_time = None\n",
    "        for brigade_name, _ in brigades.items():\n",
    "            brigade_coord = get_brigade_coords(brigade_name, incident_date)\n",
    "            corrected_start_time = adjust_start_time_for_shift_change(incident_date, brigade_name)\n",
    "            path_length = get_shortest_path_length(G, brigade_coord, incident_coord)\n",
    "            travel_time = timedelta(hours=calculate_travel_time(path_length))\n",
    "            start_work_time = max(corrected_start_time, brigade_availability[brigade_name]) + travel_time\n",
    "            end_work_time = start_work_time + timedelta(minutes=30)\n",
    "            if best_end_time is None or end_work_time < best_end_time:\n",
    "                nearest_brigade = brigade_name\n",
    "                best_end_time = end_work_time\n",
    "        if nearest_brigade:\n",
    "            brigade_availability[nearest_brigade] = best_end_time\n",
    "            # В выходных данных бригада D_new обозначается как D\n",
    "            display_brigade_name = \"D\" if nearest_brigade == \"D_new\" else nearest_brigade\n",
    "            assignments.append((incident['№ МИ'], display_brigade_name, start_work_time, best_end_time))\n",
    "    return assignments"
   ],
   "metadata": {
    "collapsed": false,
    "ExecuteTime": {
     "end_time": "2024-03-05T09:34:51.918373Z",
     "start_time": "2024-03-05T09:34:51.907914Z"
    }
   },
   "id": "84f857887112f9ab",
   "execution_count": 10
  },
  {
   "cell_type": "code",
   "outputs": [],
   "source": [
    "\n",
    "def distribute_daily_incidents(incidents, brigades, start_date, end_date, G):\n",
    "    daily_assignments = {}\n",
    "    for single_date in pd.date_range(start=start_date, end=end_date):\n",
    "        daily_incidents = incidents[incidents['Т события'].dt.date == single_date.date()]\n",
    "        if not daily_incidents.empty:\n",
    "            brigade_availability = {brigade: pd.Timestamp.min for brigade in brigades.keys()}  # Сброс доступности бригад каждый день\n",
    "            daily_assignments[single_date.date()] = assign_incidents_to_brigades(daily_incidents, brigades, G, brigade_availability)\n",
    "    return daily_assignments"
   ],
   "metadata": {
    "collapsed": false,
    "ExecuteTime": {
     "end_time": "2024-03-05T09:34:51.926179Z",
     "start_time": "2024-03-05T09:34:51.920398Z"
    }
   },
   "id": "85eebfbbca0d8286",
   "execution_count": 11
  },
  {
   "cell_type": "code",
   "outputs": [],
   "source": [
    "\n",
    "def save_assignments(daily_distributions, filename='daily_assignments.csv'):\n",
    "    all_assignments = []\n",
    "    for day, assignments in daily_distributions.items():\n",
    "        for incident_id, brigade, start_time, end_time in assignments:\n",
    "            incident_record = incidents[incidents['№ МИ'] == incident_id].iloc[0]\n",
    "            all_assignments.append({\n",
    "                'Date': day.strftime('%Y-%m-%d'),\n",
    "                'Incident ID': incident_id,\n",
    "                'Assigned Brigade': brigade,\n",
    "                'Incident Type': incident_record['Техописание'],\n",
    "                'Time Assigned': incident_record['Т события'].strftime('%Y-%m-%d %H:%M:%S') if pd.notnull(incident_record['Т события']) else 'N/A',\n",
    "                'Estimated End Time': end_time.strftime('%Y-%m-%d %H:%M:%S'),\n",
    "                'Deadline': incident_record['Крайний срок'].strftime('%Y-%m-%d %H:%M:%S') if pd.notnull(incident_record['Крайний срок']) else 'N/A'\n",
    "            })\n",
    "    df = pd.DataFrame(all_assignments)\n",
    "    df.to_csv(filename, index=False)\n",
    "    print(f'Saved assignments to {filename}')"
   ],
   "metadata": {
    "collapsed": false,
    "ExecuteTime": {
     "end_time": "2024-03-05T09:34:51.937531Z",
     "start_time": "2024-03-05T09:34:51.929939Z"
    }
   },
   "id": "c57b2d85d5a9144a",
   "execution_count": 12
  },
  {
   "cell_type": "code",
   "outputs": [
    {
     "ename": "KeyboardInterrupt",
     "evalue": "",
     "output_type": "error",
     "traceback": [
      "\u001B[0;31m---------------------------------------------------------------------------\u001B[0m",
      "\u001B[0;31mKeyboardInterrupt\u001B[0m                         Traceback (most recent call last)",
      "Input \u001B[0;32mIn [13]\u001B[0m, in \u001B[0;36m<cell line: 23>\u001B[0;34m()\u001B[0m\n\u001B[1;32m     20\u001B[0m incidents \u001B[38;5;241m=\u001B[39m incidents[mask]\n\u001B[1;32m     22\u001B[0m \u001B[38;5;66;03m# Распределение инцидентов и сохранение результатов\u001B[39;00m\n\u001B[0;32m---> 23\u001B[0m daily_distributions \u001B[38;5;241m=\u001B[39m \u001B[43mdistribute_daily_incidents\u001B[49m\u001B[43m(\u001B[49m\u001B[43mincidents\u001B[49m\u001B[43m,\u001B[49m\u001B[43m \u001B[49m\u001B[43mbrigades\u001B[49m\u001B[43m,\u001B[49m\u001B[43m \u001B[49m\u001B[43mstart_date\u001B[49m\u001B[43m,\u001B[49m\u001B[43m \u001B[49m\u001B[43mend_date\u001B[49m\u001B[43m,\u001B[49m\u001B[43m \u001B[49m\u001B[43mG\u001B[49m\u001B[43m)\u001B[49m\n\u001B[1;32m     24\u001B[0m save_assignments(daily_distributions, \u001B[38;5;124m'\u001B[39m\u001B[38;5;124mversion_3.2.csv\u001B[39m\u001B[38;5;124m'\u001B[39m)\n",
      "Input \u001B[0;32mIn [11]\u001B[0m, in \u001B[0;36mdistribute_daily_incidents\u001B[0;34m(incidents, brigades, start_date, end_date, G)\u001B[0m\n\u001B[1;32m      5\u001B[0m     \u001B[38;5;28;01mif\u001B[39;00m \u001B[38;5;129;01mnot\u001B[39;00m daily_incidents\u001B[38;5;241m.\u001B[39mempty:\n\u001B[1;32m      6\u001B[0m         brigade_availability \u001B[38;5;241m=\u001B[39m {brigade: pd\u001B[38;5;241m.\u001B[39mTimestamp\u001B[38;5;241m.\u001B[39mmin \u001B[38;5;28;01mfor\u001B[39;00m brigade \u001B[38;5;129;01min\u001B[39;00m brigades\u001B[38;5;241m.\u001B[39mkeys()}  \u001B[38;5;66;03m# Сброс доступности бригад каждый день\u001B[39;00m\n\u001B[0;32m----> 7\u001B[0m         daily_assignments[single_date\u001B[38;5;241m.\u001B[39mdate()] \u001B[38;5;241m=\u001B[39m \u001B[43massign_incidents_to_brigades\u001B[49m\u001B[43m(\u001B[49m\u001B[43mdaily_incidents\u001B[49m\u001B[43m,\u001B[49m\u001B[43m \u001B[49m\u001B[43mbrigades\u001B[49m\u001B[43m,\u001B[49m\u001B[43m \u001B[49m\u001B[43mG\u001B[49m\u001B[43m,\u001B[49m\u001B[43m \u001B[49m\u001B[43mbrigade_availability\u001B[49m\u001B[43m)\u001B[49m\n\u001B[1;32m      8\u001B[0m \u001B[38;5;28;01mreturn\u001B[39;00m daily_assignments\n",
      "Input \u001B[0;32mIn [10]\u001B[0m, in \u001B[0;36massign_incidents_to_brigades\u001B[0;34m(incidents, brigades, G, brigade_availability)\u001B[0m\n\u001B[1;32m      9\u001B[0m brigade_coord \u001B[38;5;241m=\u001B[39m get_brigade_coords(brigade_name, incident_date)\n\u001B[1;32m     10\u001B[0m corrected_start_time \u001B[38;5;241m=\u001B[39m adjust_start_time_for_shift_change(incident_date, brigade_name)\n\u001B[0;32m---> 11\u001B[0m path_length \u001B[38;5;241m=\u001B[39m \u001B[43mget_shortest_path_length\u001B[49m\u001B[43m(\u001B[49m\u001B[43mG\u001B[49m\u001B[43m,\u001B[49m\u001B[43m \u001B[49m\u001B[43mbrigade_coord\u001B[49m\u001B[43m,\u001B[49m\u001B[43m \u001B[49m\u001B[43mincident_coord\u001B[49m\u001B[43m)\u001B[49m\n\u001B[1;32m     12\u001B[0m travel_time \u001B[38;5;241m=\u001B[39m timedelta(hours\u001B[38;5;241m=\u001B[39mcalculate_travel_time(path_length))\n\u001B[1;32m     13\u001B[0m start_work_time \u001B[38;5;241m=\u001B[39m \u001B[38;5;28mmax\u001B[39m(corrected_start_time, brigade_availability[brigade_name]) \u001B[38;5;241m+\u001B[39m travel_time\n",
      "Input \u001B[0;32mIn [6]\u001B[0m, in \u001B[0;36mget_shortest_path_length\u001B[0;34m(G, start_point, end_point)\u001B[0m\n\u001B[1;32m      2\u001B[0m \u001B[38;5;28;01mdef\u001B[39;00m \u001B[38;5;21mget_shortest_path_length\u001B[39m(G, start_point, end_point):\n\u001B[1;32m      3\u001B[0m     start_node \u001B[38;5;241m=\u001B[39m ox\u001B[38;5;241m.\u001B[39mdistance\u001B[38;5;241m.\u001B[39mnearest_nodes(G, start_point[\u001B[38;5;241m1\u001B[39m], start_point[\u001B[38;5;241m0\u001B[39m])\n\u001B[0;32m----> 4\u001B[0m     end_node \u001B[38;5;241m=\u001B[39m \u001B[43mox\u001B[49m\u001B[38;5;241;43m.\u001B[39;49m\u001B[43mdistance\u001B[49m\u001B[38;5;241;43m.\u001B[39;49m\u001B[43mnearest_nodes\u001B[49m\u001B[43m(\u001B[49m\u001B[43mG\u001B[49m\u001B[43m,\u001B[49m\u001B[43m \u001B[49m\u001B[43mend_point\u001B[49m\u001B[43m[\u001B[49m\u001B[38;5;241;43m1\u001B[39;49m\u001B[43m]\u001B[49m\u001B[43m,\u001B[49m\u001B[43m \u001B[49m\u001B[43mend_point\u001B[49m\u001B[43m[\u001B[49m\u001B[38;5;241;43m0\u001B[39;49m\u001B[43m]\u001B[49m\u001B[43m)\u001B[49m\n\u001B[1;32m      5\u001B[0m     length \u001B[38;5;241m=\u001B[39m nx\u001B[38;5;241m.\u001B[39mshortest_path_length(G, start_node, end_node, weight\u001B[38;5;241m=\u001B[39m\u001B[38;5;124m'\u001B[39m\u001B[38;5;124mlength\u001B[39m\u001B[38;5;124m'\u001B[39m)\n\u001B[1;32m      6\u001B[0m     \u001B[38;5;28;01mreturn\u001B[39;00m length \u001B[38;5;241m/\u001B[39m \u001B[38;5;241m1000\u001B[39m\n",
      "File \u001B[0;32m~/opt/anaconda3/lib/python3.9/site-packages/osmnx/distance.py:281\u001B[0m, in \u001B[0;36mnearest_nodes\u001B[0;34m(G, X, Y, return_dist)\u001B[0m\n\u001B[1;32m    278\u001B[0m     \u001B[38;5;28;01mraise\u001B[39;00m \u001B[38;5;167;01mValueError\u001B[39;00m(msg)\n\u001B[1;32m    279\u001B[0m nodes \u001B[38;5;241m=\u001B[39m utils_graph\u001B[38;5;241m.\u001B[39mgraph_to_gdfs(G, edges\u001B[38;5;241m=\u001B[39m\u001B[38;5;28;01mFalse\u001B[39;00m, node_geometry\u001B[38;5;241m=\u001B[39m\u001B[38;5;28;01mFalse\u001B[39;00m)[[\u001B[38;5;124m\"\u001B[39m\u001B[38;5;124mx\u001B[39m\u001B[38;5;124m\"\u001B[39m, \u001B[38;5;124m\"\u001B[39m\u001B[38;5;124my\u001B[39m\u001B[38;5;124m\"\u001B[39m]]\n\u001B[0;32m--> 281\u001B[0m \u001B[38;5;28;01mif\u001B[39;00m \u001B[43mprojection\u001B[49m\u001B[38;5;241;43m.\u001B[39;49m\u001B[43mis_projected\u001B[49m\u001B[43m(\u001B[49m\u001B[43mG\u001B[49m\u001B[38;5;241;43m.\u001B[39;49m\u001B[43mgraph\u001B[49m\u001B[43m[\u001B[49m\u001B[38;5;124;43m\"\u001B[39;49m\u001B[38;5;124;43mcrs\u001B[39;49m\u001B[38;5;124;43m\"\u001B[39;49m\u001B[43m]\u001B[49m\u001B[43m)\u001B[49m:\n\u001B[1;32m    282\u001B[0m     \u001B[38;5;66;03m# if projected, use k-d tree for euclidean nearest-neighbor search\u001B[39;00m\n\u001B[1;32m    283\u001B[0m     \u001B[38;5;28;01mif\u001B[39;00m cKDTree \u001B[38;5;129;01mis\u001B[39;00m \u001B[38;5;28;01mNone\u001B[39;00m:  \u001B[38;5;66;03m# pragma: no cover\u001B[39;00m\n\u001B[1;32m    284\u001B[0m         msg \u001B[38;5;241m=\u001B[39m \u001B[38;5;124m\"\u001B[39m\u001B[38;5;124mscipy must be installed to search a projected graph\u001B[39m\u001B[38;5;124m\"\u001B[39m\n",
      "File \u001B[0;32m~/opt/anaconda3/lib/python3.9/site-packages/osmnx/projection.py:26\u001B[0m, in \u001B[0;36mis_projected\u001B[0;34m(crs)\u001B[0m\n\u001B[1;32m     10\u001B[0m \u001B[38;5;28;01mdef\u001B[39;00m \u001B[38;5;21mis_projected\u001B[39m(crs):\n\u001B[1;32m     11\u001B[0m     \u001B[38;5;124;03m\"\"\"\u001B[39;00m\n\u001B[1;32m     12\u001B[0m \u001B[38;5;124;03m    Determine if a coordinate reference system is projected or not.\u001B[39;00m\n\u001B[1;32m     13\u001B[0m \n\u001B[0;32m   (...)\u001B[0m\n\u001B[1;32m     24\u001B[0m \u001B[38;5;124;03m        True if crs is projected, otherwise False\u001B[39;00m\n\u001B[1;32m     25\u001B[0m \u001B[38;5;124;03m    \"\"\"\u001B[39;00m\n\u001B[0;32m---> 26\u001B[0m     \u001B[38;5;28;01mreturn\u001B[39;00m \u001B[43mgpd\u001B[49m\u001B[38;5;241;43m.\u001B[39;49m\u001B[43mGeoSeries\u001B[49m\u001B[43m(\u001B[49m\u001B[43mcrs\u001B[49m\u001B[38;5;241;43m=\u001B[39;49m\u001B[43mcrs\u001B[49m\u001B[43m)\u001B[49m\u001B[38;5;241m.\u001B[39mcrs\u001B[38;5;241m.\u001B[39mis_projected\n",
      "File \u001B[0;32m~/opt/anaconda3/lib/python3.9/site-packages/geopandas/geoseries.py:199\u001B[0m, in \u001B[0;36mGeoSeries.__init__\u001B[0;34m(self, data, index, crs, **kwargs)\u001B[0m\n\u001B[1;32m    197\u001B[0m     warnings\u001B[38;5;241m.\u001B[39mfilterwarnings(\u001B[38;5;124m\"\u001B[39m\u001B[38;5;124mignore\u001B[39m\u001B[38;5;124m\"\u001B[39m, empty_msg, \u001B[38;5;167;01mDeprecationWarning\u001B[39;00m)\n\u001B[1;32m    198\u001B[0m     warnings\u001B[38;5;241m.\u001B[39mfilterwarnings(\u001B[38;5;124m\"\u001B[39m\u001B[38;5;124mignore\u001B[39m\u001B[38;5;124m\"\u001B[39m, empty_msg, \u001B[38;5;167;01mFutureWarning\u001B[39;00m)\n\u001B[0;32m--> 199\u001B[0m     s \u001B[38;5;241m=\u001B[39m \u001B[43mpd\u001B[49m\u001B[38;5;241;43m.\u001B[39;49m\u001B[43mSeries\u001B[49m\u001B[43m(\u001B[49m\u001B[43mdata\u001B[49m\u001B[43m,\u001B[49m\u001B[43m \u001B[49m\u001B[43mindex\u001B[49m\u001B[38;5;241;43m=\u001B[39;49m\u001B[43mindex\u001B[49m\u001B[43m,\u001B[49m\u001B[43m \u001B[49m\u001B[43mname\u001B[49m\u001B[38;5;241;43m=\u001B[39;49m\u001B[43mname\u001B[49m\u001B[43m,\u001B[49m\u001B[43m \u001B[49m\u001B[38;5;241;43m*\u001B[39;49m\u001B[38;5;241;43m*\u001B[39;49m\u001B[43mkwargs\u001B[49m\u001B[43m)\u001B[49m\n\u001B[1;32m    200\u001B[0m \u001B[38;5;66;03m# prevent trying to convert non-geometry objects\u001B[39;00m\n\u001B[1;32m    201\u001B[0m \u001B[38;5;28;01mif\u001B[39;00m s\u001B[38;5;241m.\u001B[39mdtype \u001B[38;5;241m!=\u001B[39m \u001B[38;5;28mobject\u001B[39m:\n",
      "File \u001B[0;32m~/opt/anaconda3/lib/python3.9/site-packages/pandas/core/series.py:374\u001B[0m, in \u001B[0;36mSeries.__init__\u001B[0;34m(self, data, index, dtype, name, copy, fastpath)\u001B[0m\n\u001B[1;32m    365\u001B[0m name \u001B[38;5;241m=\u001B[39m ibase\u001B[38;5;241m.\u001B[39mmaybe_extract_name(name, data, \u001B[38;5;28mtype\u001B[39m(\u001B[38;5;28mself\u001B[39m))\n\u001B[1;32m    367\u001B[0m \u001B[38;5;28;01mif\u001B[39;00m is_empty_data(data) \u001B[38;5;129;01mand\u001B[39;00m dtype \u001B[38;5;129;01mis\u001B[39;00m \u001B[38;5;28;01mNone\u001B[39;00m:\n\u001B[1;32m    368\u001B[0m     \u001B[38;5;66;03m# gh-17261\u001B[39;00m\n\u001B[1;32m    369\u001B[0m     warnings\u001B[38;5;241m.\u001B[39mwarn(\n\u001B[1;32m    370\u001B[0m         \u001B[38;5;124m\"\u001B[39m\u001B[38;5;124mThe default dtype for empty Series will be \u001B[39m\u001B[38;5;124m'\u001B[39m\u001B[38;5;124mobject\u001B[39m\u001B[38;5;124m'\u001B[39m\u001B[38;5;124m instead \u001B[39m\u001B[38;5;124m\"\u001B[39m\n\u001B[1;32m    371\u001B[0m         \u001B[38;5;124m\"\u001B[39m\u001B[38;5;124mof \u001B[39m\u001B[38;5;124m'\u001B[39m\u001B[38;5;124mfloat64\u001B[39m\u001B[38;5;124m'\u001B[39m\u001B[38;5;124m in a future version. Specify a dtype explicitly \u001B[39m\u001B[38;5;124m\"\u001B[39m\n\u001B[1;32m    372\u001B[0m         \u001B[38;5;124m\"\u001B[39m\u001B[38;5;124mto silence this warning.\u001B[39m\u001B[38;5;124m\"\u001B[39m,\n\u001B[1;32m    373\u001B[0m         \u001B[38;5;167;01mFutureWarning\u001B[39;00m,\n\u001B[0;32m--> 374\u001B[0m         stacklevel\u001B[38;5;241m=\u001B[39m\u001B[43mfind_stack_level\u001B[49m\u001B[43m(\u001B[49m\u001B[43m)\u001B[49m,\n\u001B[1;32m    375\u001B[0m     )\n\u001B[1;32m    376\u001B[0m     \u001B[38;5;66;03m# uncomment the line below when removing the FutureWarning\u001B[39;00m\n\u001B[1;32m    377\u001B[0m     \u001B[38;5;66;03m# dtype = np.dtype(object)\u001B[39;00m\n\u001B[1;32m    379\u001B[0m \u001B[38;5;28;01mif\u001B[39;00m index \u001B[38;5;129;01mis\u001B[39;00m \u001B[38;5;129;01mnot\u001B[39;00m \u001B[38;5;28;01mNone\u001B[39;00m:\n",
      "File \u001B[0;32m~/opt/anaconda3/lib/python3.9/site-packages/pandas/util/_exceptions.py:32\u001B[0m, in \u001B[0;36mfind_stack_level\u001B[0;34m()\u001B[0m\n\u001B[1;32m     27\u001B[0m \u001B[38;5;28;01mdef\u001B[39;00m \u001B[38;5;21mfind_stack_level\u001B[39m() \u001B[38;5;241m-\u001B[39m\u001B[38;5;241m>\u001B[39m \u001B[38;5;28mint\u001B[39m:\n\u001B[1;32m     28\u001B[0m     \u001B[38;5;124;03m\"\"\"\u001B[39;00m\n\u001B[1;32m     29\u001B[0m \u001B[38;5;124;03m    Find the first place in the stack that is not inside pandas\u001B[39;00m\n\u001B[1;32m     30\u001B[0m \u001B[38;5;124;03m    (tests notwithstanding).\u001B[39;00m\n\u001B[1;32m     31\u001B[0m \u001B[38;5;124;03m    \"\"\"\u001B[39;00m\n\u001B[0;32m---> 32\u001B[0m     stack \u001B[38;5;241m=\u001B[39m \u001B[43minspect\u001B[49m\u001B[38;5;241;43m.\u001B[39;49m\u001B[43mstack\u001B[49m\u001B[43m(\u001B[49m\u001B[43m)\u001B[49m\n\u001B[1;32m     34\u001B[0m     \u001B[38;5;28;01mimport\u001B[39;00m \u001B[38;5;21;01mpandas\u001B[39;00m \u001B[38;5;28;01mas\u001B[39;00m \u001B[38;5;21;01mpd\u001B[39;00m\n\u001B[1;32m     36\u001B[0m     pkg_dir \u001B[38;5;241m=\u001B[39m os\u001B[38;5;241m.\u001B[39mpath\u001B[38;5;241m.\u001B[39mdirname(pd\u001B[38;5;241m.\u001B[39m\u001B[38;5;18m__file__\u001B[39m)\n",
      "File \u001B[0;32m~/opt/anaconda3/lib/python3.9/inspect.py:1554\u001B[0m, in \u001B[0;36mstack\u001B[0;34m(context)\u001B[0m\n\u001B[1;32m   1552\u001B[0m \u001B[38;5;28;01mdef\u001B[39;00m \u001B[38;5;21mstack\u001B[39m(context\u001B[38;5;241m=\u001B[39m\u001B[38;5;241m1\u001B[39m):\n\u001B[1;32m   1553\u001B[0m     \u001B[38;5;124;03m\"\"\"Return a list of records for the stack above the caller's frame.\"\"\"\u001B[39;00m\n\u001B[0;32m-> 1554\u001B[0m     \u001B[38;5;28;01mreturn\u001B[39;00m \u001B[43mgetouterframes\u001B[49m\u001B[43m(\u001B[49m\u001B[43msys\u001B[49m\u001B[38;5;241;43m.\u001B[39;49m\u001B[43m_getframe\u001B[49m\u001B[43m(\u001B[49m\u001B[38;5;241;43m1\u001B[39;49m\u001B[43m)\u001B[49m\u001B[43m,\u001B[49m\u001B[43m \u001B[49m\u001B[43mcontext\u001B[49m\u001B[43m)\u001B[49m\n",
      "File \u001B[0;32m~/opt/anaconda3/lib/python3.9/inspect.py:1531\u001B[0m, in \u001B[0;36mgetouterframes\u001B[0;34m(frame, context)\u001B[0m\n\u001B[1;32m   1529\u001B[0m framelist \u001B[38;5;241m=\u001B[39m []\n\u001B[1;32m   1530\u001B[0m \u001B[38;5;28;01mwhile\u001B[39;00m frame:\n\u001B[0;32m-> 1531\u001B[0m     frameinfo \u001B[38;5;241m=\u001B[39m (frame,) \u001B[38;5;241m+\u001B[39m \u001B[43mgetframeinfo\u001B[49m\u001B[43m(\u001B[49m\u001B[43mframe\u001B[49m\u001B[43m,\u001B[49m\u001B[43m \u001B[49m\u001B[43mcontext\u001B[49m\u001B[43m)\u001B[49m\n\u001B[1;32m   1532\u001B[0m     framelist\u001B[38;5;241m.\u001B[39mappend(FrameInfo(\u001B[38;5;241m*\u001B[39mframeinfo))\n\u001B[1;32m   1533\u001B[0m     frame \u001B[38;5;241m=\u001B[39m frame\u001B[38;5;241m.\u001B[39mf_back\n",
      "File \u001B[0;32m~/opt/anaconda3/lib/python3.9/inspect.py:1505\u001B[0m, in \u001B[0;36mgetframeinfo\u001B[0;34m(frame, context)\u001B[0m\n\u001B[1;32m   1503\u001B[0m start \u001B[38;5;241m=\u001B[39m lineno \u001B[38;5;241m-\u001B[39m \u001B[38;5;241m1\u001B[39m \u001B[38;5;241m-\u001B[39m context\u001B[38;5;241m/\u001B[39m\u001B[38;5;241m/\u001B[39m\u001B[38;5;241m2\u001B[39m\n\u001B[1;32m   1504\u001B[0m \u001B[38;5;28;01mtry\u001B[39;00m:\n\u001B[0;32m-> 1505\u001B[0m     lines, lnum \u001B[38;5;241m=\u001B[39m \u001B[43mfindsource\u001B[49m\u001B[43m(\u001B[49m\u001B[43mframe\u001B[49m\u001B[43m)\u001B[49m\n\u001B[1;32m   1506\u001B[0m \u001B[38;5;28;01mexcept\u001B[39;00m \u001B[38;5;167;01mOSError\u001B[39;00m:\n\u001B[1;32m   1507\u001B[0m     lines \u001B[38;5;241m=\u001B[39m index \u001B[38;5;241m=\u001B[39m \u001B[38;5;28;01mNone\u001B[39;00m\n",
      "File \u001B[0;32m~/opt/anaconda3/lib/python3.9/inspect.py:817\u001B[0m, in \u001B[0;36mfindsource\u001B[0;34m(object)\u001B[0m\n\u001B[1;32m    809\u001B[0m \u001B[38;5;28;01mdef\u001B[39;00m \u001B[38;5;21mfindsource\u001B[39m(\u001B[38;5;28mobject\u001B[39m):\n\u001B[1;32m    810\u001B[0m     \u001B[38;5;124;03m\"\"\"Return the entire source file and starting line number for an object.\u001B[39;00m\n\u001B[1;32m    811\u001B[0m \n\u001B[1;32m    812\u001B[0m \u001B[38;5;124;03m    The argument may be a module, class, method, function, traceback, frame,\u001B[39;00m\n\u001B[1;32m    813\u001B[0m \u001B[38;5;124;03m    or code object.  The source code is returned as a list of all the lines\u001B[39;00m\n\u001B[1;32m    814\u001B[0m \u001B[38;5;124;03m    in the file and the line number indexes a line in that list.  An OSError\u001B[39;00m\n\u001B[1;32m    815\u001B[0m \u001B[38;5;124;03m    is raised if the source code cannot be retrieved.\"\"\"\u001B[39;00m\n\u001B[0;32m--> 817\u001B[0m     file \u001B[38;5;241m=\u001B[39m \u001B[43mgetsourcefile\u001B[49m\u001B[43m(\u001B[49m\u001B[38;5;28;43mobject\u001B[39;49m\u001B[43m)\u001B[49m\n\u001B[1;32m    818\u001B[0m     \u001B[38;5;28;01mif\u001B[39;00m file:\n\u001B[1;32m    819\u001B[0m         \u001B[38;5;66;03m# Invalidate cache if needed.\u001B[39;00m\n\u001B[1;32m    820\u001B[0m         linecache\u001B[38;5;241m.\u001B[39mcheckcache(file)\n",
      "File \u001B[0;32m~/opt/anaconda3/lib/python3.9/inspect.py:709\u001B[0m, in \u001B[0;36mgetsourcefile\u001B[0;34m(object)\u001B[0m\n\u001B[1;32m    707\u001B[0m     \u001B[38;5;28;01mreturn\u001B[39;00m filename\n\u001B[1;32m    708\u001B[0m \u001B[38;5;66;03m# only return a non-existent filename if the module has a PEP 302 loader\u001B[39;00m\n\u001B[0;32m--> 709\u001B[0m \u001B[38;5;28;01mif\u001B[39;00m \u001B[38;5;28mgetattr\u001B[39m(\u001B[43mgetmodule\u001B[49m\u001B[43m(\u001B[49m\u001B[38;5;28;43mobject\u001B[39;49m\u001B[43m,\u001B[49m\u001B[43m \u001B[49m\u001B[43mfilename\u001B[49m\u001B[43m)\u001B[49m, \u001B[38;5;124m'\u001B[39m\u001B[38;5;124m__loader__\u001B[39m\u001B[38;5;124m'\u001B[39m, \u001B[38;5;28;01mNone\u001B[39;00m) \u001B[38;5;129;01mis\u001B[39;00m \u001B[38;5;129;01mnot\u001B[39;00m \u001B[38;5;28;01mNone\u001B[39;00m:\n\u001B[1;32m    710\u001B[0m     \u001B[38;5;28;01mreturn\u001B[39;00m filename\n\u001B[1;32m    711\u001B[0m \u001B[38;5;66;03m# or it is in the linecache\u001B[39;00m\n",
      "File \u001B[0;32m~/opt/anaconda3/lib/python3.9/inspect.py:748\u001B[0m, in \u001B[0;36mgetmodule\u001B[0;34m(object, _filename)\u001B[0m\n\u001B[1;32m    746\u001B[0m \u001B[38;5;28;01mif\u001B[39;00m ismodule(module) \u001B[38;5;129;01mand\u001B[39;00m \u001B[38;5;28mhasattr\u001B[39m(module, \u001B[38;5;124m'\u001B[39m\u001B[38;5;124m__file__\u001B[39m\u001B[38;5;124m'\u001B[39m):\n\u001B[1;32m    747\u001B[0m     f \u001B[38;5;241m=\u001B[39m module\u001B[38;5;241m.\u001B[39m\u001B[38;5;18m__file__\u001B[39m\n\u001B[0;32m--> 748\u001B[0m     \u001B[38;5;28;01mif\u001B[39;00m f \u001B[38;5;241m==\u001B[39m \u001B[43m_filesbymodname\u001B[49m\u001B[38;5;241m.\u001B[39mget(modname, \u001B[38;5;28;01mNone\u001B[39;00m):\n\u001B[1;32m    749\u001B[0m         \u001B[38;5;66;03m# Have already mapped this module, so skip it\u001B[39;00m\n\u001B[1;32m    750\u001B[0m         \u001B[38;5;28;01mcontinue\u001B[39;00m\n\u001B[1;32m    751\u001B[0m     _filesbymodname[modname] \u001B[38;5;241m=\u001B[39m f\n",
      "\u001B[0;31mKeyboardInterrupt\u001B[0m: "
     ]
    }
   ],
   "source": [
    "\n",
    "# Пример использования\n",
    "# Загрузка данных инцидентов\n",
    "# incidents = pd.read_excel('2023.xlsx')\n",
    "# Подготовка данных инцидентов\n",
    "incidents['Т события'] = pd.to_datetime(incidents['Т события'])\n",
    "start_date = incidents['Т события'].min()\n",
    "end_date = incidents['Т события'].max()\n",
    "# Список фраз, с которых не должны начинаться записи в столбце \"Техописание\"\n",
    "exclude_starts = [\n",
    "    \"BatteryOffline\",\n",
    "    \"Требуется замена акб\",\n",
    "    \"BatteryPowerOFF\",\n",
    "    \"Отключены батареи\",\n",
    "    \"Подозрение на кражу АКБ\",\n",
    "    \"BatteryLoopOffline\"\n",
    "]\n",
    "\n",
    "# Фильтрация строк, которые начинаются с указанных фраз\n",
    "mask = ~incidents['Техописание'].str.startswith(tuple(exclude_starts), na=False)\n",
    "incidents = incidents[mask]\n",
    "\n",
    "# Распределение инцидентов и сохранение результатов\n",
    "daily_distributions = distribute_daily_incidents(incidents, brigades, start_date, end_date, G)\n",
    "save_assignments(daily_distributions, 'version_3.2.csv')"
   ],
   "metadata": {
    "collapsed": true,
    "ExecuteTime": {
     "end_time": "2024-03-05T16:52:39.764631Z",
     "start_time": "2024-03-05T09:34:51.939337Z"
    }
   },
   "id": "initial_id",
   "execution_count": 13
  },
  {
   "cell_type": "code",
   "outputs": [],
   "source": [
    "# Загрузка данных инцидентов\n",
    "incidents = pd.read_excel('2023.xlsx')  # Убедитесь, что путь к файлу верный\n",
    "# Подготовка данных инцидентов\n",
    "incidents['Т события'] = pd.to_datetime(incidents['Т события'])\n",
    "start_date = incidents['Т события'].min()\n",
    "end_date = incidents['Т события'].max()\n",
    "# Список фраз, с которых не должны начинаться записи в столбце \"Техописание\"\n",
    "exclude_starts = [\n",
    "    \"BatteryOffline\",\n",
    "    \"Требуется замена акб\",\n",
    "    \"BatteryPowerOFF\",\n",
    "    \"Отключены батареи\",\n",
    "    \"Подозрение на кражу АКБ\",\n",
    "    \"BatteryLoopOffline\"\n",
    "]\n",
    "\n",
    "# Фильтрация строк, которые начинаются с указанных фраз\n",
    "mask = ~incidents['Техописание'].str.startswith(tuple(exclude_starts), na=False)\n",
    "incidents = incidents[mask]"
   ],
   "metadata": {
    "collapsed": false,
    "ExecuteTime": {
     "start_time": "2024-03-04T11:28:02.459884Z"
    }
   },
   "id": "28102d59c2715a30",
   "execution_count": null
  },
  {
   "cell_type": "code",
   "outputs": [],
   "source": [],
   "metadata": {
    "collapsed": false,
    "ExecuteTime": {
     "start_time": "2024-03-04T11:28:02.463311Z"
    }
   },
   "id": "6b17a10856b0e9aa"
  }
 ],
 "metadata": {
  "kernelspec": {
   "display_name": "Python 3",
   "language": "python",
   "name": "python3"
  },
  "language_info": {
   "codemirror_mode": {
    "name": "ipython",
    "version": 2
   },
   "file_extension": ".py",
   "mimetype": "text/x-python",
   "name": "python",
   "nbconvert_exporter": "python",
   "pygments_lexer": "ipython2",
   "version": "2.7.6"
  }
 },
 "nbformat": 4,
 "nbformat_minor": 5
}
