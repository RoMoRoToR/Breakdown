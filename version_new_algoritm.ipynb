{
 "cells": [
  {
   "cell_type": "code",
   "outputs": [],
   "source": [
    "import pandas as pd\n",
    "import numpy as np\n",
    "from datetime import datetime, timedelta\n",
    "import osmnx as ox\n",
    "import networkx as nx\n",
    "from scipy.optimize import linear_sum_assignment\n",
    "from geopy.distance import geodesic"
   ],
   "metadata": {
    "collapsed": false,
    "ExecuteTime": {
     "end_time": "2024-04-01T23:41:14.534319Z",
     "start_time": "2024-04-01T23:41:14.529735Z"
    }
   },
   "id": "1e967a44fc5f843f",
   "execution_count": 18
  },
  {
   "cell_type": "code",
   "outputs": [],
   "source": [
    "def get_shortest_path_length(G, start_point, end_point):\n",
    "    start_node = ox.distance.nearest_nodes(G, start_point[1], start_point[0])\n",
    "    end_node = ox.distance.nearest_nodes(G, end_point[1], end_point[0])\n",
    "    length = nx.shortest_path_length(G, start_node, end_node, weight='length')\n",
    "    return length / 1000  # Возвращаем длину в километрах"
   ],
   "metadata": {
    "collapsed": false,
    "ExecuteTime": {
     "end_time": "2024-04-01T23:41:15.356335Z",
     "start_time": "2024-04-01T23:41:15.350500Z"
    }
   },
   "id": "6b4a148ce7ffaa7",
   "execution_count": 19
  },
  {
   "cell_type": "code",
   "outputs": [],
   "source": [
    "def calculate_travel_time(distance, speed=40):\n",
    "    return distance / speed  # Время в часах"
   ],
   "metadata": {
    "collapsed": false,
    "ExecuteTime": {
     "end_time": "2024-04-01T23:41:16.011706Z",
     "start_time": "2024-04-01T23:41:16.007213Z"
    }
   },
   "id": "3da225cc3d51b2",
   "execution_count": 20
  },
  {
   "cell_type": "code",
   "outputs": [],
   "source": [
    "def get_brigade_coords(brigade_name, incident_date):\n",
    "    if brigade_name == 'D' and incident_date >= datetime(2023, 12, 15):\n",
    "        return brigades['D_new']\n",
    "    else:\n",
    "        return brigades[brigade_name]"
   ],
   "metadata": {
    "collapsed": false,
    "ExecuteTime": {
     "end_time": "2024-04-01T23:41:16.630529Z",
     "start_time": "2024-04-01T23:41:16.625310Z"
    }
   },
   "id": "62c41202c156d3a",
   "execution_count": 21
  },
  {
   "cell_type": "code",
   "outputs": [],
   "source": [
    "def adjust_start_time_for_shift_change(incident_time, brigade_name):\n",
    "    shift_start_hour = 9 if brigade_name in ['A', 'C'] else 8\n",
    "    shift_change_time = datetime(incident_time.year, incident_time.month, incident_time.day, shift_start_hour)\n",
    "    if incident_time < shift_change_time:\n",
    "        return max(incident_time, shift_change_time + timedelta(minutes=30))\n",
    "    else:\n",
    "        return incident_time + timedelta(minutes=30)"
   ],
   "metadata": {
    "collapsed": false,
    "ExecuteTime": {
     "end_time": "2024-04-01T23:41:17.173484Z",
     "start_time": "2024-04-01T23:41:17.168333Z"
    }
   },
   "id": "8d36c230e8fb84d8",
   "execution_count": 22
  },
  {
   "cell_type": "code",
   "outputs": [],
   "source": [
    "brigades = {\n",
    "    \"A\": (55.818119, 37.578991),\n",
    "    \"B\": (55.753185, 37.410267),\n",
    "    \"C\": (55.793629, 37.708969),\n",
    "    \"D\": (55.638885, 37.761070),\n",
    "    \"D_new\": (55.837784, 37.655743)\n",
    "}"
   ],
   "metadata": {
    "collapsed": false,
    "ExecuteTime": {
     "end_time": "2024-04-01T23:41:18.129335Z",
     "start_time": "2024-04-01T23:41:18.122018Z"
    }
   },
   "id": "94f718bed9daa68",
   "execution_count": 23
  },
  {
   "cell_type": "code",
   "outputs": [],
   "source": [
    "incidents = pd.read_excel('2023new.xlsx')\n",
    "incidents['Широта'] = pd.to_numeric(incidents['Широта'], errors='coerce')\n",
    "incidents['Долгота'] = pd.to_numeric(incidents['Долгота'], errors='coerce')\n",
    "incidents.dropna(subset=['Широта', 'Долгота'], inplace=True)\n",
    "incidents['Т события'] = pd.to_datetime(incidents['Т события'])"
   ],
   "metadata": {
    "collapsed": false,
    "ExecuteTime": {
     "end_time": "2024-04-01T23:41:21.017434Z",
     "start_time": "2024-04-01T23:41:18.937412Z"
    }
   },
   "id": "cb4d96126cf279f5",
   "execution_count": 24
  },
  {
   "cell_type": "code",
   "outputs": [],
   "source": [
    "G = ox.graph_from_place('Moscow, Russia', network_type='drive')\n",
    "G = ox.project_graph(G)\n",
    "G = nx.convert_node_labels_to_integers(G)"
   ],
   "metadata": {
    "collapsed": false,
    "ExecuteTime": {
     "end_time": "2024-04-01T23:42:52.849587Z",
     "start_time": "2024-04-01T23:41:21.022330Z"
    }
   },
   "id": "40c25130e281144d",
   "execution_count": 25
  },
  {
   "cell_type": "code",
   "outputs": [],
   "source": [
    "# Типо матрица затрат\n",
    "def calculate_cost_matrix(incidents, brigades, G):\n",
    "    cost_matrix = []\n",
    "    for _, incident in incidents.iterrows():\n",
    "        costs = []\n",
    "        incident_coord = (incident['Широта'], incident['Долгота'])\n",
    "        for brigade_name in brigades.keys():\n",
    "            brigade_coord = get_brigade_coords(brigade_name, incident['Т события'])\n",
    "            path_length = get_shortest_path_length(G, brigade_coord, incident_coord)\n",
    "            travel_time_hours = calculate_travel_time(path_length)\n",
    "            costs.append(travel_time_hours)\n",
    "        cost_matrix.append(costs)\n",
    "    return np.array(cost_matrix)"
   ],
   "metadata": {
    "collapsed": false,
    "ExecuteTime": {
     "end_time": "2024-04-01T23:42:52.858083Z",
     "start_time": "2024-04-01T23:42:52.852466Z"
    }
   },
   "id": "d0e44c2e6d841ef",
   "execution_count": 26
  },
  {
   "cell_type": "code",
   "outputs": [],
   "source": [
    "def assign_incidents_kuhn_munkres(incidents, brigades, G):\n",
    "    cost_matrix = calculate_cost_matrix(incidents, brigades, G)\n",
    "    row_ind, col_ind = linear_sum_assignment(cost_matrix)\n",
    "    assignments = [(incidents.iloc[row]['№ МИ'], list(brigades.keys())[col]) for row, col in zip(row_ind, col_ind)]\n",
    "    return assignments"
   ],
   "metadata": {
    "collapsed": false,
    "ExecuteTime": {
     "end_time": "2024-04-01T23:42:52.867725Z",
     "start_time": "2024-04-01T23:42:52.861066Z"
    }
   },
   "id": "7a3c4983f18e73fe",
   "execution_count": 27
  },
  {
   "cell_type": "code",
   "outputs": [],
   "source": [
    "def distribute_and_save_assignments(incidents, brigades, start_date, end_date, G, filename='assignments_kuhn_munkres.csv'):\n",
    "    all_assignments = []\n",
    "    for single_date in pd.date_range(start=start_date, end=end_date):\n",
    "        daily_incidents = incidents[incidents['Т события'].dt.date == single_date.date()]\n",
    "        if not daily_incidents.empty:\n",
    "            daily_assignments = assign_incidents_kuhn_munkres(daily_incidents, brigades, G)\n",
    "            for incident_id, brigade in daily_assignments:\n",
    "                all_assignments.append({\n",
    "                    'Date': single_date.strftime('%Y-%m-%d'),\n",
    "                    'Incident ID': incident_id,\n",
    "                    'Assigned Brigade': brigade\n",
    "                })\n",
    "\n",
    "    assignments_df = pd.DataFrame(all_assignments)\n",
    "    assignments_df.to_csv(filename, index=False)\n",
    "    print(f\"Saved assignments to {filename}\")"
   ],
   "metadata": {
    "collapsed": false,
    "ExecuteTime": {
     "end_time": "2024-04-01T23:43:02.760976Z",
     "start_time": "2024-04-01T23:43:02.753647Z"
    }
   },
   "id": "e271c969e1a9a7df",
   "execution_count": 28
  },
  {
   "cell_type": "code",
   "outputs": [
    {
     "ename": "KeyboardInterrupt",
     "evalue": "",
     "output_type": "error",
     "traceback": [
      "\u001B[0;31m---------------------------------------------------------------------------\u001B[0m",
      "\u001B[0;31mKeyboardInterrupt\u001B[0m                         Traceback (most recent call last)",
      "Input \u001B[0;32mIn [29]\u001B[0m, in \u001B[0;36m<cell line: 3>\u001B[0;34m()\u001B[0m\n\u001B[1;32m      1\u001B[0m start_date \u001B[38;5;241m=\u001B[39m incidents[\u001B[38;5;124m'\u001B[39m\u001B[38;5;124mТ события\u001B[39m\u001B[38;5;124m'\u001B[39m]\u001B[38;5;241m.\u001B[39mmin()\n\u001B[1;32m      2\u001B[0m end_date \u001B[38;5;241m=\u001B[39m incidents[\u001B[38;5;124m'\u001B[39m\u001B[38;5;124mТ события\u001B[39m\u001B[38;5;124m'\u001B[39m]\u001B[38;5;241m.\u001B[39mmax()\n\u001B[0;32m----> 3\u001B[0m \u001B[43mdistribute_and_save_assignments\u001B[49m\u001B[43m(\u001B[49m\u001B[43mincidents\u001B[49m\u001B[43m,\u001B[49m\u001B[43m \u001B[49m\u001B[43mbrigades\u001B[49m\u001B[43m,\u001B[49m\u001B[43m \u001B[49m\u001B[43mstart_date\u001B[49m\u001B[43m,\u001B[49m\u001B[43m \u001B[49m\u001B[43mend_date\u001B[49m\u001B[43m,\u001B[49m\u001B[43m \u001B[49m\u001B[43mG\u001B[49m\u001B[43m)\u001B[49m\n",
      "Input \u001B[0;32mIn [28]\u001B[0m, in \u001B[0;36mdistribute_and_save_assignments\u001B[0;34m(incidents, brigades, start_date, end_date, G, filename)\u001B[0m\n\u001B[1;32m      4\u001B[0m daily_incidents \u001B[38;5;241m=\u001B[39m incidents[incidents[\u001B[38;5;124m'\u001B[39m\u001B[38;5;124mТ события\u001B[39m\u001B[38;5;124m'\u001B[39m]\u001B[38;5;241m.\u001B[39mdt\u001B[38;5;241m.\u001B[39mdate \u001B[38;5;241m==\u001B[39m single_date\u001B[38;5;241m.\u001B[39mdate()]\n\u001B[1;32m      5\u001B[0m \u001B[38;5;28;01mif\u001B[39;00m \u001B[38;5;129;01mnot\u001B[39;00m daily_incidents\u001B[38;5;241m.\u001B[39mempty:\n\u001B[0;32m----> 6\u001B[0m     daily_assignments \u001B[38;5;241m=\u001B[39m \u001B[43massign_incidents_kuhn_munkres\u001B[49m\u001B[43m(\u001B[49m\u001B[43mdaily_incidents\u001B[49m\u001B[43m,\u001B[49m\u001B[43m \u001B[49m\u001B[43mbrigades\u001B[49m\u001B[43m,\u001B[49m\u001B[43m \u001B[49m\u001B[43mG\u001B[49m\u001B[43m)\u001B[49m\n\u001B[1;32m      7\u001B[0m     \u001B[38;5;28;01mfor\u001B[39;00m incident_id, brigade \u001B[38;5;129;01min\u001B[39;00m daily_assignments:\n\u001B[1;32m      8\u001B[0m         all_assignments\u001B[38;5;241m.\u001B[39mappend({\n\u001B[1;32m      9\u001B[0m             \u001B[38;5;124m'\u001B[39m\u001B[38;5;124mDate\u001B[39m\u001B[38;5;124m'\u001B[39m: single_date\u001B[38;5;241m.\u001B[39mstrftime(\u001B[38;5;124m'\u001B[39m\u001B[38;5;124m%\u001B[39m\u001B[38;5;124mY-\u001B[39m\u001B[38;5;124m%\u001B[39m\u001B[38;5;124mm-\u001B[39m\u001B[38;5;132;01m%d\u001B[39;00m\u001B[38;5;124m'\u001B[39m),\n\u001B[1;32m     10\u001B[0m             \u001B[38;5;124m'\u001B[39m\u001B[38;5;124mIncident ID\u001B[39m\u001B[38;5;124m'\u001B[39m: incident_id,\n\u001B[1;32m     11\u001B[0m             \u001B[38;5;124m'\u001B[39m\u001B[38;5;124mAssigned Brigade\u001B[39m\u001B[38;5;124m'\u001B[39m: brigade\n\u001B[1;32m     12\u001B[0m         })\n",
      "Input \u001B[0;32mIn [27]\u001B[0m, in \u001B[0;36massign_incidents_kuhn_munkres\u001B[0;34m(incidents, brigades, G)\u001B[0m\n\u001B[1;32m      1\u001B[0m \u001B[38;5;28;01mdef\u001B[39;00m \u001B[38;5;21massign_incidents_kuhn_munkres\u001B[39m(incidents, brigades, G):\n\u001B[0;32m----> 2\u001B[0m     cost_matrix \u001B[38;5;241m=\u001B[39m \u001B[43mcalculate_cost_matrix\u001B[49m\u001B[43m(\u001B[49m\u001B[43mincidents\u001B[49m\u001B[43m,\u001B[49m\u001B[43m \u001B[49m\u001B[43mbrigades\u001B[49m\u001B[43m,\u001B[49m\u001B[43m \u001B[49m\u001B[43mG\u001B[49m\u001B[43m)\u001B[49m\n\u001B[1;32m      3\u001B[0m     row_ind, col_ind \u001B[38;5;241m=\u001B[39m linear_sum_assignment(cost_matrix)\n\u001B[1;32m      4\u001B[0m     assignments \u001B[38;5;241m=\u001B[39m [(incidents\u001B[38;5;241m.\u001B[39miloc[row][\u001B[38;5;124m'\u001B[39m\u001B[38;5;124m№ МИ\u001B[39m\u001B[38;5;124m'\u001B[39m], \u001B[38;5;28mlist\u001B[39m(brigades\u001B[38;5;241m.\u001B[39mkeys())[col]) \u001B[38;5;28;01mfor\u001B[39;00m row, col \u001B[38;5;129;01min\u001B[39;00m \u001B[38;5;28mzip\u001B[39m(row_ind, col_ind)]\n",
      "Input \u001B[0;32mIn [26]\u001B[0m, in \u001B[0;36mcalculate_cost_matrix\u001B[0;34m(incidents, brigades, G)\u001B[0m\n\u001B[1;32m      7\u001B[0m \u001B[38;5;28;01mfor\u001B[39;00m brigade_name \u001B[38;5;129;01min\u001B[39;00m brigades\u001B[38;5;241m.\u001B[39mkeys():\n\u001B[1;32m      8\u001B[0m     brigade_coord \u001B[38;5;241m=\u001B[39m get_brigade_coords(brigade_name, incident[\u001B[38;5;124m'\u001B[39m\u001B[38;5;124mТ события\u001B[39m\u001B[38;5;124m'\u001B[39m])\n\u001B[0;32m----> 9\u001B[0m     path_length \u001B[38;5;241m=\u001B[39m \u001B[43mget_shortest_path_length\u001B[49m\u001B[43m(\u001B[49m\u001B[43mG\u001B[49m\u001B[43m,\u001B[49m\u001B[43m \u001B[49m\u001B[43mbrigade_coord\u001B[49m\u001B[43m,\u001B[49m\u001B[43m \u001B[49m\u001B[43mincident_coord\u001B[49m\u001B[43m)\u001B[49m\n\u001B[1;32m     10\u001B[0m     travel_time_hours \u001B[38;5;241m=\u001B[39m calculate_travel_time(path_length)\n\u001B[1;32m     11\u001B[0m     costs\u001B[38;5;241m.\u001B[39mappend(travel_time_hours)\n",
      "Input \u001B[0;32mIn [19]\u001B[0m, in \u001B[0;36mget_shortest_path_length\u001B[0;34m(G, start_point, end_point)\u001B[0m\n\u001B[1;32m      1\u001B[0m \u001B[38;5;28;01mdef\u001B[39;00m \u001B[38;5;21mget_shortest_path_length\u001B[39m(G, start_point, end_point):\n\u001B[1;32m      2\u001B[0m     start_node \u001B[38;5;241m=\u001B[39m ox\u001B[38;5;241m.\u001B[39mdistance\u001B[38;5;241m.\u001B[39mnearest_nodes(G, start_point[\u001B[38;5;241m1\u001B[39m], start_point[\u001B[38;5;241m0\u001B[39m])\n\u001B[0;32m----> 3\u001B[0m     end_node \u001B[38;5;241m=\u001B[39m \u001B[43mox\u001B[49m\u001B[38;5;241;43m.\u001B[39;49m\u001B[43mdistance\u001B[49m\u001B[38;5;241;43m.\u001B[39;49m\u001B[43mnearest_nodes\u001B[49m\u001B[43m(\u001B[49m\u001B[43mG\u001B[49m\u001B[43m,\u001B[49m\u001B[43m \u001B[49m\u001B[43mend_point\u001B[49m\u001B[43m[\u001B[49m\u001B[38;5;241;43m1\u001B[39;49m\u001B[43m]\u001B[49m\u001B[43m,\u001B[49m\u001B[43m \u001B[49m\u001B[43mend_point\u001B[49m\u001B[43m[\u001B[49m\u001B[38;5;241;43m0\u001B[39;49m\u001B[43m]\u001B[49m\u001B[43m)\u001B[49m\n\u001B[1;32m      4\u001B[0m     length \u001B[38;5;241m=\u001B[39m nx\u001B[38;5;241m.\u001B[39mshortest_path_length(G, start_node, end_node, weight\u001B[38;5;241m=\u001B[39m\u001B[38;5;124m'\u001B[39m\u001B[38;5;124mlength\u001B[39m\u001B[38;5;124m'\u001B[39m)\n\u001B[1;32m      5\u001B[0m     \u001B[38;5;28;01mreturn\u001B[39;00m length \u001B[38;5;241m/\u001B[39m \u001B[38;5;241m1000\u001B[39m\n",
      "File \u001B[0;32m~/opt/anaconda3/lib/python3.9/site-packages/osmnx/distance.py:281\u001B[0m, in \u001B[0;36mnearest_nodes\u001B[0;34m(G, X, Y, return_dist)\u001B[0m\n\u001B[1;32m    278\u001B[0m     \u001B[38;5;28;01mraise\u001B[39;00m \u001B[38;5;167;01mValueError\u001B[39;00m(msg)\n\u001B[1;32m    279\u001B[0m nodes \u001B[38;5;241m=\u001B[39m utils_graph\u001B[38;5;241m.\u001B[39mgraph_to_gdfs(G, edges\u001B[38;5;241m=\u001B[39m\u001B[38;5;28;01mFalse\u001B[39;00m, node_geometry\u001B[38;5;241m=\u001B[39m\u001B[38;5;28;01mFalse\u001B[39;00m)[[\u001B[38;5;124m\"\u001B[39m\u001B[38;5;124mx\u001B[39m\u001B[38;5;124m\"\u001B[39m, \u001B[38;5;124m\"\u001B[39m\u001B[38;5;124my\u001B[39m\u001B[38;5;124m\"\u001B[39m]]\n\u001B[0;32m--> 281\u001B[0m \u001B[38;5;28;01mif\u001B[39;00m \u001B[43mprojection\u001B[49m\u001B[38;5;241;43m.\u001B[39;49m\u001B[43mis_projected\u001B[49m\u001B[43m(\u001B[49m\u001B[43mG\u001B[49m\u001B[38;5;241;43m.\u001B[39;49m\u001B[43mgraph\u001B[49m\u001B[43m[\u001B[49m\u001B[38;5;124;43m\"\u001B[39;49m\u001B[38;5;124;43mcrs\u001B[39;49m\u001B[38;5;124;43m\"\u001B[39;49m\u001B[43m]\u001B[49m\u001B[43m)\u001B[49m:\n\u001B[1;32m    282\u001B[0m     \u001B[38;5;66;03m# if projected, use k-d tree for euclidean nearest-neighbor search\u001B[39;00m\n\u001B[1;32m    283\u001B[0m     \u001B[38;5;28;01mif\u001B[39;00m cKDTree \u001B[38;5;129;01mis\u001B[39;00m \u001B[38;5;28;01mNone\u001B[39;00m:  \u001B[38;5;66;03m# pragma: no cover\u001B[39;00m\n\u001B[1;32m    284\u001B[0m         msg \u001B[38;5;241m=\u001B[39m \u001B[38;5;124m\"\u001B[39m\u001B[38;5;124mscipy must be installed to search a projected graph\u001B[39m\u001B[38;5;124m\"\u001B[39m\n",
      "File \u001B[0;32m~/opt/anaconda3/lib/python3.9/site-packages/osmnx/projection.py:26\u001B[0m, in \u001B[0;36mis_projected\u001B[0;34m(crs)\u001B[0m\n\u001B[1;32m     10\u001B[0m \u001B[38;5;28;01mdef\u001B[39;00m \u001B[38;5;21mis_projected\u001B[39m(crs):\n\u001B[1;32m     11\u001B[0m     \u001B[38;5;124;03m\"\"\"\u001B[39;00m\n\u001B[1;32m     12\u001B[0m \u001B[38;5;124;03m    Determine if a coordinate reference system is projected or not.\u001B[39;00m\n\u001B[1;32m     13\u001B[0m \n\u001B[0;32m   (...)\u001B[0m\n\u001B[1;32m     24\u001B[0m \u001B[38;5;124;03m        True if crs is projected, otherwise False\u001B[39;00m\n\u001B[1;32m     25\u001B[0m \u001B[38;5;124;03m    \"\"\"\u001B[39;00m\n\u001B[0;32m---> 26\u001B[0m     \u001B[38;5;28;01mreturn\u001B[39;00m \u001B[43mgpd\u001B[49m\u001B[38;5;241;43m.\u001B[39;49m\u001B[43mGeoSeries\u001B[49m\u001B[43m(\u001B[49m\u001B[43mcrs\u001B[49m\u001B[38;5;241;43m=\u001B[39;49m\u001B[43mcrs\u001B[49m\u001B[43m)\u001B[49m\u001B[38;5;241m.\u001B[39mcrs\u001B[38;5;241m.\u001B[39mis_projected\n",
      "File \u001B[0;32m~/opt/anaconda3/lib/python3.9/site-packages/geopandas/geoseries.py:199\u001B[0m, in \u001B[0;36mGeoSeries.__init__\u001B[0;34m(self, data, index, crs, **kwargs)\u001B[0m\n\u001B[1;32m    197\u001B[0m     warnings\u001B[38;5;241m.\u001B[39mfilterwarnings(\u001B[38;5;124m\"\u001B[39m\u001B[38;5;124mignore\u001B[39m\u001B[38;5;124m\"\u001B[39m, empty_msg, \u001B[38;5;167;01mDeprecationWarning\u001B[39;00m)\n\u001B[1;32m    198\u001B[0m     warnings\u001B[38;5;241m.\u001B[39mfilterwarnings(\u001B[38;5;124m\"\u001B[39m\u001B[38;5;124mignore\u001B[39m\u001B[38;5;124m\"\u001B[39m, empty_msg, \u001B[38;5;167;01mFutureWarning\u001B[39;00m)\n\u001B[0;32m--> 199\u001B[0m     s \u001B[38;5;241m=\u001B[39m \u001B[43mpd\u001B[49m\u001B[38;5;241;43m.\u001B[39;49m\u001B[43mSeries\u001B[49m\u001B[43m(\u001B[49m\u001B[43mdata\u001B[49m\u001B[43m,\u001B[49m\u001B[43m \u001B[49m\u001B[43mindex\u001B[49m\u001B[38;5;241;43m=\u001B[39;49m\u001B[43mindex\u001B[49m\u001B[43m,\u001B[49m\u001B[43m \u001B[49m\u001B[43mname\u001B[49m\u001B[38;5;241;43m=\u001B[39;49m\u001B[43mname\u001B[49m\u001B[43m,\u001B[49m\u001B[43m \u001B[49m\u001B[38;5;241;43m*\u001B[39;49m\u001B[38;5;241;43m*\u001B[39;49m\u001B[43mkwargs\u001B[49m\u001B[43m)\u001B[49m\n\u001B[1;32m    200\u001B[0m \u001B[38;5;66;03m# prevent trying to convert non-geometry objects\u001B[39;00m\n\u001B[1;32m    201\u001B[0m \u001B[38;5;28;01mif\u001B[39;00m s\u001B[38;5;241m.\u001B[39mdtype \u001B[38;5;241m!=\u001B[39m \u001B[38;5;28mobject\u001B[39m:\n",
      "File \u001B[0;32m~/opt/anaconda3/lib/python3.9/site-packages/pandas/core/series.py:374\u001B[0m, in \u001B[0;36mSeries.__init__\u001B[0;34m(self, data, index, dtype, name, copy, fastpath)\u001B[0m\n\u001B[1;32m    365\u001B[0m name \u001B[38;5;241m=\u001B[39m ibase\u001B[38;5;241m.\u001B[39mmaybe_extract_name(name, data, \u001B[38;5;28mtype\u001B[39m(\u001B[38;5;28mself\u001B[39m))\n\u001B[1;32m    367\u001B[0m \u001B[38;5;28;01mif\u001B[39;00m is_empty_data(data) \u001B[38;5;129;01mand\u001B[39;00m dtype \u001B[38;5;129;01mis\u001B[39;00m \u001B[38;5;28;01mNone\u001B[39;00m:\n\u001B[1;32m    368\u001B[0m     \u001B[38;5;66;03m# gh-17261\u001B[39;00m\n\u001B[1;32m    369\u001B[0m     warnings\u001B[38;5;241m.\u001B[39mwarn(\n\u001B[1;32m    370\u001B[0m         \u001B[38;5;124m\"\u001B[39m\u001B[38;5;124mThe default dtype for empty Series will be \u001B[39m\u001B[38;5;124m'\u001B[39m\u001B[38;5;124mobject\u001B[39m\u001B[38;5;124m'\u001B[39m\u001B[38;5;124m instead \u001B[39m\u001B[38;5;124m\"\u001B[39m\n\u001B[1;32m    371\u001B[0m         \u001B[38;5;124m\"\u001B[39m\u001B[38;5;124mof \u001B[39m\u001B[38;5;124m'\u001B[39m\u001B[38;5;124mfloat64\u001B[39m\u001B[38;5;124m'\u001B[39m\u001B[38;5;124m in a future version. Specify a dtype explicitly \u001B[39m\u001B[38;5;124m\"\u001B[39m\n\u001B[1;32m    372\u001B[0m         \u001B[38;5;124m\"\u001B[39m\u001B[38;5;124mto silence this warning.\u001B[39m\u001B[38;5;124m\"\u001B[39m,\n\u001B[1;32m    373\u001B[0m         \u001B[38;5;167;01mFutureWarning\u001B[39;00m,\n\u001B[0;32m--> 374\u001B[0m         stacklevel\u001B[38;5;241m=\u001B[39m\u001B[43mfind_stack_level\u001B[49m\u001B[43m(\u001B[49m\u001B[43m)\u001B[49m,\n\u001B[1;32m    375\u001B[0m     )\n\u001B[1;32m    376\u001B[0m     \u001B[38;5;66;03m# uncomment the line below when removing the FutureWarning\u001B[39;00m\n\u001B[1;32m    377\u001B[0m     \u001B[38;5;66;03m# dtype = np.dtype(object)\u001B[39;00m\n\u001B[1;32m    379\u001B[0m \u001B[38;5;28;01mif\u001B[39;00m index \u001B[38;5;129;01mis\u001B[39;00m \u001B[38;5;129;01mnot\u001B[39;00m \u001B[38;5;28;01mNone\u001B[39;00m:\n",
      "File \u001B[0;32m~/opt/anaconda3/lib/python3.9/site-packages/pandas/util/_exceptions.py:32\u001B[0m, in \u001B[0;36mfind_stack_level\u001B[0;34m()\u001B[0m\n\u001B[1;32m     27\u001B[0m \u001B[38;5;28;01mdef\u001B[39;00m \u001B[38;5;21mfind_stack_level\u001B[39m() \u001B[38;5;241m-\u001B[39m\u001B[38;5;241m>\u001B[39m \u001B[38;5;28mint\u001B[39m:\n\u001B[1;32m     28\u001B[0m     \u001B[38;5;124;03m\"\"\"\u001B[39;00m\n\u001B[1;32m     29\u001B[0m \u001B[38;5;124;03m    Find the first place in the stack that is not inside pandas\u001B[39;00m\n\u001B[1;32m     30\u001B[0m \u001B[38;5;124;03m    (tests notwithstanding).\u001B[39;00m\n\u001B[1;32m     31\u001B[0m \u001B[38;5;124;03m    \"\"\"\u001B[39;00m\n\u001B[0;32m---> 32\u001B[0m     stack \u001B[38;5;241m=\u001B[39m \u001B[43minspect\u001B[49m\u001B[38;5;241;43m.\u001B[39;49m\u001B[43mstack\u001B[49m\u001B[43m(\u001B[49m\u001B[43m)\u001B[49m\n\u001B[1;32m     34\u001B[0m     \u001B[38;5;28;01mimport\u001B[39;00m \u001B[38;5;21;01mpandas\u001B[39;00m \u001B[38;5;28;01mas\u001B[39;00m \u001B[38;5;21;01mpd\u001B[39;00m\n\u001B[1;32m     36\u001B[0m     pkg_dir \u001B[38;5;241m=\u001B[39m os\u001B[38;5;241m.\u001B[39mpath\u001B[38;5;241m.\u001B[39mdirname(pd\u001B[38;5;241m.\u001B[39m\u001B[38;5;18m__file__\u001B[39m)\n",
      "File \u001B[0;32m~/opt/anaconda3/lib/python3.9/inspect.py:1554\u001B[0m, in \u001B[0;36mstack\u001B[0;34m(context)\u001B[0m\n\u001B[1;32m   1552\u001B[0m \u001B[38;5;28;01mdef\u001B[39;00m \u001B[38;5;21mstack\u001B[39m(context\u001B[38;5;241m=\u001B[39m\u001B[38;5;241m1\u001B[39m):\n\u001B[1;32m   1553\u001B[0m     \u001B[38;5;124;03m\"\"\"Return a list of records for the stack above the caller's frame.\"\"\"\u001B[39;00m\n\u001B[0;32m-> 1554\u001B[0m     \u001B[38;5;28;01mreturn\u001B[39;00m \u001B[43mgetouterframes\u001B[49m\u001B[43m(\u001B[49m\u001B[43msys\u001B[49m\u001B[38;5;241;43m.\u001B[39;49m\u001B[43m_getframe\u001B[49m\u001B[43m(\u001B[49m\u001B[38;5;241;43m1\u001B[39;49m\u001B[43m)\u001B[49m\u001B[43m,\u001B[49m\u001B[43m \u001B[49m\u001B[43mcontext\u001B[49m\u001B[43m)\u001B[49m\n",
      "File \u001B[0;32m~/opt/anaconda3/lib/python3.9/inspect.py:1531\u001B[0m, in \u001B[0;36mgetouterframes\u001B[0;34m(frame, context)\u001B[0m\n\u001B[1;32m   1529\u001B[0m framelist \u001B[38;5;241m=\u001B[39m []\n\u001B[1;32m   1530\u001B[0m \u001B[38;5;28;01mwhile\u001B[39;00m frame:\n\u001B[0;32m-> 1531\u001B[0m     frameinfo \u001B[38;5;241m=\u001B[39m (frame,) \u001B[38;5;241m+\u001B[39m \u001B[43mgetframeinfo\u001B[49m\u001B[43m(\u001B[49m\u001B[43mframe\u001B[49m\u001B[43m,\u001B[49m\u001B[43m \u001B[49m\u001B[43mcontext\u001B[49m\u001B[43m)\u001B[49m\n\u001B[1;32m   1532\u001B[0m     framelist\u001B[38;5;241m.\u001B[39mappend(FrameInfo(\u001B[38;5;241m*\u001B[39mframeinfo))\n\u001B[1;32m   1533\u001B[0m     frame \u001B[38;5;241m=\u001B[39m frame\u001B[38;5;241m.\u001B[39mf_back\n",
      "File \u001B[0;32m~/opt/anaconda3/lib/python3.9/inspect.py:1501\u001B[0m, in \u001B[0;36mgetframeinfo\u001B[0;34m(frame, context)\u001B[0m\n\u001B[1;32m   1498\u001B[0m \u001B[38;5;28;01mif\u001B[39;00m \u001B[38;5;129;01mnot\u001B[39;00m isframe(frame):\n\u001B[1;32m   1499\u001B[0m     \u001B[38;5;28;01mraise\u001B[39;00m \u001B[38;5;167;01mTypeError\u001B[39;00m(\u001B[38;5;124m'\u001B[39m\u001B[38;5;132;01m{!r}\u001B[39;00m\u001B[38;5;124m is not a frame or traceback object\u001B[39m\u001B[38;5;124m'\u001B[39m\u001B[38;5;241m.\u001B[39mformat(frame))\n\u001B[0;32m-> 1501\u001B[0m filename \u001B[38;5;241m=\u001B[39m \u001B[43mgetsourcefile\u001B[49m\u001B[43m(\u001B[49m\u001B[43mframe\u001B[49m\u001B[43m)\u001B[49m \u001B[38;5;129;01mor\u001B[39;00m getfile(frame)\n\u001B[1;32m   1502\u001B[0m \u001B[38;5;28;01mif\u001B[39;00m context \u001B[38;5;241m>\u001B[39m \u001B[38;5;241m0\u001B[39m:\n\u001B[1;32m   1503\u001B[0m     start \u001B[38;5;241m=\u001B[39m lineno \u001B[38;5;241m-\u001B[39m \u001B[38;5;241m1\u001B[39m \u001B[38;5;241m-\u001B[39m context\u001B[38;5;241m/\u001B[39m\u001B[38;5;241m/\u001B[39m\u001B[38;5;241m2\u001B[39m\n",
      "File \u001B[0;32m~/opt/anaconda3/lib/python3.9/inspect.py:709\u001B[0m, in \u001B[0;36mgetsourcefile\u001B[0;34m(object)\u001B[0m\n\u001B[1;32m    707\u001B[0m     \u001B[38;5;28;01mreturn\u001B[39;00m filename\n\u001B[1;32m    708\u001B[0m \u001B[38;5;66;03m# only return a non-existent filename if the module has a PEP 302 loader\u001B[39;00m\n\u001B[0;32m--> 709\u001B[0m \u001B[38;5;28;01mif\u001B[39;00m \u001B[38;5;28mgetattr\u001B[39m(\u001B[43mgetmodule\u001B[49m\u001B[43m(\u001B[49m\u001B[38;5;28;43mobject\u001B[39;49m\u001B[43m,\u001B[49m\u001B[43m \u001B[49m\u001B[43mfilename\u001B[49m\u001B[43m)\u001B[49m, \u001B[38;5;124m'\u001B[39m\u001B[38;5;124m__loader__\u001B[39m\u001B[38;5;124m'\u001B[39m, \u001B[38;5;28;01mNone\u001B[39;00m) \u001B[38;5;129;01mis\u001B[39;00m \u001B[38;5;129;01mnot\u001B[39;00m \u001B[38;5;28;01mNone\u001B[39;00m:\n\u001B[1;32m    710\u001B[0m     \u001B[38;5;28;01mreturn\u001B[39;00m filename\n\u001B[1;32m    711\u001B[0m \u001B[38;5;66;03m# or it is in the linecache\u001B[39;00m\n",
      "File \u001B[0;32m~/opt/anaconda3/lib/python3.9/inspect.py:745\u001B[0m, in \u001B[0;36mgetmodule\u001B[0;34m(object, _filename)\u001B[0m\n\u001B[1;32m    742\u001B[0m     \u001B[38;5;28;01mreturn\u001B[39;00m sys\u001B[38;5;241m.\u001B[39mmodules\u001B[38;5;241m.\u001B[39mget(modulesbyfile[file])\n\u001B[1;32m    743\u001B[0m \u001B[38;5;66;03m# Update the filename to module name cache and check yet again\u001B[39;00m\n\u001B[1;32m    744\u001B[0m \u001B[38;5;66;03m# Copy sys.modules in order to cope with changes while iterating\u001B[39;00m\n\u001B[0;32m--> 745\u001B[0m \u001B[38;5;28;01mfor\u001B[39;00m modname, module \u001B[38;5;129;01min\u001B[39;00m sys\u001B[38;5;241m.\u001B[39mmodules\u001B[38;5;241m.\u001B[39mcopy()\u001B[38;5;241m.\u001B[39mitems():\n\u001B[1;32m    746\u001B[0m     \u001B[38;5;28;01mif\u001B[39;00m ismodule(module) \u001B[38;5;129;01mand\u001B[39;00m \u001B[38;5;28mhasattr\u001B[39m(module, \u001B[38;5;124m'\u001B[39m\u001B[38;5;124m__file__\u001B[39m\u001B[38;5;124m'\u001B[39m):\n\u001B[1;32m    747\u001B[0m         f \u001B[38;5;241m=\u001B[39m module\u001B[38;5;241m.\u001B[39m\u001B[38;5;18m__file__\u001B[39m\n",
      "\u001B[0;31mKeyboardInterrupt\u001B[0m: "
     ]
    }
   ],
   "source": [
    "start_date = incidents['Т события'].min()\n",
    "end_date = incidents['Т события'].max()\n",
    "distribute_and_save_assignments(incidents, brigades, start_date, end_date, G)"
   ],
   "metadata": {
    "collapsed": false,
    "ExecuteTime": {
     "end_time": "2024-04-01T23:43:15.404347Z",
     "start_time": "2024-04-01T23:43:04.474457Z"
    }
   },
   "id": "db023ed8d96c150",
   "execution_count": 29
  },
  {
   "cell_type": "code",
   "outputs": [],
   "source": [],
   "metadata": {
    "collapsed": false
   },
   "id": "3a5a3e84ddad7866"
  }
 ],
 "metadata": {
  "kernelspec": {
   "display_name": "Python 3",
   "language": "python",
   "name": "python3"
  },
  "language_info": {
   "codemirror_mode": {
    "name": "ipython",
    "version": 2
   },
   "file_extension": ".py",
   "mimetype": "text/x-python",
   "name": "python",
   "nbconvert_exporter": "python",
   "pygments_lexer": "ipython2",
   "version": "2.7.6"
  }
 },
 "nbformat": 4,
 "nbformat_minor": 5
}
