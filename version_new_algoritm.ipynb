{
 "cells": [
  {
   "cell_type": "code",
   "outputs": [],
   "source": [
    "import pandas as pd\n",
    "import numpy as np\n",
    "from datetime import datetime, timedelta\n",
    "import osmnx as ox\n",
    "import networkx as nx\n",
    "from scipy.optimize import linear_sum_assignment\n",
    "from geopy.distance import geodesic"
   ],
   "metadata": {
    "collapsed": false,
    "ExecuteTime": {
     "end_time": "2024-04-08T00:12:51.886119Z",
     "start_time": "2024-04-08T00:12:51.881350Z"
    }
   },
   "id": "1e967a44fc5f843f",
   "execution_count": 4
  },
  {
   "cell_type": "code",
   "outputs": [],
   "source": [
    "def get_shortest_path_length(G, start_point, end_point):\n",
    "    start_node = ox.distance.nearest_nodes(G, start_point[1], start_point[0])\n",
    "    end_node = ox.distance.nearest_nodes(G, end_point[1], end_point[0])\n",
    "    length = nx.shortest_path_length(G, start_node, end_node, weight='length')\n",
    "    return length / 1000  # Возвращаем длину в километрах"
   ],
   "metadata": {
    "collapsed": false,
    "ExecuteTime": {
     "end_time": "2024-04-08T00:12:51.903242Z",
     "start_time": "2024-04-08T00:12:51.897280Z"
    }
   },
   "id": "6b4a148ce7ffaa7",
   "execution_count": 5
  },
  {
   "cell_type": "code",
   "outputs": [],
   "source": [
    "def calculate_travel_time(distance, speed=40):\n",
    "    return distance / speed  # Время в часах"
   ],
   "metadata": {
    "collapsed": false,
    "ExecuteTime": {
     "end_time": "2024-04-08T00:12:51.928512Z",
     "start_time": "2024-04-08T00:12:51.924247Z"
    }
   },
   "id": "3da225cc3d51b2",
   "execution_count": 6
  },
  {
   "cell_type": "code",
   "outputs": [],
   "source": [
    "def get_brigade_coords(brigade_name, incident_date):\n",
    "    if brigade_name == 'D' and incident_date >= datetime(2023, 12, 15):\n",
    "        return brigades['D_new']\n",
    "    else:\n",
    "        return brigades[brigade_name]"
   ],
   "metadata": {
    "collapsed": false,
    "ExecuteTime": {
     "end_time": "2024-04-08T00:12:51.935412Z",
     "start_time": "2024-04-08T00:12:51.930665Z"
    }
   },
   "id": "62c41202c156d3a",
   "execution_count": 7
  },
  {
   "cell_type": "code",
   "outputs": [],
   "source": [
    "def adjust_start_time_for_shift_change(incident_time, brigade_name):\n",
    "    shift_start_hour = 9 if brigade_name in ['A', 'C'] else 8\n",
    "    shift_change_time = datetime(incident_time.year, incident_time.month, incident_time.day, shift_start_hour)\n",
    "    if incident_time < shift_change_time:\n",
    "        return max(incident_time, shift_change_time + timedelta(minutes=30))\n",
    "    else:\n",
    "        return incident_time + timedelta(minutes=30)"
   ],
   "metadata": {
    "collapsed": false,
    "ExecuteTime": {
     "end_time": "2024-04-08T00:12:51.952720Z",
     "start_time": "2024-04-08T00:12:51.945678Z"
    }
   },
   "id": "8d36c230e8fb84d8",
   "execution_count": 8
  },
  {
   "cell_type": "code",
   "outputs": [],
   "source": [
    "brigades = {\n",
    "    \"A\": (55.818119, 37.578991),\n",
    "    \"B\": (55.753185, 37.410267),\n",
    "    \"C\": (55.793629, 37.708969),\n",
    "    \"D\": (55.638885, 37.761070),\n",
    "    \"D_new\": (55.837784, 37.655743)\n",
    "}"
   ],
   "metadata": {
    "collapsed": false,
    "ExecuteTime": {
     "end_time": "2024-04-08T00:12:52.011342Z",
     "start_time": "2024-04-08T00:12:52.004962Z"
    }
   },
   "id": "94f718bed9daa68",
   "execution_count": 9
  },
  {
   "cell_type": "code",
   "outputs": [],
   "source": [
    "incidents = pd.read_excel('2023new.xlsx')\n",
    "incidents['Широта'] = pd.to_numeric(incidents['Широта'], errors='coerce')\n",
    "incidents['Долгота'] = pd.to_numeric(incidents['Долгота'], errors='coerce')\n",
    "incidents.dropna(subset=['Широта', 'Долгота'], inplace=True)\n",
    "incidents['Т события'] = pd.to_datetime(incidents['Т события'])"
   ],
   "metadata": {
    "collapsed": false,
    "ExecuteTime": {
     "end_time": "2024-04-08T00:12:54.391458Z",
     "start_time": "2024-04-08T00:12:52.027276Z"
    }
   },
   "id": "cb4d96126cf279f5",
   "execution_count": 10
  },
  {
   "cell_type": "code",
   "outputs": [],
   "source": [
    "G = ox.graph_from_place('Moscow, Russia', network_type='drive')\n",
    "G = ox.project_graph(G)\n",
    "G = nx.convert_node_labels_to_integers(G)"
   ],
   "metadata": {
    "collapsed": false,
    "ExecuteTime": {
     "end_time": "2024-04-08T00:14:14.655572Z",
     "start_time": "2024-04-08T00:12:54.395687Z"
    }
   },
   "id": "40c25130e281144d",
   "execution_count": 11
  },
  {
   "cell_type": "code",
   "outputs": [],
   "source": [
    "# Типо матрица затрат\n",
    "def calculate_cost_matrix(incidents, brigades, G):\n",
    "    cost_matrix = []\n",
    "    for _, incident in incidents.iterrows():\n",
    "        costs = []\n",
    "        incident_coord = (incident['Широта'], incident['Долгота'])\n",
    "        for brigade_name in brigades.keys():\n",
    "            brigade_coord = get_brigade_coords(brigade_name, incident['Т события'])\n",
    "            path_length = get_shortest_path_length(G, brigade_coord, incident_coord)\n",
    "            travel_time_hours = calculate_travel_time(path_length)\n",
    "            costs.append(travel_time_hours)\n",
    "        cost_matrix.append(costs)\n",
    "    return np.array(cost_matrix)"
   ],
   "metadata": {
    "collapsed": false,
    "ExecuteTime": {
     "end_time": "2024-04-08T00:14:14.664173Z",
     "start_time": "2024-04-08T00:14:14.657636Z"
    }
   },
   "id": "d0e44c2e6d841ef",
   "execution_count": 12
  },
  {
   "cell_type": "code",
   "outputs": [],
   "source": [
    "def assign_incidents_kuhn_munkres(incidents, brigades, G):\n",
    "    cost_matrix = calculate_cost_matrix(incidents, brigades, G)\n",
    "    row_ind, col_ind = linear_sum_assignment(cost_matrix)\n",
    "    assignments = [(incidents.iloc[row]['№ МИ'], list(brigades.keys())[col]) for row, col in zip(row_ind, col_ind)]\n",
    "    return assignments"
   ],
   "metadata": {
    "collapsed": false,
    "ExecuteTime": {
     "end_time": "2024-04-08T00:14:14.674602Z",
     "start_time": "2024-04-08T00:14:14.669267Z"
    }
   },
   "id": "7a3c4983f18e73fe",
   "execution_count": 13
  },
  {
   "cell_type": "code",
   "outputs": [],
   "source": [
    "# Главная функция для распределения и сохранения результатов\n",
    "def distribute_and_save_assignments(incidents, brigades, start_date, end_date, G, filename='assignments_kuhn_munkres.csv'):\n",
    "    all_assignments = []\n",
    "    for single_date in pd.date_range(start=start_date, end=end_date):\n",
    "        daily_incidents = incidents[incidents['Т события'].dt.date == single_date.date()]\n",
    "        if not daily_incidents.empty:\n",
    "            cost_matrix = calculate_cost_matrix(daily_incidents, brigades, G)\n",
    "            row_ind, col_ind = linear_sum_assignment(cost_matrix)\n",
    "            for row, col in zip(row_ind, col_ind):\n",
    "                incident_id = daily_incidents.iloc[row]['№ МИ']\n",
    "                brigade_name = list(brigades.keys())[col]\n",
    "                incident_record = daily_incidents.iloc[row]\n",
    "                start_work_time = incident_record['Т события'] + timedelta(hours=cost_matrix[row, col])\n",
    "                end_work_time = start_work_time + timedelta(minutes=30)  # Примерное время завершения работы\n",
    "\n",
    "                all_assignments.append({\n",
    "                    'Date': single_date.strftime('%Y-%m-%d'),\n",
    "                    'Incident ID': incident_id,\n",
    "                    'Assigned Brigade': brigade_name,\n",
    "                    'Time Assigned': incident_record['Т события'].strftime('%Y-%m-%d %H:%M:%S'),\n",
    "                    'Estimated End Time': end_work_time.strftime('%Y-%m-%d %H:%M:%S'),\n",
    "                    'Deadline': incident_record['Крайний срок'].strftime('%Y-%m-%d %H:%M:%S') if pd.notnull(incident_record['Крайний срок']) else 'N/A'\n",
    "                })\n",
    "\n",
    "    assignments_df = pd.DataFrame(all_assignments)\n",
    "    assignments_df.to_csv(filename, index=False)\n",
    "    print(f\"Saved assignments to {filename}\")"
   ],
   "metadata": {
    "collapsed": false,
    "ExecuteTime": {
     "end_time": "2024-04-08T00:14:14.688699Z",
     "start_time": "2024-04-08T00:14:14.677187Z"
    }
   },
   "id": "e271c969e1a9a7df",
   "execution_count": 14
  },
  {
   "cell_type": "code",
   "outputs": [],
   "source": [
    "start_date = incidents['Т события'].min()\n",
    "end_date = incidents['Т события'].max()\n",
    "distribute_and_save_assignments(incidents, brigades, start_date, end_date, G)"
   ],
   "metadata": {
    "collapsed": false,
    "is_executing": true,
    "ExecuteTime": {
     "start_time": "2024-04-08T07:00:39.116493Z"
    }
   },
   "id": "db023ed8d96c150",
   "execution_count": null
  },
  {
   "cell_type": "code",
   "outputs": [],
   "source": [],
   "metadata": {
    "collapsed": false
   },
   "id": "3a5a3e84ddad7866"
  }
 ],
 "metadata": {
  "kernelspec": {
   "display_name": "Python 3",
   "language": "python",
   "name": "python3"
  },
  "language_info": {
   "codemirror_mode": {
    "name": "ipython",
    "version": 2
   },
   "file_extension": ".py",
   "mimetype": "text/x-python",
   "name": "python",
   "nbconvert_exporter": "python",
   "pygments_lexer": "ipython2",
   "version": "2.7.6"
  }
 },
 "nbformat": 4,
 "nbformat_minor": 5
}
